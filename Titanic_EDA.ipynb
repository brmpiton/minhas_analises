{
  "nbformat": 4,
  "nbformat_minor": 0,
  "metadata": {
    "colab": {
      "provenance": [],
      "collapsed_sections": [
        "JIAD70C3QpeU",
        "YdkFaDHtTO2H",
        "LbWGq66CpAYo",
        "wXXETuvXoC0b",
        "s8fj2Bo2pNpy",
        "Lm-HIe32pRQO",
        "OcAgC10JpSDo",
        "6uyB6lvlpiiA"
      ],
      "authorship_tag": "ABX9TyMZCSNpxdVkd4J/pJAG+AHo",
      "include_colab_link": true
    },
    "kernelspec": {
      "name": "python3",
      "display_name": "Python 3"
    },
    "language_info": {
      "name": "python"
    }
  },
  "cells": [
    {
      "cell_type": "markdown",
      "metadata": {
        "id": "view-in-github",
        "colab_type": "text"
      },
      "source": [
        "<a href=\"https://colab.research.google.com/github/brmpiton/minhas_analises/blob/main/Titanic_EDA.ipynb\" target=\"_parent\"><img src=\"https://colab.research.google.com/assets/colab-badge.svg\" alt=\"Open In Colab\"/></a>"
      ]
    },
    {
      "cell_type": "markdown",
      "source": [
        "  O **objetivo** desta analise é fazer um estudo em cima dos dados do  desastre envolvendo a famosa embarcação britânica 'RMS Titanic' que ocorreu em 1912, que culminou em seu naufrágio nas águas do oceano atlântico. "
      ],
      "metadata": {
        "id": "kwa56RQZyUS4"
      }
    },
    {
      "cell_type": "markdown",
      "source": [
        "O **dataset** utilizado está disponível no Kaggle (https://www.kaggle.com/competitions/titanic) e é utilizado por muitos iniciantes em Data Science como um estudo/ desafio."
      ],
      "metadata": {
        "id": "jjVSevoSmW_C"
      }
    },
    {
      "cell_type": "markdown",
      "source": [
        "Aqui, o estudo ficará somente na Análise dos dados, sem ter como uma das etapas criar um modelo de classificação para predizer se as pessoas iriam morrer ou sobreviver."
      ],
      "metadata": {
        "id": "UxGdcg4yqSaq"
      }
    },
    {
      "cell_type": "markdown",
      "source": [
        "Essa é minha primeira análise e foi feita totalmente do zero, na qual me apliquei por duas semanas, usando a maior parte do tempo reestudando e fixando os materiais utilizados para entrar na area da data science analytics ( plataforma Alura de cursos ) assim como lendo e estudando outras análises sobre diversos outros datasets no Medium."
      ],
      "metadata": {
        "id": "GdeEekwcqk-C"
      }
    },
    {
      "cell_type": "markdown",
      "source": [
        "**Variáveis** do dataset:\n",
        "\n",
        "PassengerId: \n",
        "\n",
        "Survived: Se o passageiro sobreviveu ou não do desastre (0= Não, 1= Sim).\n",
        "\n",
        "Pclass: A classe que o passageiro viajou (1= 1º classe, 2= 2º classe, 3= 3º classe).\n",
        "\n",
        "Name: Nome do passageiro.\n",
        "\n",
        "Sex: Sexo do passageiro.\n",
        "\n",
        "Age: Idade do passageiro.\n",
        "\n",
        "SibSp: SIBlings(irmãos) + SPouse(marido ou esposa): Quantas irmãos e marido/esposa haviam no navio.\n",
        "\n",
        "Parch: PARents (Pai/mãe) + CHildren(filhos/crianças): Quantos pai/mãe e crianças relativas ao passageiro estavam no navio.\n",
        "\n",
        "Ticket: Número do ticket da passagem.\n",
        "\n",
        "Fare: Preço da passagem.\n",
        "\n",
        "Cabin: O código da cabine do passageiro.\n",
        "\n",
        "Embarked: O local onde o passageiro embarcou (S= Southampton, Q = Queenstown, C = Cherbourg)"
      ],
      "metadata": {
        "id": "MfzqhnJruI_W"
      }
    },
    {
      "cell_type": "markdown",
      "source": [
        "# Data Extraction"
      ],
      "metadata": {
        "id": "JIAD70C3QpeU"
      }
    },
    {
      "cell_type": "code",
      "execution_count": 1,
      "metadata": {
        "id": "Jaw7KIeEPr7g"
      },
      "outputs": [],
      "source": [
        "#Carregando os arquivos (São 3 datasets. Vamos carregá-los e depois juntar num só)\n",
        "import pandas as pd\n",
        "import seaborn as sns\n",
        "import matplotlib.pyplot as plt\n",
        "\n",
        "# OBS: Como esse dataset é voltado para uma competição de predição sobre a sobrevivência, ele vem separado em treino e teste(test.csv + gender_submission(É o target do test)).\n",
        "train = pd.read_csv('train.csv')\n",
        "gender_submission = pd.read_csv('gender_submission.csv')\n",
        "test = pd.read_csv('test.csv')"
      ]
    },
    {
      "cell_type": "code",
      "source": [
        "train[:3]"
      ],
      "metadata": {
        "colab": {
          "base_uri": "https://localhost:8080/",
          "height": 143
        },
        "id": "QuVAH32VP0uK",
        "outputId": "a92cac59-eb74-4323-c78c-ad3c3798a16a"
      },
      "execution_count": 2,
      "outputs": [
        {
          "output_type": "execute_result",
          "data": {
            "text/plain": [
              "   PassengerId  Survived  Pclass  \\\n",
              "0            1         0       3   \n",
              "1            2         1       1   \n",
              "2            3         1       3   \n",
              "\n",
              "                                                Name     Sex   Age  SibSp  \\\n",
              "0                            Braund, Mr. Owen Harris    male  22.0      1   \n",
              "1  Cumings, Mrs. John Bradley (Florence Briggs Th...  female  38.0      1   \n",
              "2                             Heikkinen, Miss. Laina  female  26.0      0   \n",
              "\n",
              "   Parch            Ticket     Fare Cabin Embarked  \n",
              "0      0         A/5 21171   7.2500   NaN        S  \n",
              "1      0          PC 17599  71.2833   C85        C  \n",
              "2      0  STON/O2. 3101282   7.9250   NaN        S  "
            ],
            "text/html": [
              "\n",
              "  <div id=\"df-24c38e3a-3985-4d4f-9af1-3852f5ba7f50\">\n",
              "    <div class=\"colab-df-container\">\n",
              "      <div>\n",
              "<style scoped>\n",
              "    .dataframe tbody tr th:only-of-type {\n",
              "        vertical-align: middle;\n",
              "    }\n",
              "\n",
              "    .dataframe tbody tr th {\n",
              "        vertical-align: top;\n",
              "    }\n",
              "\n",
              "    .dataframe thead th {\n",
              "        text-align: right;\n",
              "    }\n",
              "</style>\n",
              "<table border=\"1\" class=\"dataframe\">\n",
              "  <thead>\n",
              "    <tr style=\"text-align: right;\">\n",
              "      <th></th>\n",
              "      <th>PassengerId</th>\n",
              "      <th>Survived</th>\n",
              "      <th>Pclass</th>\n",
              "      <th>Name</th>\n",
              "      <th>Sex</th>\n",
              "      <th>Age</th>\n",
              "      <th>SibSp</th>\n",
              "      <th>Parch</th>\n",
              "      <th>Ticket</th>\n",
              "      <th>Fare</th>\n",
              "      <th>Cabin</th>\n",
              "      <th>Embarked</th>\n",
              "    </tr>\n",
              "  </thead>\n",
              "  <tbody>\n",
              "    <tr>\n",
              "      <th>0</th>\n",
              "      <td>1</td>\n",
              "      <td>0</td>\n",
              "      <td>3</td>\n",
              "      <td>Braund, Mr. Owen Harris</td>\n",
              "      <td>male</td>\n",
              "      <td>22.0</td>\n",
              "      <td>1</td>\n",
              "      <td>0</td>\n",
              "      <td>A/5 21171</td>\n",
              "      <td>7.2500</td>\n",
              "      <td>NaN</td>\n",
              "      <td>S</td>\n",
              "    </tr>\n",
              "    <tr>\n",
              "      <th>1</th>\n",
              "      <td>2</td>\n",
              "      <td>1</td>\n",
              "      <td>1</td>\n",
              "      <td>Cumings, Mrs. John Bradley (Florence Briggs Th...</td>\n",
              "      <td>female</td>\n",
              "      <td>38.0</td>\n",
              "      <td>1</td>\n",
              "      <td>0</td>\n",
              "      <td>PC 17599</td>\n",
              "      <td>71.2833</td>\n",
              "      <td>C85</td>\n",
              "      <td>C</td>\n",
              "    </tr>\n",
              "    <tr>\n",
              "      <th>2</th>\n",
              "      <td>3</td>\n",
              "      <td>1</td>\n",
              "      <td>3</td>\n",
              "      <td>Heikkinen, Miss. Laina</td>\n",
              "      <td>female</td>\n",
              "      <td>26.0</td>\n",
              "      <td>0</td>\n",
              "      <td>0</td>\n",
              "      <td>STON/O2. 3101282</td>\n",
              "      <td>7.9250</td>\n",
              "      <td>NaN</td>\n",
              "      <td>S</td>\n",
              "    </tr>\n",
              "  </tbody>\n",
              "</table>\n",
              "</div>\n",
              "      <button class=\"colab-df-convert\" onclick=\"convertToInteractive('df-24c38e3a-3985-4d4f-9af1-3852f5ba7f50')\"\n",
              "              title=\"Convert this dataframe to an interactive table.\"\n",
              "              style=\"display:none;\">\n",
              "        \n",
              "  <svg xmlns=\"http://www.w3.org/2000/svg\" height=\"24px\"viewBox=\"0 0 24 24\"\n",
              "       width=\"24px\">\n",
              "    <path d=\"M0 0h24v24H0V0z\" fill=\"none\"/>\n",
              "    <path d=\"M18.56 5.44l.94 2.06.94-2.06 2.06-.94-2.06-.94-.94-2.06-.94 2.06-2.06.94zm-11 1L8.5 8.5l.94-2.06 2.06-.94-2.06-.94L8.5 2.5l-.94 2.06-2.06.94zm10 10l.94 2.06.94-2.06 2.06-.94-2.06-.94-.94-2.06-.94 2.06-2.06.94z\"/><path d=\"M17.41 7.96l-1.37-1.37c-.4-.4-.92-.59-1.43-.59-.52 0-1.04.2-1.43.59L10.3 9.45l-7.72 7.72c-.78.78-.78 2.05 0 2.83L4 21.41c.39.39.9.59 1.41.59.51 0 1.02-.2 1.41-.59l7.78-7.78 2.81-2.81c.8-.78.8-2.07 0-2.86zM5.41 20L4 18.59l7.72-7.72 1.47 1.35L5.41 20z\"/>\n",
              "  </svg>\n",
              "      </button>\n",
              "      \n",
              "  <style>\n",
              "    .colab-df-container {\n",
              "      display:flex;\n",
              "      flex-wrap:wrap;\n",
              "      gap: 12px;\n",
              "    }\n",
              "\n",
              "    .colab-df-convert {\n",
              "      background-color: #E8F0FE;\n",
              "      border: none;\n",
              "      border-radius: 50%;\n",
              "      cursor: pointer;\n",
              "      display: none;\n",
              "      fill: #1967D2;\n",
              "      height: 32px;\n",
              "      padding: 0 0 0 0;\n",
              "      width: 32px;\n",
              "    }\n",
              "\n",
              "    .colab-df-convert:hover {\n",
              "      background-color: #E2EBFA;\n",
              "      box-shadow: 0px 1px 2px rgba(60, 64, 67, 0.3), 0px 1px 3px 1px rgba(60, 64, 67, 0.15);\n",
              "      fill: #174EA6;\n",
              "    }\n",
              "\n",
              "    [theme=dark] .colab-df-convert {\n",
              "      background-color: #3B4455;\n",
              "      fill: #D2E3FC;\n",
              "    }\n",
              "\n",
              "    [theme=dark] .colab-df-convert:hover {\n",
              "      background-color: #434B5C;\n",
              "      box-shadow: 0px 1px 3px 1px rgba(0, 0, 0, 0.15);\n",
              "      filter: drop-shadow(0px 1px 2px rgba(0, 0, 0, 0.3));\n",
              "      fill: #FFFFFF;\n",
              "    }\n",
              "  </style>\n",
              "\n",
              "      <script>\n",
              "        const buttonEl =\n",
              "          document.querySelector('#df-24c38e3a-3985-4d4f-9af1-3852f5ba7f50 button.colab-df-convert');\n",
              "        buttonEl.style.display =\n",
              "          google.colab.kernel.accessAllowed ? 'block' : 'none';\n",
              "\n",
              "        async function convertToInteractive(key) {\n",
              "          const element = document.querySelector('#df-24c38e3a-3985-4d4f-9af1-3852f5ba7f50');\n",
              "          const dataTable =\n",
              "            await google.colab.kernel.invokeFunction('convertToInteractive',\n",
              "                                                     [key], {});\n",
              "          if (!dataTable) return;\n",
              "\n",
              "          const docLinkHtml = 'Like what you see? Visit the ' +\n",
              "            '<a target=\"_blank\" href=https://colab.research.google.com/notebooks/data_table.ipynb>data table notebook</a>'\n",
              "            + ' to learn more about interactive tables.';\n",
              "          element.innerHTML = '';\n",
              "          dataTable['output_type'] = 'display_data';\n",
              "          await google.colab.output.renderOutput(dataTable, element);\n",
              "          const docLink = document.createElement('div');\n",
              "          docLink.innerHTML = docLinkHtml;\n",
              "          element.appendChild(docLink);\n",
              "        }\n",
              "      </script>\n",
              "    </div>\n",
              "  </div>\n",
              "  "
            ]
          },
          "metadata": {},
          "execution_count": 2
        }
      ]
    },
    {
      "cell_type": "code",
      "source": [
        "gender_submission[:3] # Esse dataset é o TARGET do 'test.csv'. Precisamos juntar os dois, para depois juntar com o train."
      ],
      "metadata": {
        "colab": {
          "base_uri": "https://localhost:8080/",
          "height": 143
        },
        "id": "yzz5xFvwP0rb",
        "outputId": "0f774eb1-ac40-4bd6-ae02-101c8ece84c9"
      },
      "execution_count": 3,
      "outputs": [
        {
          "output_type": "execute_result",
          "data": {
            "text/plain": [
              "   PassengerId  Survived\n",
              "0          892         0\n",
              "1          893         1\n",
              "2          894         0"
            ],
            "text/html": [
              "\n",
              "  <div id=\"df-801efd2d-7f71-492a-8f64-ea6c5cb6aac6\">\n",
              "    <div class=\"colab-df-container\">\n",
              "      <div>\n",
              "<style scoped>\n",
              "    .dataframe tbody tr th:only-of-type {\n",
              "        vertical-align: middle;\n",
              "    }\n",
              "\n",
              "    .dataframe tbody tr th {\n",
              "        vertical-align: top;\n",
              "    }\n",
              "\n",
              "    .dataframe thead th {\n",
              "        text-align: right;\n",
              "    }\n",
              "</style>\n",
              "<table border=\"1\" class=\"dataframe\">\n",
              "  <thead>\n",
              "    <tr style=\"text-align: right;\">\n",
              "      <th></th>\n",
              "      <th>PassengerId</th>\n",
              "      <th>Survived</th>\n",
              "    </tr>\n",
              "  </thead>\n",
              "  <tbody>\n",
              "    <tr>\n",
              "      <th>0</th>\n",
              "      <td>892</td>\n",
              "      <td>0</td>\n",
              "    </tr>\n",
              "    <tr>\n",
              "      <th>1</th>\n",
              "      <td>893</td>\n",
              "      <td>1</td>\n",
              "    </tr>\n",
              "    <tr>\n",
              "      <th>2</th>\n",
              "      <td>894</td>\n",
              "      <td>0</td>\n",
              "    </tr>\n",
              "  </tbody>\n",
              "</table>\n",
              "</div>\n",
              "      <button class=\"colab-df-convert\" onclick=\"convertToInteractive('df-801efd2d-7f71-492a-8f64-ea6c5cb6aac6')\"\n",
              "              title=\"Convert this dataframe to an interactive table.\"\n",
              "              style=\"display:none;\">\n",
              "        \n",
              "  <svg xmlns=\"http://www.w3.org/2000/svg\" height=\"24px\"viewBox=\"0 0 24 24\"\n",
              "       width=\"24px\">\n",
              "    <path d=\"M0 0h24v24H0V0z\" fill=\"none\"/>\n",
              "    <path d=\"M18.56 5.44l.94 2.06.94-2.06 2.06-.94-2.06-.94-.94-2.06-.94 2.06-2.06.94zm-11 1L8.5 8.5l.94-2.06 2.06-.94-2.06-.94L8.5 2.5l-.94 2.06-2.06.94zm10 10l.94 2.06.94-2.06 2.06-.94-2.06-.94-.94-2.06-.94 2.06-2.06.94z\"/><path d=\"M17.41 7.96l-1.37-1.37c-.4-.4-.92-.59-1.43-.59-.52 0-1.04.2-1.43.59L10.3 9.45l-7.72 7.72c-.78.78-.78 2.05 0 2.83L4 21.41c.39.39.9.59 1.41.59.51 0 1.02-.2 1.41-.59l7.78-7.78 2.81-2.81c.8-.78.8-2.07 0-2.86zM5.41 20L4 18.59l7.72-7.72 1.47 1.35L5.41 20z\"/>\n",
              "  </svg>\n",
              "      </button>\n",
              "      \n",
              "  <style>\n",
              "    .colab-df-container {\n",
              "      display:flex;\n",
              "      flex-wrap:wrap;\n",
              "      gap: 12px;\n",
              "    }\n",
              "\n",
              "    .colab-df-convert {\n",
              "      background-color: #E8F0FE;\n",
              "      border: none;\n",
              "      border-radius: 50%;\n",
              "      cursor: pointer;\n",
              "      display: none;\n",
              "      fill: #1967D2;\n",
              "      height: 32px;\n",
              "      padding: 0 0 0 0;\n",
              "      width: 32px;\n",
              "    }\n",
              "\n",
              "    .colab-df-convert:hover {\n",
              "      background-color: #E2EBFA;\n",
              "      box-shadow: 0px 1px 2px rgba(60, 64, 67, 0.3), 0px 1px 3px 1px rgba(60, 64, 67, 0.15);\n",
              "      fill: #174EA6;\n",
              "    }\n",
              "\n",
              "    [theme=dark] .colab-df-convert {\n",
              "      background-color: #3B4455;\n",
              "      fill: #D2E3FC;\n",
              "    }\n",
              "\n",
              "    [theme=dark] .colab-df-convert:hover {\n",
              "      background-color: #434B5C;\n",
              "      box-shadow: 0px 1px 3px 1px rgba(0, 0, 0, 0.15);\n",
              "      filter: drop-shadow(0px 1px 2px rgba(0, 0, 0, 0.3));\n",
              "      fill: #FFFFFF;\n",
              "    }\n",
              "  </style>\n",
              "\n",
              "      <script>\n",
              "        const buttonEl =\n",
              "          document.querySelector('#df-801efd2d-7f71-492a-8f64-ea6c5cb6aac6 button.colab-df-convert');\n",
              "        buttonEl.style.display =\n",
              "          google.colab.kernel.accessAllowed ? 'block' : 'none';\n",
              "\n",
              "        async function convertToInteractive(key) {\n",
              "          const element = document.querySelector('#df-801efd2d-7f71-492a-8f64-ea6c5cb6aac6');\n",
              "          const dataTable =\n",
              "            await google.colab.kernel.invokeFunction('convertToInteractive',\n",
              "                                                     [key], {});\n",
              "          if (!dataTable) return;\n",
              "\n",
              "          const docLinkHtml = 'Like what you see? Visit the ' +\n",
              "            '<a target=\"_blank\" href=https://colab.research.google.com/notebooks/data_table.ipynb>data table notebook</a>'\n",
              "            + ' to learn more about interactive tables.';\n",
              "          element.innerHTML = '';\n",
              "          dataTable['output_type'] = 'display_data';\n",
              "          await google.colab.output.renderOutput(dataTable, element);\n",
              "          const docLink = document.createElement('div');\n",
              "          docLink.innerHTML = docLinkHtml;\n",
              "          element.appendChild(docLink);\n",
              "        }\n",
              "      </script>\n",
              "    </div>\n",
              "  </div>\n",
              "  "
            ]
          },
          "metadata": {},
          "execution_count": 3
        }
      ]
    },
    {
      "cell_type": "code",
      "source": [
        "test[:3]"
      ],
      "metadata": {
        "colab": {
          "base_uri": "https://localhost:8080/",
          "height": 143
        },
        "id": "okk3wkwoP0ov",
        "outputId": "a54e33d4-a6db-4b88-be43-0b844b45ae57"
      },
      "execution_count": 4,
      "outputs": [
        {
          "output_type": "execute_result",
          "data": {
            "text/plain": [
              "   PassengerId  Pclass                              Name     Sex   Age  SibSp  \\\n",
              "0          892       3                  Kelly, Mr. James    male  34.5      0   \n",
              "1          893       3  Wilkes, Mrs. James (Ellen Needs)  female  47.0      1   \n",
              "2          894       2         Myles, Mr. Thomas Francis    male  62.0      0   \n",
              "\n",
              "   Parch  Ticket    Fare Cabin Embarked  \n",
              "0      0  330911  7.8292   NaN        Q  \n",
              "1      0  363272  7.0000   NaN        S  \n",
              "2      0  240276  9.6875   NaN        Q  "
            ],
            "text/html": [
              "\n",
              "  <div id=\"df-d0bbc1d1-d46c-42a1-b88a-e85d0be111b7\">\n",
              "    <div class=\"colab-df-container\">\n",
              "      <div>\n",
              "<style scoped>\n",
              "    .dataframe tbody tr th:only-of-type {\n",
              "        vertical-align: middle;\n",
              "    }\n",
              "\n",
              "    .dataframe tbody tr th {\n",
              "        vertical-align: top;\n",
              "    }\n",
              "\n",
              "    .dataframe thead th {\n",
              "        text-align: right;\n",
              "    }\n",
              "</style>\n",
              "<table border=\"1\" class=\"dataframe\">\n",
              "  <thead>\n",
              "    <tr style=\"text-align: right;\">\n",
              "      <th></th>\n",
              "      <th>PassengerId</th>\n",
              "      <th>Pclass</th>\n",
              "      <th>Name</th>\n",
              "      <th>Sex</th>\n",
              "      <th>Age</th>\n",
              "      <th>SibSp</th>\n",
              "      <th>Parch</th>\n",
              "      <th>Ticket</th>\n",
              "      <th>Fare</th>\n",
              "      <th>Cabin</th>\n",
              "      <th>Embarked</th>\n",
              "    </tr>\n",
              "  </thead>\n",
              "  <tbody>\n",
              "    <tr>\n",
              "      <th>0</th>\n",
              "      <td>892</td>\n",
              "      <td>3</td>\n",
              "      <td>Kelly, Mr. James</td>\n",
              "      <td>male</td>\n",
              "      <td>34.5</td>\n",
              "      <td>0</td>\n",
              "      <td>0</td>\n",
              "      <td>330911</td>\n",
              "      <td>7.8292</td>\n",
              "      <td>NaN</td>\n",
              "      <td>Q</td>\n",
              "    </tr>\n",
              "    <tr>\n",
              "      <th>1</th>\n",
              "      <td>893</td>\n",
              "      <td>3</td>\n",
              "      <td>Wilkes, Mrs. James (Ellen Needs)</td>\n",
              "      <td>female</td>\n",
              "      <td>47.0</td>\n",
              "      <td>1</td>\n",
              "      <td>0</td>\n",
              "      <td>363272</td>\n",
              "      <td>7.0000</td>\n",
              "      <td>NaN</td>\n",
              "      <td>S</td>\n",
              "    </tr>\n",
              "    <tr>\n",
              "      <th>2</th>\n",
              "      <td>894</td>\n",
              "      <td>2</td>\n",
              "      <td>Myles, Mr. Thomas Francis</td>\n",
              "      <td>male</td>\n",
              "      <td>62.0</td>\n",
              "      <td>0</td>\n",
              "      <td>0</td>\n",
              "      <td>240276</td>\n",
              "      <td>9.6875</td>\n",
              "      <td>NaN</td>\n",
              "      <td>Q</td>\n",
              "    </tr>\n",
              "  </tbody>\n",
              "</table>\n",
              "</div>\n",
              "      <button class=\"colab-df-convert\" onclick=\"convertToInteractive('df-d0bbc1d1-d46c-42a1-b88a-e85d0be111b7')\"\n",
              "              title=\"Convert this dataframe to an interactive table.\"\n",
              "              style=\"display:none;\">\n",
              "        \n",
              "  <svg xmlns=\"http://www.w3.org/2000/svg\" height=\"24px\"viewBox=\"0 0 24 24\"\n",
              "       width=\"24px\">\n",
              "    <path d=\"M0 0h24v24H0V0z\" fill=\"none\"/>\n",
              "    <path d=\"M18.56 5.44l.94 2.06.94-2.06 2.06-.94-2.06-.94-.94-2.06-.94 2.06-2.06.94zm-11 1L8.5 8.5l.94-2.06 2.06-.94-2.06-.94L8.5 2.5l-.94 2.06-2.06.94zm10 10l.94 2.06.94-2.06 2.06-.94-2.06-.94-.94-2.06-.94 2.06-2.06.94z\"/><path d=\"M17.41 7.96l-1.37-1.37c-.4-.4-.92-.59-1.43-.59-.52 0-1.04.2-1.43.59L10.3 9.45l-7.72 7.72c-.78.78-.78 2.05 0 2.83L4 21.41c.39.39.9.59 1.41.59.51 0 1.02-.2 1.41-.59l7.78-7.78 2.81-2.81c.8-.78.8-2.07 0-2.86zM5.41 20L4 18.59l7.72-7.72 1.47 1.35L5.41 20z\"/>\n",
              "  </svg>\n",
              "      </button>\n",
              "      \n",
              "  <style>\n",
              "    .colab-df-container {\n",
              "      display:flex;\n",
              "      flex-wrap:wrap;\n",
              "      gap: 12px;\n",
              "    }\n",
              "\n",
              "    .colab-df-convert {\n",
              "      background-color: #E8F0FE;\n",
              "      border: none;\n",
              "      border-radius: 50%;\n",
              "      cursor: pointer;\n",
              "      display: none;\n",
              "      fill: #1967D2;\n",
              "      height: 32px;\n",
              "      padding: 0 0 0 0;\n",
              "      width: 32px;\n",
              "    }\n",
              "\n",
              "    .colab-df-convert:hover {\n",
              "      background-color: #E2EBFA;\n",
              "      box-shadow: 0px 1px 2px rgba(60, 64, 67, 0.3), 0px 1px 3px 1px rgba(60, 64, 67, 0.15);\n",
              "      fill: #174EA6;\n",
              "    }\n",
              "\n",
              "    [theme=dark] .colab-df-convert {\n",
              "      background-color: #3B4455;\n",
              "      fill: #D2E3FC;\n",
              "    }\n",
              "\n",
              "    [theme=dark] .colab-df-convert:hover {\n",
              "      background-color: #434B5C;\n",
              "      box-shadow: 0px 1px 3px 1px rgba(0, 0, 0, 0.15);\n",
              "      filter: drop-shadow(0px 1px 2px rgba(0, 0, 0, 0.3));\n",
              "      fill: #FFFFFF;\n",
              "    }\n",
              "  </style>\n",
              "\n",
              "      <script>\n",
              "        const buttonEl =\n",
              "          document.querySelector('#df-d0bbc1d1-d46c-42a1-b88a-e85d0be111b7 button.colab-df-convert');\n",
              "        buttonEl.style.display =\n",
              "          google.colab.kernel.accessAllowed ? 'block' : 'none';\n",
              "\n",
              "        async function convertToInteractive(key) {\n",
              "          const element = document.querySelector('#df-d0bbc1d1-d46c-42a1-b88a-e85d0be111b7');\n",
              "          const dataTable =\n",
              "            await google.colab.kernel.invokeFunction('convertToInteractive',\n",
              "                                                     [key], {});\n",
              "          if (!dataTable) return;\n",
              "\n",
              "          const docLinkHtml = 'Like what you see? Visit the ' +\n",
              "            '<a target=\"_blank\" href=https://colab.research.google.com/notebooks/data_table.ipynb>data table notebook</a>'\n",
              "            + ' to learn more about interactive tables.';\n",
              "          element.innerHTML = '';\n",
              "          dataTable['output_type'] = 'display_data';\n",
              "          await google.colab.output.renderOutput(dataTable, element);\n",
              "          const docLink = document.createElement('div');\n",
              "          docLink.innerHTML = docLinkHtml;\n",
              "          element.appendChild(docLink);\n",
              "        }\n",
              "      </script>\n",
              "    </div>\n",
              "  </div>\n",
              "  "
            ]
          },
          "metadata": {},
          "execution_count": 4
        }
      ]
    },
    {
      "cell_type": "code",
      "source": [
        "# Juntando test com gender_submission(target)\n",
        "dados_test = pd.concat([test, gender_submission.drop(['PassengerId'], axis = 1)],axis = 1)\n",
        "\n",
        "\n",
        "# Juntando os dados de treino com os dados de teste\n",
        "dados = pd.concat([train, dados_test], axis = 0, ignore_index=True)"
      ],
      "metadata": {
        "id": "Tcm4AFT7P0lj"
      },
      "execution_count": 5,
      "outputs": []
    },
    {
      "cell_type": "code",
      "source": [
        "# Traduzindo as colunas\n",
        "dados.columns = ['Id','Sobreviveu','Classe','Nome','Sexo','Idade','Irmãos/Conjugue','Parentes/Crianças','Bilhete','Tarifa','Cabine','Embarque']"
      ],
      "metadata": {
        "id": "Dd7_ZPrvTZsD"
      },
      "execution_count": 6,
      "outputs": []
    },
    {
      "cell_type": "code",
      "source": [
        "dados[:3]"
      ],
      "metadata": {
        "colab": {
          "base_uri": "https://localhost:8080/",
          "height": 187
        },
        "id": "dQsPbNmd03Dc",
        "outputId": "6afee566-dd7b-44bc-b0a8-a2032e2303da"
      },
      "execution_count": 7,
      "outputs": [
        {
          "output_type": "execute_result",
          "data": {
            "text/plain": [
              "   Id  Sobreviveu  Classe                                               Nome  \\\n",
              "0   1           0       3                            Braund, Mr. Owen Harris   \n",
              "1   2           1       1  Cumings, Mrs. John Bradley (Florence Briggs Th...   \n",
              "2   3           1       3                             Heikkinen, Miss. Laina   \n",
              "\n",
              "     Sexo  Idade  Irmãos/Conjugue  Parentes/Crianças           Bilhete  \\\n",
              "0    male   22.0                1                  0         A/5 21171   \n",
              "1  female   38.0                1                  0          PC 17599   \n",
              "2  female   26.0                0                  0  STON/O2. 3101282   \n",
              "\n",
              "    Tarifa Cabine Embarque  \n",
              "0   7.2500    NaN        S  \n",
              "1  71.2833    C85        C  \n",
              "2   7.9250    NaN        S  "
            ],
            "text/html": [
              "\n",
              "  <div id=\"df-cfbc6525-c15f-41e5-8c76-4ba3d57ad5e3\">\n",
              "    <div class=\"colab-df-container\">\n",
              "      <div>\n",
              "<style scoped>\n",
              "    .dataframe tbody tr th:only-of-type {\n",
              "        vertical-align: middle;\n",
              "    }\n",
              "\n",
              "    .dataframe tbody tr th {\n",
              "        vertical-align: top;\n",
              "    }\n",
              "\n",
              "    .dataframe thead th {\n",
              "        text-align: right;\n",
              "    }\n",
              "</style>\n",
              "<table border=\"1\" class=\"dataframe\">\n",
              "  <thead>\n",
              "    <tr style=\"text-align: right;\">\n",
              "      <th></th>\n",
              "      <th>Id</th>\n",
              "      <th>Sobreviveu</th>\n",
              "      <th>Classe</th>\n",
              "      <th>Nome</th>\n",
              "      <th>Sexo</th>\n",
              "      <th>Idade</th>\n",
              "      <th>Irmãos/Conjugue</th>\n",
              "      <th>Parentes/Crianças</th>\n",
              "      <th>Bilhete</th>\n",
              "      <th>Tarifa</th>\n",
              "      <th>Cabine</th>\n",
              "      <th>Embarque</th>\n",
              "    </tr>\n",
              "  </thead>\n",
              "  <tbody>\n",
              "    <tr>\n",
              "      <th>0</th>\n",
              "      <td>1</td>\n",
              "      <td>0</td>\n",
              "      <td>3</td>\n",
              "      <td>Braund, Mr. Owen Harris</td>\n",
              "      <td>male</td>\n",
              "      <td>22.0</td>\n",
              "      <td>1</td>\n",
              "      <td>0</td>\n",
              "      <td>A/5 21171</td>\n",
              "      <td>7.2500</td>\n",
              "      <td>NaN</td>\n",
              "      <td>S</td>\n",
              "    </tr>\n",
              "    <tr>\n",
              "      <th>1</th>\n",
              "      <td>2</td>\n",
              "      <td>1</td>\n",
              "      <td>1</td>\n",
              "      <td>Cumings, Mrs. John Bradley (Florence Briggs Th...</td>\n",
              "      <td>female</td>\n",
              "      <td>38.0</td>\n",
              "      <td>1</td>\n",
              "      <td>0</td>\n",
              "      <td>PC 17599</td>\n",
              "      <td>71.2833</td>\n",
              "      <td>C85</td>\n",
              "      <td>C</td>\n",
              "    </tr>\n",
              "    <tr>\n",
              "      <th>2</th>\n",
              "      <td>3</td>\n",
              "      <td>1</td>\n",
              "      <td>3</td>\n",
              "      <td>Heikkinen, Miss. Laina</td>\n",
              "      <td>female</td>\n",
              "      <td>26.0</td>\n",
              "      <td>0</td>\n",
              "      <td>0</td>\n",
              "      <td>STON/O2. 3101282</td>\n",
              "      <td>7.9250</td>\n",
              "      <td>NaN</td>\n",
              "      <td>S</td>\n",
              "    </tr>\n",
              "  </tbody>\n",
              "</table>\n",
              "</div>\n",
              "      <button class=\"colab-df-convert\" onclick=\"convertToInteractive('df-cfbc6525-c15f-41e5-8c76-4ba3d57ad5e3')\"\n",
              "              title=\"Convert this dataframe to an interactive table.\"\n",
              "              style=\"display:none;\">\n",
              "        \n",
              "  <svg xmlns=\"http://www.w3.org/2000/svg\" height=\"24px\"viewBox=\"0 0 24 24\"\n",
              "       width=\"24px\">\n",
              "    <path d=\"M0 0h24v24H0V0z\" fill=\"none\"/>\n",
              "    <path d=\"M18.56 5.44l.94 2.06.94-2.06 2.06-.94-2.06-.94-.94-2.06-.94 2.06-2.06.94zm-11 1L8.5 8.5l.94-2.06 2.06-.94-2.06-.94L8.5 2.5l-.94 2.06-2.06.94zm10 10l.94 2.06.94-2.06 2.06-.94-2.06-.94-.94-2.06-.94 2.06-2.06.94z\"/><path d=\"M17.41 7.96l-1.37-1.37c-.4-.4-.92-.59-1.43-.59-.52 0-1.04.2-1.43.59L10.3 9.45l-7.72 7.72c-.78.78-.78 2.05 0 2.83L4 21.41c.39.39.9.59 1.41.59.51 0 1.02-.2 1.41-.59l7.78-7.78 2.81-2.81c.8-.78.8-2.07 0-2.86zM5.41 20L4 18.59l7.72-7.72 1.47 1.35L5.41 20z\"/>\n",
              "  </svg>\n",
              "      </button>\n",
              "      \n",
              "  <style>\n",
              "    .colab-df-container {\n",
              "      display:flex;\n",
              "      flex-wrap:wrap;\n",
              "      gap: 12px;\n",
              "    }\n",
              "\n",
              "    .colab-df-convert {\n",
              "      background-color: #E8F0FE;\n",
              "      border: none;\n",
              "      border-radius: 50%;\n",
              "      cursor: pointer;\n",
              "      display: none;\n",
              "      fill: #1967D2;\n",
              "      height: 32px;\n",
              "      padding: 0 0 0 0;\n",
              "      width: 32px;\n",
              "    }\n",
              "\n",
              "    .colab-df-convert:hover {\n",
              "      background-color: #E2EBFA;\n",
              "      box-shadow: 0px 1px 2px rgba(60, 64, 67, 0.3), 0px 1px 3px 1px rgba(60, 64, 67, 0.15);\n",
              "      fill: #174EA6;\n",
              "    }\n",
              "\n",
              "    [theme=dark] .colab-df-convert {\n",
              "      background-color: #3B4455;\n",
              "      fill: #D2E3FC;\n",
              "    }\n",
              "\n",
              "    [theme=dark] .colab-df-convert:hover {\n",
              "      background-color: #434B5C;\n",
              "      box-shadow: 0px 1px 3px 1px rgba(0, 0, 0, 0.15);\n",
              "      filter: drop-shadow(0px 1px 2px rgba(0, 0, 0, 0.3));\n",
              "      fill: #FFFFFF;\n",
              "    }\n",
              "  </style>\n",
              "\n",
              "      <script>\n",
              "        const buttonEl =\n",
              "          document.querySelector('#df-cfbc6525-c15f-41e5-8c76-4ba3d57ad5e3 button.colab-df-convert');\n",
              "        buttonEl.style.display =\n",
              "          google.colab.kernel.accessAllowed ? 'block' : 'none';\n",
              "\n",
              "        async function convertToInteractive(key) {\n",
              "          const element = document.querySelector('#df-cfbc6525-c15f-41e5-8c76-4ba3d57ad5e3');\n",
              "          const dataTable =\n",
              "            await google.colab.kernel.invokeFunction('convertToInteractive',\n",
              "                                                     [key], {});\n",
              "          if (!dataTable) return;\n",
              "\n",
              "          const docLinkHtml = 'Like what you see? Visit the ' +\n",
              "            '<a target=\"_blank\" href=https://colab.research.google.com/notebooks/data_table.ipynb>data table notebook</a>'\n",
              "            + ' to learn more about interactive tables.';\n",
              "          element.innerHTML = '';\n",
              "          dataTable['output_type'] = 'display_data';\n",
              "          await google.colab.output.renderOutput(dataTable, element);\n",
              "          const docLink = document.createElement('div');\n",
              "          docLink.innerHTML = docLinkHtml;\n",
              "          element.appendChild(docLink);\n",
              "        }\n",
              "      </script>\n",
              "    </div>\n",
              "  </div>\n",
              "  "
            ]
          },
          "metadata": {},
          "execution_count": 7
        }
      ]
    },
    {
      "cell_type": "code",
      "source": [
        "dados.info()\n",
        "# Ao todo são 1309 passageiros e o dataset é composto por 11 variáveis além do target (Sobreviveu)."
      ],
      "metadata": {
        "colab": {
          "base_uri": "https://localhost:8080/",
          "height": 0
        },
        "id": "JPwP9fHy1eV0",
        "outputId": "af57db2d-9b34-43dc-929b-56d7f3f671bb"
      },
      "execution_count": 8,
      "outputs": [
        {
          "output_type": "stream",
          "name": "stdout",
          "text": [
            "<class 'pandas.core.frame.DataFrame'>\n",
            "RangeIndex: 1309 entries, 0 to 1308\n",
            "Data columns (total 12 columns):\n",
            " #   Column             Non-Null Count  Dtype  \n",
            "---  ------             --------------  -----  \n",
            " 0   Id                 1309 non-null   int64  \n",
            " 1   Sobreviveu         1309 non-null   int64  \n",
            " 2   Classe             1309 non-null   int64  \n",
            " 3   Nome               1309 non-null   object \n",
            " 4   Sexo               1309 non-null   object \n",
            " 5   Idade              1046 non-null   float64\n",
            " 6   Irmãos/Conjugue    1309 non-null   int64  \n",
            " 7   Parentes/Crianças  1309 non-null   int64  \n",
            " 8   Bilhete            1309 non-null   object \n",
            " 9   Tarifa             1308 non-null   float64\n",
            " 10  Cabine             295 non-null    object \n",
            " 11  Embarque           1307 non-null   object \n",
            "dtypes: float64(2), int64(5), object(5)\n",
            "memory usage: 122.8+ KB\n"
          ]
        }
      ]
    },
    {
      "cell_type": "markdown",
      "source": [
        "# Cleaning"
      ],
      "metadata": {
        "id": "YdkFaDHtTO2H"
      }
    },
    {
      "cell_type": "markdown",
      "source": [
        "Vamos agora fazer um tratamento nas variáveis faltantes, com excessão da variável idade, pois vamos trabalhá-la após a análise de todas as outras variáveis."
      ],
      "metadata": {
        "id": "AgPcW-p209B7"
      }
    },
    {
      "cell_type": "code",
      "source": [
        "# Visualizando os dados faltantes\n",
        "dados.isnull().sum().sort_values(ascending = False)[:5]\n",
        "# Somente 4 variáveis faltantes: Cabine, Idade, Local_embarque e Tarifa."
      ],
      "metadata": {
        "colab": {
          "base_uri": "https://localhost:8080/",
          "height": 0
        },
        "id": "uDUCXc69S71J",
        "outputId": "e9f1bad4-04a7-4644-a871-555e1afeb0f8"
      },
      "execution_count": 9,
      "outputs": [
        {
          "output_type": "execute_result",
          "data": {
            "text/plain": [
              "Cabine      1014\n",
              "Idade        263\n",
              "Embarque       2\n",
              "Tarifa         1\n",
              "Id             0\n",
              "dtype: int64"
            ]
          },
          "metadata": {},
          "execution_count": 9
        }
      ]
    },
    {
      "cell_type": "markdown",
      "source": [
        "Cabine"
      ],
      "metadata": {
        "id": "3tkpcxdMTtlg"
      }
    },
    {
      "cell_type": "code",
      "source": [
        "# Como possui muitos valores faltantes(1014 de 1309), vamos excluir a variável .\n",
        "dados.drop(['Cabine'], axis = 1, inplace = True)"
      ],
      "metadata": {
        "id": "WiSJg42_Tn66"
      },
      "execution_count": 10,
      "outputs": []
    },
    {
      "cell_type": "markdown",
      "source": [
        "Idade"
      ],
      "metadata": {
        "id": "-zNoTbP5UE93"
      }
    },
    {
      "cell_type": "code",
      "source": [
        "# São 263 valores faltantes ( um valor significativo ).\n",
        "# Vamos fazer o tratamento e estudo dessa variável no final da analise das outras variáveis."
      ],
      "metadata": {
        "id": "Je7w_Yd1Tw6-"
      },
      "execution_count": 11,
      "outputs": []
    },
    {
      "cell_type": "markdown",
      "source": [
        "Embarque"
      ],
      "metadata": {
        "id": "gehKiVyxmW5i"
      }
    },
    {
      "cell_type": "code",
      "source": [
        "# São somente 2 valores faltantes. Vamos preencher pelo valor mais frenquente. \n",
        "embarque_mais_frequente = dados['Embarque'].value_counts().index[0]\n",
        "\n",
        "dados['Embarque'] = dados['Embarque'].fillna(embarque_mais_frequente)"
      ],
      "metadata": {
        "id": "XVAjHZNWZC9H"
      },
      "execution_count": 12,
      "outputs": []
    },
    {
      "cell_type": "markdown",
      "source": [
        "Tarifa"
      ],
      "metadata": {
        "id": "UNa4Q1-5nNZy"
      }
    },
    {
      "cell_type": "code",
      "source": [
        "# É somente 1 valor faltante. Vamos preencher com a média\n",
        "media_tarifa = dados['Tarifa'].mean()\n",
        "dados['Tarifa'] = dados['Tarifa'].fillna(media_tarifa)"
      ],
      "metadata": {
        "id": "vkjlN42cZ1SQ"
      },
      "execution_count": 13,
      "outputs": []
    },
    {
      "cell_type": "code",
      "source": [
        "dados.info()"
      ],
      "metadata": {
        "colab": {
          "base_uri": "https://localhost:8080/",
          "height": 0
        },
        "id": "0AhVltawaf37",
        "outputId": "97bb2d5e-89d5-4a2e-f3d7-13871bafc22d"
      },
      "execution_count": 14,
      "outputs": [
        {
          "output_type": "stream",
          "name": "stdout",
          "text": [
            "<class 'pandas.core.frame.DataFrame'>\n",
            "RangeIndex: 1309 entries, 0 to 1308\n",
            "Data columns (total 11 columns):\n",
            " #   Column             Non-Null Count  Dtype  \n",
            "---  ------             --------------  -----  \n",
            " 0   Id                 1309 non-null   int64  \n",
            " 1   Sobreviveu         1309 non-null   int64  \n",
            " 2   Classe             1309 non-null   int64  \n",
            " 3   Nome               1309 non-null   object \n",
            " 4   Sexo               1309 non-null   object \n",
            " 5   Idade              1046 non-null   float64\n",
            " 6   Irmãos/Conjugue    1309 non-null   int64  \n",
            " 7   Parentes/Crianças  1309 non-null   int64  \n",
            " 8   Bilhete            1309 non-null   object \n",
            " 9   Tarifa             1309 non-null   float64\n",
            " 10  Embarque           1309 non-null   object \n",
            "dtypes: float64(2), int64(5), object(4)\n",
            "memory usage: 112.6+ KB\n"
          ]
        }
      ]
    },
    {
      "cell_type": "markdown",
      "source": [
        "# Analisando e Visualizando "
      ],
      "metadata": {
        "id": "jwOz9z9jnn9j"
      }
    },
    {
      "cell_type": "code",
      "source": [
        "# Vamos iniciar a análise proprimente dita. O objetivo é se aprofundar nos dados e obter informações significativas que explicam a sobrevivencia ou não do passageiro\n",
        "dados.info()\n",
        "#Todas preenchidas (Exceto Idade - vamos trabalhá-la no final da análise)"
      ],
      "metadata": {
        "colab": {
          "base_uri": "https://localhost:8080/",
          "height": 0
        },
        "id": "H-XrTx4jbkft",
        "outputId": "349fd579-feb6-40cb-bd80-888bdafc4e86"
      },
      "execution_count": 15,
      "outputs": [
        {
          "output_type": "stream",
          "name": "stdout",
          "text": [
            "<class 'pandas.core.frame.DataFrame'>\n",
            "RangeIndex: 1309 entries, 0 to 1308\n",
            "Data columns (total 11 columns):\n",
            " #   Column             Non-Null Count  Dtype  \n",
            "---  ------             --------------  -----  \n",
            " 0   Id                 1309 non-null   int64  \n",
            " 1   Sobreviveu         1309 non-null   int64  \n",
            " 2   Classe             1309 non-null   int64  \n",
            " 3   Nome               1309 non-null   object \n",
            " 4   Sexo               1309 non-null   object \n",
            " 5   Idade              1046 non-null   float64\n",
            " 6   Irmãos/Conjugue    1309 non-null   int64  \n",
            " 7   Parentes/Crianças  1309 non-null   int64  \n",
            " 8   Bilhete            1309 non-null   object \n",
            " 9   Tarifa             1309 non-null   float64\n",
            " 10  Embarque           1309 non-null   object \n",
            "dtypes: float64(2), int64(5), object(4)\n",
            "memory usage: 112.6+ KB\n"
          ]
        }
      ]
    },
    {
      "cell_type": "markdown",
      "source": [
        "## Sexo"
      ],
      "metadata": {
        "id": "LbWGq66CpAYo"
      }
    },
    {
      "cell_type": "code",
      "source": [
        "# Pelo o que assistimos do filme : \"Mulheres e crianças na frente\"\n",
        "  # É esperado que as mulheres tenham uma taxa de sobrevivencia superior a dos homens \n",
        "dados['Sexo'].value_counts() # O número de homens embarcados é quase o dobro do das mulheres."
      ],
      "metadata": {
        "colab": {
          "base_uri": "https://localhost:8080/",
          "height": 0
        },
        "id": "fWonz8N6zVc2",
        "outputId": "5aeae8ae-a164-4750-b436-3106f502a9c2"
      },
      "execution_count": 16,
      "outputs": [
        {
          "output_type": "execute_result",
          "data": {
            "text/plain": [
              "male      843\n",
              "female    466\n",
              "Name: Sexo, dtype: int64"
            ]
          },
          "metadata": {},
          "execution_count": 16
        }
      ]
    },
    {
      "cell_type": "code",
      "source": [
        "sns.countplot(x='Sexo',hue = 'Sobreviveu',data = dados)\n",
        "# Uma diferença gritante.."
      ],
      "metadata": {
        "colab": {
          "base_uri": "https://localhost:8080/",
          "height": 0
        },
        "id": "D8WnJuahzVHd",
        "outputId": "90827c51-77a1-486f-ee40-1acab2b5da53"
      },
      "execution_count": 17,
      "outputs": [
        {
          "output_type": "execute_result",
          "data": {
            "text/plain": [
              "<matplotlib.axes._subplots.AxesSubplot at 0x7f43f9a90eb0>"
            ]
          },
          "metadata": {},
          "execution_count": 17
        },
        {
          "output_type": "display_data",
          "data": {
            "text/plain": [
              "<Figure size 432x288 with 1 Axes>"
            ],
            "image/png": "[encoded data removed]"
          },
          "metadata": {
            "needs_background": "light"
          }
        }
      ]
    },
    {
      "cell_type": "code",
      "source": [
        "# Vamos calcular a taxa de sobrevivencia dos sexos para termos uma visão mais quantitativa.\n",
        "homens = dados[dados['Sexo']=='male']\n",
        "taxa_homens = (homens['Sobreviveu'].value_counts()[1]/homens.shape[0])*100 \n",
        "\n",
        "mulheres = dados[dados['Sexo']=='female']\n",
        "taxa_mulheres = (mulheres['Sobreviveu'].value_counts()[1]/mulheres.shape[0])*100\n",
        "\n",
        "print(f'A taxa de sobrevivencia dos HOMENS é de {taxa_homens.round(2)}%\\n e a das MULHERES {taxa_mulheres.round(2)}%.')\n",
        "# São tão diferentes que compensa analisar as outras variáveis levando-se em conta o sexo dos sobreviventes.\n",
        "# A chance de uma mulher sobreviver é coisa de 6 a 7 vezes maior do que os homens"
      ],
      "metadata": {
        "id": "LwQTpJKb0sn6",
        "colab": {
          "base_uri": "https://localhost:8080/",
          "height": 0
        },
        "outputId": "a588d0f1-19e7-458b-d8c6-c9c80a10e5a4"
      },
      "execution_count": 18,
      "outputs": [
        {
          "output_type": "stream",
          "name": "stdout",
          "text": [
            "A taxa de sobrevivencia dos HOMENS é de 12.93%\n",
            " e a das MULHERES 82.62%.\n"
          ]
        }
      ]
    },
    {
      "cell_type": "markdown",
      "source": [
        "## Classe"
      ],
      "metadata": {
        "id": "wXXETuvXoC0b"
      }
    },
    {
      "cell_type": "code",
      "source": [
        "# De início, não acredito que as pessoas mais pobres aceitariam a morte por conta da classe de sua passagem.\n",
        "# Vamos então verificar se a classe das pessoas é um fator relevante para a sobrevivencia.\n",
        "sns.countplot(x='Classe', data = dados, hue = 'Sobreviveu')\n",
        "# O pessoal da 1 classe teve uma taxa de sobrevivencia um pouco superior a 50%\n",
        "# O pessoal da 2 classe teve uma taxa de sobrevivencia um pouco inferior a 50%\n",
        "# O pessoal da 3 classe teve uma taxa de sobrevivencia muito inferior às demais"
      ],
      "metadata": {
        "id": "K8QkntE3pDm8",
        "colab": {
          "base_uri": "https://localhost:8080/",
          "height": 0
        },
        "outputId": "16f27998-cdd3-42be-d1e2-6c9dd2296b86"
      },
      "execution_count": 19,
      "outputs": [
        {
          "output_type": "execute_result",
          "data": {
            "text/plain": [
              "<matplotlib.axes._subplots.AxesSubplot at 0x7f43f99c2c10>"
            ]
          },
          "metadata": {},
          "execution_count": 19
        },
        {
          "output_type": "display_data",
          "data": {
            "text/plain": [
              "<Figure size 432x288 with 1 Axes>"
            ],
            "image/png": "[encoded data removed]"
          },
          "metadata": {
            "needs_background": "light"
          }
        }
      ]
    },
    {
      "cell_type": "code",
      "source": [
        "# Vamos Verificar a quantidade de pessoas por sexo em cada uma das classes\n",
        "\n",
        "\n",
        "# Montando uma tabela com valores\n",
        "classe_dist = dados['Classe'].value_counts().sort_index().values\n",
        "classe_mulheres = dados[dados['Sexo']=='female']['Classe'].value_counts().sort_index().values\n",
        "classe_homens = dados[dados['Sexo']=='male']['Classe'].value_counts().sort_index().values\n",
        "\n",
        "dicionario_totais = {'Classe':[1,2,3],\n",
        "                     'Total':classe_dist,\n",
        "                     'Quantidade Mulheres':classe_mulheres,\n",
        "                     'Quantidade Homens':classe_homens}\n",
        "\n",
        "df_classe = pd.DataFrame(dicionario_totais)  \n",
        "\n",
        "import matplotlib.pyplot as plt\n",
        "fig, (ax1,ax2) = plt.subplots(1,2,sharey = True)\n",
        "ax1.bar('Classe','Quantidade Mulheres', data = df_classe)\n",
        "ax2.bar('Classe','Quantidade Homens', data = df_classe)\n",
        "# Tem uma pequena quantidade de homens amais do que mulheres na 1º e 2º classes.\n",
        "# Já na 3º classe, a quantidade de homens é MUITO superior a das mulheres. \n",
        "    # Isso pode explicar o porque da taxa de sobrevivencia dessa classe foi bem menor do que as outras.   "
      ],
      "metadata": {
        "id": "MU6yAyfcd6jK",
        "colab": {
          "base_uri": "https://localhost:8080/",
          "height": 0
        },
        "outputId": "1e55c121-1409-4ad9-e933-11af4f05515e"
      },
      "execution_count": 20,
      "outputs": [
        {
          "output_type": "execute_result",
          "data": {
            "text/plain": [
              "<BarContainer object of 3 artists>"
            ]
          },
          "metadata": {},
          "execution_count": 20
        },
        {
          "output_type": "display_data",
          "data": {
            "text/plain": [
              "<Figure size 432x288 with 2 Axes>"
            ],
            "image/png": "[encoded data removed]"
          },
          "metadata": {
            "needs_background": "light"
          }
        }
      ]
    },
    {
      "cell_type": "code",
      "source": [
        "# Vamos analisar a taxa de sobrevivência. \n",
        "classe_sobrevivente = dados[dados['Sobreviveu']==1]['Classe'].value_counts().sort_index()\n",
        "sobrevivente_mulheres = dados[(dados['Sexo']=='female') & (dados['Sobreviveu']==1)]['Classe'].value_counts().sort_index()\n",
        "sobrevivente_homens = dados[(dados['Sexo']=='male') & (dados['Sobreviveu']==1)]['Classe'].value_counts().sort_index()\n",
        "\n",
        "porcentagem_mulher = ((sobrevivente_mulheres/classe_sobrevivente)*100).round(2)\n",
        "porcentagem_homem = ((sobrevivente_homens/classe_sobrevivente)*100).round(2)\n",
        "\n",
        "dicionario_porcentagem = {'Classe':[1,2,3],\n",
        "                          'Porcentagem Mulheres':porcentagem_mulher,\n",
        "                          'Porcentagem Homens':porcentagem_homem}\n",
        "\n",
        "df_classe_porcentagem = pd.DataFrame(dicionario_porcentagem) \n",
        "\n",
        "fig, (ax1,ax2) = plt.subplots(1,2,sharey = True)\n",
        "ax1.bar('Classe','Porcentagem Mulheres', data = df_classe_porcentagem)\n",
        "ax2.bar('Classe','Porcentagem Homens', data = df_classe_porcentagem)\n",
        "# As mulheres da 2 classe possuem uma taxa um poquinho maior de sobrevivencia do que as outras (Será que é uma diferença significativa?(*)). O oposto acontece com os homens.\n",
        "# Já na 1 e 3 classe a chance de sobrevivencia parecem a mesma entre os sexos"
      ],
      "metadata": {
        "id": "fxHSqj4tkuy9",
        "colab": {
          "base_uri": "https://localhost:8080/",
          "height": 0
        },
        "outputId": "644b8bca-2ff6-487e-f4b3-c03e07011490"
      },
      "execution_count": 21,
      "outputs": [
        {
          "output_type": "execute_result",
          "data": {
            "text/plain": [
              "<BarContainer object of 3 artists>"
            ]
          },
          "metadata": {},
          "execution_count": 21
        },
        {
          "output_type": "display_data",
          "data": {
            "text/plain": [
              "<Figure size 432x288 with 2 Axes>"
            ],
            "image/png": "[encoded data removed]"
          },
          "metadata": {
            "needs_background": "light"
          }
        }
      ]
    },
    {
      "cell_type": "code",
      "source": [
        "from scipy.stats import ranksums\n",
        "classe_2 = dados[dados['Classe']==2]['Sobreviveu']\n",
        "classe_13 = dados[(dados['Classe']==1)|(dados['Classe']==3)]['Sobreviveu']\n",
        "\n",
        "z,pv = ranksums(classe_2,classe_13)\n",
        "pv \n",
        "# Não existe diferença significativa, logo não podemos dizer que as pessoas da 2 classe podem ou não podem ter 'morrido' mais ou menos."
      ],
      "metadata": {
        "colab": {
          "base_uri": "https://localhost:8080/",
          "height": 0
        },
        "id": "4-bZbBqt1e9e",
        "outputId": "084bb9c5-15f3-46a8-a145-0a0393a6b9f9"
      },
      "execution_count": 22,
      "outputs": [
        {
          "output_type": "execute_result",
          "data": {
            "text/plain": [
              "0.14421665828187105"
            ]
          },
          "metadata": {},
          "execution_count": 22
        }
      ]
    },
    {
      "cell_type": "markdown",
      "source": [
        "## Nome"
      ],
      "metadata": {
        "id": "s8fj2Bo2pNpy"
      }
    },
    {
      "cell_type": "code",
      "source": [
        "# É uma variável aparentenmente inútil, porém,\n",
        "  # ao analisar um pouco mais afundo é possível notar que em todos os nomes existe um título. \n",
        "dados['Nome']"
      ],
      "metadata": {
        "colab": {
          "base_uri": "https://localhost:8080/",
          "height": 0
        },
        "id": "6BKwq_0tpPbs",
        "outputId": "91388463-7774-43a6-b81d-be165010de27"
      },
      "execution_count": 23,
      "outputs": [
        {
          "output_type": "execute_result",
          "data": {
            "text/plain": [
              "0                                 Braund, Mr. Owen Harris\n",
              "1       Cumings, Mrs. John Bradley (Florence Briggs Th...\n",
              "2                                  Heikkinen, Miss. Laina\n",
              "3            Futrelle, Mrs. Jacques Heath (Lily May Peel)\n",
              "4                                Allen, Mr. William Henry\n",
              "                              ...                        \n",
              "1304                                   Spector, Mr. Woolf\n",
              "1305                         Oliva y Ocana, Dona. Fermina\n",
              "1306                         Saether, Mr. Simon Sivertsen\n",
              "1307                                  Ware, Mr. Frederick\n",
              "1308                             Peter, Master. Michael J\n",
              "Name: Nome, Length: 1309, dtype: object"
            ]
          },
          "metadata": {},
          "execution_count": 23
        }
      ]
    },
    {
      "cell_type": "code",
      "source": [
        "# Criaremos então uma nova varável apartir de dados['Nome'], usando extract e replace e fazer as analises em cima dessa nova variável dados['Titulos']\n",
        "dados['Titulos'] =dados['Nome'].str.extract( '([A-Za-z]+\\.)')\n",
        "dados['Titulos'].value_counts()"
      ],
      "metadata": {
        "colab": {
          "base_uri": "https://localhost:8080/",
          "height": 0
        },
        "id": "L8gjkixYUXHE",
        "outputId": "aab1ac42-40a6-4c82-b3d0-d2e0faefab51"
      },
      "execution_count": 24,
      "outputs": [
        {
          "output_type": "execute_result",
          "data": {
            "text/plain": [
              "Mr.          757\n",
              "Miss.        260\n",
              "Mrs.         197\n",
              "Master.       61\n",
              "Rev.           8\n",
              "Dr.            8\n",
              "Col.           4\n",
              "Mlle.          2\n",
              "Major.         2\n",
              "Ms.            2\n",
              "Lady.          1\n",
              "Sir.           1\n",
              "Mme.           1\n",
              "Don.           1\n",
              "Capt.          1\n",
              "Countess.      1\n",
              "Jonkheer.      1\n",
              "Dona.          1\n",
              "Name: Titulos, dtype: int64"
            ]
          },
          "metadata": {},
          "execution_count": 24
        }
      ]
    },
    {
      "cell_type": "code",
      "source": [
        "# Visualizando a sobrevivencia dos títulos mais frequentes.\n",
        "selecao = ['Mr.','Master.','Mrs.','Miss.']\n",
        "sns.countplot(x='Titulos',data = dados[dados['Titulos'].isin(selecao)], hue = 'Sobreviveu' )\n",
        "# Nota-se que 'Mrs.' e 'Miss.'(títulos femininos) possui uma chance de sobrevivencia muito maior do que \n",
        "  # os títulos 'Mr.' e 'Master.'(títulos masculinos)."
      ],
      "metadata": {
        "colab": {
          "base_uri": "https://localhost:8080/",
          "height": 0
        },
        "id": "ePsxp6jDUXB0",
        "outputId": "0aebc1fb-16f9-4805-a102-07163439010f"
      },
      "execution_count": 25,
      "outputs": [
        {
          "output_type": "execute_result",
          "data": {
            "text/plain": [
              "<matplotlib.axes._subplots.AxesSubplot at 0x7f43f9434760>"
            ]
          },
          "metadata": {},
          "execution_count": 25
        },
        {
          "output_type": "display_data",
          "data": {
            "text/plain": [
              "<Figure size 432x288 with 1 Axes>"
            ],
            "image/png": "[encoded data removed]"
          },
          "metadata": {
            "needs_background": "light"
          }
        }
      ]
    },
    {
      "cell_type": "code",
      "source": [
        "# Visualizando a sobrevivencia dos títulos menos frequentes.\n",
        "selecao = ['Rev.','Dr.','Col.','Mlle.','Major.','Ms.','Lady.','Sir.','Mme.','Don.','Capt.','Countess.','Jonkheer.','Dona.']\n",
        "sns.countplot(y='Titulos',data = dados[dados['Titulos'].isin(selecao)], hue = 'Sobreviveu')"
      ],
      "metadata": {
        "colab": {
          "base_uri": "https://localhost:8080/",
          "height": 0
        },
        "id": "VDuwD1cqUXEb",
        "outputId": "36e0129b-e349-4436-b9c2-e39c01c95494"
      },
      "execution_count": 26,
      "outputs": [
        {
          "output_type": "execute_result",
          "data": {
            "text/plain": [
              "<matplotlib.axes._subplots.AxesSubplot at 0x7f43f9aaa850>"
            ]
          },
          "metadata": {},
          "execution_count": 26
        },
        {
          "output_type": "display_data",
          "data": {
            "text/plain": [
              "<Figure size 432x288 with 1 Axes>"
            ],
            "image/png": "[encoded data removed]"
          },
          "metadata": {
            "needs_background": "light"
          }
        }
      ]
    },
    {
      "cell_type": "code",
      "source": [
        "# Vamos agrupar esses títulos menos frequentes em 'Outros homens' , 'Outras mulheres' e 'Militares'.\n",
        "\n",
        "# Vamos primeiro visualizar quais são os títulos femininos e masculinos\n",
        "titulos_masculinos = dados[dados['Sexo']=='male']['Titulos'].unique()\n",
        "titulos_femininos = dados[dados['Sexo']=='female']['Titulos'].unique()\n",
        "\n",
        "print(f'Títulos masculinos : {titulos_masculinos}') \n",
        "print(f'Títulos femininos : {titulos_femininos}')\n",
        "# O título Dr. aparece tanto pra homem quanto para mulher, além disso, é possível separar esses títulos em \n",
        "  # 'títulos de nobreza' e 'títulos de oficiais/pilotos do navio'"
      ],
      "metadata": {
        "colab": {
          "base_uri": "https://localhost:8080/",
          "height": 0
        },
        "id": "T0CXDqsEUW8Q",
        "outputId": "67fbbf3d-b4b1-429b-9a1c-91cec9a1004f"
      },
      "execution_count": 27,
      "outputs": [
        {
          "output_type": "stream",
          "name": "stdout",
          "text": [
            "Títulos masculinos : ['Mr.' 'Master.' 'Don.' 'Rev.' 'Dr.' 'Major.' 'Sir.' 'Col.' 'Capt.'\n",
            " 'Jonkheer.']\n",
            "Títulos femininos : ['Mrs.' 'Miss.' 'Mme.' 'Ms.' 'Lady.' 'Mlle.' 'Countess.' 'Dr.' 'Dona.']\n"
          ]
        }
      ]
    },
    {
      "cell_type": "code",
      "source": [
        "# Corrigindo o título de Dr. para Dra.\n",
        "dados[(dados['Titulos'] == 'Dr.')&(dados['Sexo']=='female')]\n",
        "dados['Titulos'].loc[796] = 'Dra.'"
      ],
      "metadata": {
        "id": "Iler1H2Wbwxo",
        "colab": {
          "base_uri": "https://localhost:8080/",
          "height": 0
        },
        "outputId": "8f589e63-73be-4339-9827-1a8c517626df"
      },
      "execution_count": 28,
      "outputs": [
        {
          "output_type": "stream",
          "name": "stderr",
          "text": [
            "/usr/local/lib/python3.8/dist-packages/pandas/core/indexing.py:1732: SettingWithCopyWarning: \n",
            "A value is trying to be set on a copy of a slice from a DataFrame\n",
            "\n",
            "See the caveats in the documentation: https://pandas.pydata.org/pandas-docs/stable/user_guide/indexing.html#returning-a-view-versus-a-copy\n",
            "  self._setitem_single_block(indexer, value, name)\n"
          ]
        }
      ]
    },
    {
      "cell_type": "code",
      "source": [
        "# Separando os títulos menos frequentes em 3 grupos: nobres homens, militares, nobres_mulheres\n",
        "nobres_homens = ['Don.','Jonkheer.','Sir.','Dr.','Rev.']\n",
        "militar = ['Major.','Col.','Capt.',]\n",
        "nobres_mulheres = ['Mme.','Lady.','Mlle.','Countess.','Dra.','Dona.']\n",
        "\n",
        "# Substituindo\n",
        "dados['Titulos'] = dados['Titulos'].replace('Ms.','Miss.')\n",
        "dados['Titulos'] = dados['Titulos'].replace(nobres_mulheres,'Outras Mulheres Nobres')\n",
        "dados['Titulos'] = dados['Titulos'].replace(nobres_homens,'Outros Homens Nobres')\n",
        "dados['Titulos'] = dados['Titulos'].replace(militar,'Militares')\n",
        "dados['Titulos'].value_counts()"
      ],
      "metadata": {
        "colab": {
          "base_uri": "https://localhost:8080/",
          "height": 0
        },
        "id": "FYin3wX79Tbc",
        "outputId": "2054ffe3-11b0-48c7-c8c3-81eab643a072"
      },
      "execution_count": 29,
      "outputs": [
        {
          "output_type": "execute_result",
          "data": {
            "text/plain": [
              "Mr.                       757\n",
              "Miss.                     262\n",
              "Mrs.                      197\n",
              "Master.                    61\n",
              "Outros Homens Nobres       18\n",
              "Outras Mulheres Nobres      7\n",
              "Militares                   7\n",
              "Name: Titulos, dtype: int64"
            ]
          },
          "metadata": {},
          "execution_count": 29
        }
      ]
    },
    {
      "cell_type": "code",
      "source": [
        "# Visualizando a sobrevivencia por título (agora com os títulos menos frequentes agrupados) .\n",
        "sns.countplot(y='Titulos',hue = 'Sobreviveu',data = dados)\n",
        "# Fica meio ruim para interpretar os valores menos frequentes. Vamos então utilizar como métrica a taxa de sobrevivencia."
      ],
      "metadata": {
        "colab": {
          "base_uri": "https://localhost:8080/",
          "height": 0
        },
        "id": "SkTo152XELy6",
        "outputId": "185f1d27-364a-47da-eadf-404aac32f053"
      },
      "execution_count": 30,
      "outputs": [
        {
          "output_type": "execute_result",
          "data": {
            "text/plain": [
              "<matplotlib.axes._subplots.AxesSubplot at 0x7f43f92fa310>"
            ]
          },
          "metadata": {},
          "execution_count": 30
        },
        {
          "output_type": "display_data",
          "data": {
            "text/plain": [
              "<Figure size 432x288 with 1 Axes>"
            ],
            "image/png": "[encoded data removed]"
          },
          "metadata": {
            "needs_background": "light"
          }
        }
      ]
    },
    {
      "cell_type": "markdown",
      "source": [
        "Analisando proporcionalmente"
      ],
      "metadata": {
        "id": "cs-J0VEvEJUi"
      }
    },
    {
      "cell_type": "code",
      "source": [
        "lista_titulos_sobreviventes = dados.groupby('Sobreviveu')['Titulos'].value_counts()[1].sort_index()\n",
        "lista_titulos_totais = dados['Titulos'].value_counts().sort_index()\n",
        "\n",
        "tabela_porcentagem_titulos = ((lista_titulos_sobreviventes/lista_titulos_totais)*100).round(3)\n",
        "\n",
        "dict = {'Titulos' : tabela_porcentagem_titulos.index.values,\n",
        "        'Porcentagem %' : tabela_porcentagem_titulos.values}\n",
        "df_porcentagem= pd.DataFrame(dict)        \n",
        "df_porcentagem\n",
        "# Entre os títulos femininos: Miss(79%) < Mrs(86,8%) < Outras(100%), mas a diferença parece ser muito pequena. Vamos verificar se existe diferença significativa.\n",
        "# Entre os títulos masculino: Mr(10,7%) < Outros Homens Nobres(16,6%) < Militares(28,5%) < Master(37,7%). A taxa dos 'Militares' e dos 'Master' parece ser muito superior a dos outros. Vamos verificar "
      ],
      "metadata": {
        "colab": {
          "base_uri": "https://localhost:8080/",
          "height": 0
        },
        "id": "-68MnrEs9J3t",
        "outputId": "f7583f8a-0184-4dd6-f324-0971aef89ad5"
      },
      "execution_count": 31,
      "outputs": [
        {
          "output_type": "execute_result",
          "data": {
            "text/plain": [
              "                  Titulos  Porcentagem %\n",
              "0                 Master.         37.705\n",
              "1               Militares         28.571\n",
              "2                   Miss.         79.008\n",
              "3                     Mr.         10.700\n",
              "4                    Mrs.         86.802\n",
              "5  Outras Mulheres Nobres        100.000\n",
              "6    Outros Homens Nobres         16.667"
            ],
            "text/html": [
              "\n",
              "  <div id=\"df-0870f3db-5acf-41dd-ac8f-a5d50d465a57\">\n",
              "    <div class=\"colab-df-container\">\n",
              "      <div>\n",
              "<style scoped>\n",
              "    .dataframe tbody tr th:only-of-type {\n",
              "        vertical-align: middle;\n",
              "    }\n",
              "\n",
              "    .dataframe tbody tr th {\n",
              "        vertical-align: top;\n",
              "    }\n",
              "\n",
              "    .dataframe thead th {\n",
              "        text-align: right;\n",
              "    }\n",
              "</style>\n",
              "<table border=\"1\" class=\"dataframe\">\n",
              "  <thead>\n",
              "    <tr style=\"text-align: right;\">\n",
              "      <th></th>\n",
              "      <th>Titulos</th>\n",
              "      <th>Porcentagem %</th>\n",
              "    </tr>\n",
              "  </thead>\n",
              "  <tbody>\n",
              "    <tr>\n",
              "      <th>0</th>\n",
              "      <td>Master.</td>\n",
              "      <td>37.705</td>\n",
              "    </tr>\n",
              "    <tr>\n",
              "      <th>1</th>\n",
              "      <td>Militares</td>\n",
              "      <td>28.571</td>\n",
              "    </tr>\n",
              "    <tr>\n",
              "      <th>2</th>\n",
              "      <td>Miss.</td>\n",
              "      <td>79.008</td>\n",
              "    </tr>\n",
              "    <tr>\n",
              "      <th>3</th>\n",
              "      <td>Mr.</td>\n",
              "      <td>10.700</td>\n",
              "    </tr>\n",
              "    <tr>\n",
              "      <th>4</th>\n",
              "      <td>Mrs.</td>\n",
              "      <td>86.802</td>\n",
              "    </tr>\n",
              "    <tr>\n",
              "      <th>5</th>\n",
              "      <td>Outras Mulheres Nobres</td>\n",
              "      <td>100.000</td>\n",
              "    </tr>\n",
              "    <tr>\n",
              "      <th>6</th>\n",
              "      <td>Outros Homens Nobres</td>\n",
              "      <td>16.667</td>\n",
              "    </tr>\n",
              "  </tbody>\n",
              "</table>\n",
              "</div>\n",
              "      <button class=\"colab-df-convert\" onclick=\"convertToInteractive('df-0870f3db-5acf-41dd-ac8f-a5d50d465a57')\"\n",
              "              title=\"Convert this dataframe to an interactive table.\"\n",
              "              style=\"display:none;\">\n",
              "        \n",
              "  <svg xmlns=\"http://www.w3.org/2000/svg\" height=\"24px\"viewBox=\"0 0 24 24\"\n",
              "       width=\"24px\">\n",
              "    <path d=\"M0 0h24v24H0V0z\" fill=\"none\"/>\n",
              "    <path d=\"M18.56 5.44l.94 2.06.94-2.06 2.06-.94-2.06-.94-.94-2.06-.94 2.06-2.06.94zm-11 1L8.5 8.5l.94-2.06 2.06-.94-2.06-.94L8.5 2.5l-.94 2.06-2.06.94zm10 10l.94 2.06.94-2.06 2.06-.94-2.06-.94-.94-2.06-.94 2.06-2.06.94z\"/><path d=\"M17.41 7.96l-1.37-1.37c-.4-.4-.92-.59-1.43-.59-.52 0-1.04.2-1.43.59L10.3 9.45l-7.72 7.72c-.78.78-.78 2.05 0 2.83L4 21.41c.39.39.9.59 1.41.59.51 0 1.02-.2 1.41-.59l7.78-7.78 2.81-2.81c.8-.78.8-2.07 0-2.86zM5.41 20L4 18.59l7.72-7.72 1.47 1.35L5.41 20z\"/>\n",
              "  </svg>\n",
              "      </button>\n",
              "      \n",
              "  <style>\n",
              "    .colab-df-container {\n",
              "      display:flex;\n",
              "      flex-wrap:wrap;\n",
              "      gap: 12px;\n",
              "    }\n",
              "\n",
              "    .colab-df-convert {\n",
              "      background-color: #E8F0FE;\n",
              "      border: none;\n",
              "      border-radius: 50%;\n",
              "      cursor: pointer;\n",
              "      display: none;\n",
              "      fill: #1967D2;\n",
              "      height: 32px;\n",
              "      padding: 0 0 0 0;\n",
              "      width: 32px;\n",
              "    }\n",
              "\n",
              "    .colab-df-convert:hover {\n",
              "      background-color: #E2EBFA;\n",
              "      box-shadow: 0px 1px 2px rgba(60, 64, 67, 0.3), 0px 1px 3px 1px rgba(60, 64, 67, 0.15);\n",
              "      fill: #174EA6;\n",
              "    }\n",
              "\n",
              "    [theme=dark] .colab-df-convert {\n",
              "      background-color: #3B4455;\n",
              "      fill: #D2E3FC;\n",
              "    }\n",
              "\n",
              "    [theme=dark] .colab-df-convert:hover {\n",
              "      background-color: #434B5C;\n",
              "      box-shadow: 0px 1px 3px 1px rgba(0, 0, 0, 0.15);\n",
              "      filter: drop-shadow(0px 1px 2px rgba(0, 0, 0, 0.3));\n",
              "      fill: #FFFFFF;\n",
              "    }\n",
              "  </style>\n",
              "\n",
              "      <script>\n",
              "        const buttonEl =\n",
              "          document.querySelector('#df-0870f3db-5acf-41dd-ac8f-a5d50d465a57 button.colab-df-convert');\n",
              "        buttonEl.style.display =\n",
              "          google.colab.kernel.accessAllowed ? 'block' : 'none';\n",
              "\n",
              "        async function convertToInteractive(key) {\n",
              "          const element = document.querySelector('#df-0870f3db-5acf-41dd-ac8f-a5d50d465a57');\n",
              "          const dataTable =\n",
              "            await google.colab.kernel.invokeFunction('convertToInteractive',\n",
              "                                                     [key], {});\n",
              "          if (!dataTable) return;\n",
              "\n",
              "          const docLinkHtml = 'Like what you see? Visit the ' +\n",
              "            '<a target=\"_blank\" href=https://colab.research.google.com/notebooks/data_table.ipynb>data table notebook</a>'\n",
              "            + ' to learn more about interactive tables.';\n",
              "          element.innerHTML = '';\n",
              "          dataTable['output_type'] = 'display_data';\n",
              "          await google.colab.output.renderOutput(dataTable, element);\n",
              "          const docLink = document.createElement('div');\n",
              "          docLink.innerHTML = docLinkHtml;\n",
              "          element.appendChild(docLink);\n",
              "        }\n",
              "      </script>\n",
              "    </div>\n",
              "  </div>\n",
              "  "
            ]
          },
          "metadata": {},
          "execution_count": 31
        }
      ]
    },
    {
      "cell_type": "code",
      "source": [
        "# Visualizando se existe diferença de sobrevivencia entre os títulos femininos (Mrs,Miss e Outras mulheres)\n",
        "\n",
        "from scipy.stats import ranksums\n",
        "dados_mrs = dados[dados['Titulos']=='Mrs.']['Sobreviveu']\n",
        "dados_miss = dados[dados['Titulos']=='Miss.']['Sobreviveu']\n",
        "dados_outras = dados[dados['Titulos']=='Outras Mulheres Nobres']['Sobreviveu']\n",
        "_,pv1 = ranksums(dados_mrs,dados_miss)\n",
        "_,pv2 = ranksums(dados_mrs,dados_outras)\n",
        "_,pv3 = ranksums(dados_miss,dados_outras)\n",
        "print(pv1,pv2,pv3)\n",
        "# O tipo de título feminino não causa diferença na sobrevivência"
      ],
      "metadata": {
        "colab": {
          "base_uri": "https://localhost:8080/",
          "height": 0
        },
        "id": "u2t-5bxGu_ml",
        "outputId": "ce26004c-470b-4ddc-9614-cbd3d8581ad0"
      },
      "execution_count": 32,
      "outputs": [
        {
          "output_type": "stream",
          "name": "stdout",
          "text": [
            "0.152705728079635 0.5532558431487073 0.343316728017542\n"
          ]
        }
      ]
    },
    {
      "cell_type": "code",
      "source": [
        "# visualizando se é diferente\n",
        "from scipy.stats import ranksums\n",
        "selecao_mr_outros = ['Mr.','Outros Homens Nobres']\n",
        "dados_mr_outros = dados[dados['Titulos'].isin(selecao_mr_outros)]['Sobreviveu']\n",
        "\n",
        "selecao_master_militares = ['Master.','Militares']\n",
        "dados_master_militares = dados[dados['Titulos'].isin(selecao_master_militares)]['Sobreviveu']\n",
        "\n",
        "_,pv = ranksums(dados_mr_outros,dados_master_militares)\n",
        "print(pv) # A sobrevivencia dos passageiros com título 'Mr.' e 'Outros Homens Nobres' é diferente (menor) do que 'Master.' e 'Militares'. "
      ],
      "metadata": {
        "colab": {
          "base_uri": "https://localhost:8080/",
          "height": 0
        },
        "id": "C6D7OlBiwDZm",
        "outputId": "8394da59-c934-4b8b-c9dc-ab916fb578b6"
      },
      "execution_count": 33,
      "outputs": [
        {
          "output_type": "stream",
          "name": "stdout",
          "text": [
            "0.0003876080672648017\n"
          ]
        }
      ]
    },
    {
      "cell_type": "code",
      "source": [
        "# Removendo a variável nome (Já que não nos é mais útil)\n",
        "del dados['Nome']"
      ],
      "metadata": {
        "id": "GC-Fpe1-VVNc"
      },
      "execution_count": 34,
      "outputs": []
    },
    {
      "cell_type": "markdown",
      "source": [
        "## Irmãos/Conjugue e Parentes/Crianças"
      ],
      "metadata": {
        "id": "Lm-HIe32pRQO"
      }
    },
    {
      "cell_type": "markdown",
      "source": [
        "Irmãos/Conjugues"
      ],
      "metadata": {
        "id": "jGDS2Ql_64F0"
      }
    },
    {
      "cell_type": "code",
      "source": [
        "# A grande maioria ou estava sozinho ou acompanhado de uma pessoa.\n",
        "dados['Irmãos/Conjugue'].value_counts().sort_index()"
      ],
      "metadata": {
        "id": "qJ_T1NP3pRtC",
        "colab": {
          "base_uri": "https://localhost:8080/",
          "height": 0
        },
        "outputId": "2321a723-a949-4e5d-b7b8-8efd9d095e75"
      },
      "execution_count": 35,
      "outputs": [
        {
          "output_type": "execute_result",
          "data": {
            "text/plain": [
              "0    891\n",
              "1    319\n",
              "2     42\n",
              "3     20\n",
              "4     22\n",
              "5      6\n",
              "8      9\n",
              "Name: Irmãos/Conjugue, dtype: int64"
            ]
          },
          "metadata": {},
          "execution_count": 35
        }
      ]
    },
    {
      "cell_type": "code",
      "source": [
        "# Vemos que as pessoas que estavam sozinhas parece que tiveram uma taxa muito menor de sobrevivencia do que as pessoas que estavam com 1 acompanhante.\n",
        "sns.countplot(x='Irmãos/Conjugue',data = dados, hue = 'Sobreviveu')"
      ],
      "metadata": {
        "colab": {
          "base_uri": "https://localhost:8080/",
          "height": 0
        },
        "id": "A8WVaNJs4FRS",
        "outputId": "588e237e-0d82-4d9b-9c09-21d3a9666e48"
      },
      "execution_count": 36,
      "outputs": [
        {
          "output_type": "execute_result",
          "data": {
            "text/plain": [
              "<matplotlib.axes._subplots.AxesSubplot at 0x7f43f917de20>"
            ]
          },
          "metadata": {},
          "execution_count": 36
        },
        {
          "output_type": "display_data",
          "data": {
            "text/plain": [
              "<Figure size 432x288 with 1 Axes>"
            ],
            "image/png": "[encoded data removed]"
          },
          "metadata": {
            "needs_background": "light"
          }
        }
      ]
    },
    {
      "cell_type": "code",
      "source": [
        "# Vamos analisar a porcentagem de sobrevivencia:\n",
        "\n",
        "distribuicao_irmaos_conjugue = dados['Irmãos/Conjugue'].value_counts().sort_index()\n",
        "distribuicao_irmaos_conjugue_sobreviventes = dados[dados['Sobreviveu']==1]['Irmãos/Conjugue'].value_counts().sort_index()\n",
        "porcentagem_irmaos_conjugue = ((distribuicao_irmaos_conjugue_sobreviventes/distribuicao_irmaos_conjugue)*100).round(2)\n",
        "\n",
        "df_irmaos_conjugue = pd.DataFrame({'Irmãos/Conjugue' : distribuicao_irmaos_conjugue.index.values,\n",
        "                                   'Taxa sobrevivencia(%)' : porcentagem_irmaos_conjugue})\n",
        "\n",
        "df_irmaos_conjugue \n",
        "# Vemos que quem tinha 1,2 filhos/conjugue tinham uma chance rasoável de sobrevivencia comparado aos outros.\n",
        "# Já os que estavam sozinhos ou os que possuem muitos Irmãos/Conjugue, tiveram uma taxa de sobrevivencia relativamente baixa."
      ],
      "metadata": {
        "colab": {
          "base_uri": "https://localhost:8080/",
          "height": 0
        },
        "id": "W8tEpL0R4jLz",
        "outputId": "6f9cfc65-40e1-44c2-b51b-e8d5c2102a6a"
      },
      "execution_count": 37,
      "outputs": [
        {
          "output_type": "execute_result",
          "data": {
            "text/plain": [
              "   Irmãos/Conjugue  Taxa sobrevivencia(%)\n",
              "0                0                  33.45\n",
              "1                1                  52.04\n",
              "2                2                  45.24\n",
              "3                3                  25.00\n",
              "4                4                  18.18\n",
              "5                5                  16.67\n",
              "8                8                  11.11"
            ],
            "text/html": [
              "\n",
              "  <div id=\"df-6dd24850-3d43-4037-9e99-097bc91c2654\">\n",
              "    <div class=\"colab-df-container\">\n",
              "      <div>\n",
              "<style scoped>\n",
              "    .dataframe tbody tr th:only-of-type {\n",
              "        vertical-align: middle;\n",
              "    }\n",
              "\n",
              "    .dataframe tbody tr th {\n",
              "        vertical-align: top;\n",
              "    }\n",
              "\n",
              "    .dataframe thead th {\n",
              "        text-align: right;\n",
              "    }\n",
              "</style>\n",
              "<table border=\"1\" class=\"dataframe\">\n",
              "  <thead>\n",
              "    <tr style=\"text-align: right;\">\n",
              "      <th></th>\n",
              "      <th>Irmãos/Conjugue</th>\n",
              "      <th>Taxa sobrevivencia(%)</th>\n",
              "    </tr>\n",
              "  </thead>\n",
              "  <tbody>\n",
              "    <tr>\n",
              "      <th>0</th>\n",
              "      <td>0</td>\n",
              "      <td>33.45</td>\n",
              "    </tr>\n",
              "    <tr>\n",
              "      <th>1</th>\n",
              "      <td>1</td>\n",
              "      <td>52.04</td>\n",
              "    </tr>\n",
              "    <tr>\n",
              "      <th>2</th>\n",
              "      <td>2</td>\n",
              "      <td>45.24</td>\n",
              "    </tr>\n",
              "    <tr>\n",
              "      <th>3</th>\n",
              "      <td>3</td>\n",
              "      <td>25.00</td>\n",
              "    </tr>\n",
              "    <tr>\n",
              "      <th>4</th>\n",
              "      <td>4</td>\n",
              "      <td>18.18</td>\n",
              "    </tr>\n",
              "    <tr>\n",
              "      <th>5</th>\n",
              "      <td>5</td>\n",
              "      <td>16.67</td>\n",
              "    </tr>\n",
              "    <tr>\n",
              "      <th>8</th>\n",
              "      <td>8</td>\n",
              "      <td>11.11</td>\n",
              "    </tr>\n",
              "  </tbody>\n",
              "</table>\n",
              "</div>\n",
              "      <button class=\"colab-df-convert\" onclick=\"convertToInteractive('df-6dd24850-3d43-4037-9e99-097bc91c2654')\"\n",
              "              title=\"Convert this dataframe to an interactive table.\"\n",
              "              style=\"display:none;\">\n",
              "        \n",
              "  <svg xmlns=\"http://www.w3.org/2000/svg\" height=\"24px\"viewBox=\"0 0 24 24\"\n",
              "       width=\"24px\">\n",
              "    <path d=\"M0 0h24v24H0V0z\" fill=\"none\"/>\n",
              "    <path d=\"M18.56 5.44l.94 2.06.94-2.06 2.06-.94-2.06-.94-.94-2.06-.94 2.06-2.06.94zm-11 1L8.5 8.5l.94-2.06 2.06-.94-2.06-.94L8.5 2.5l-.94 2.06-2.06.94zm10 10l.94 2.06.94-2.06 2.06-.94-2.06-.94-.94-2.06-.94 2.06-2.06.94z\"/><path d=\"M17.41 7.96l-1.37-1.37c-.4-.4-.92-.59-1.43-.59-.52 0-1.04.2-1.43.59L10.3 9.45l-7.72 7.72c-.78.78-.78 2.05 0 2.83L4 21.41c.39.39.9.59 1.41.59.51 0 1.02-.2 1.41-.59l7.78-7.78 2.81-2.81c.8-.78.8-2.07 0-2.86zM5.41 20L4 18.59l7.72-7.72 1.47 1.35L5.41 20z\"/>\n",
              "  </svg>\n",
              "      </button>\n",
              "      \n",
              "  <style>\n",
              "    .colab-df-container {\n",
              "      display:flex;\n",
              "      flex-wrap:wrap;\n",
              "      gap: 12px;\n",
              "    }\n",
              "\n",
              "    .colab-df-convert {\n",
              "      background-color: #E8F0FE;\n",
              "      border: none;\n",
              "      border-radius: 50%;\n",
              "      cursor: pointer;\n",
              "      display: none;\n",
              "      fill: #1967D2;\n",
              "      height: 32px;\n",
              "      padding: 0 0 0 0;\n",
              "      width: 32px;\n",
              "    }\n",
              "\n",
              "    .colab-df-convert:hover {\n",
              "      background-color: #E2EBFA;\n",
              "      box-shadow: 0px 1px 2px rgba(60, 64, 67, 0.3), 0px 1px 3px 1px rgba(60, 64, 67, 0.15);\n",
              "      fill: #174EA6;\n",
              "    }\n",
              "\n",
              "    [theme=dark] .colab-df-convert {\n",
              "      background-color: #3B4455;\n",
              "      fill: #D2E3FC;\n",
              "    }\n",
              "\n",
              "    [theme=dark] .colab-df-convert:hover {\n",
              "      background-color: #434B5C;\n",
              "      box-shadow: 0px 1px 3px 1px rgba(0, 0, 0, 0.15);\n",
              "      filter: drop-shadow(0px 1px 2px rgba(0, 0, 0, 0.3));\n",
              "      fill: #FFFFFF;\n",
              "    }\n",
              "  </style>\n",
              "\n",
              "      <script>\n",
              "        const buttonEl =\n",
              "          document.querySelector('#df-6dd24850-3d43-4037-9e99-097bc91c2654 button.colab-df-convert');\n",
              "        buttonEl.style.display =\n",
              "          google.colab.kernel.accessAllowed ? 'block' : 'none';\n",
              "\n",
              "        async function convertToInteractive(key) {\n",
              "          const element = document.querySelector('#df-6dd24850-3d43-4037-9e99-097bc91c2654');\n",
              "          const dataTable =\n",
              "            await google.colab.kernel.invokeFunction('convertToInteractive',\n",
              "                                                     [key], {});\n",
              "          if (!dataTable) return;\n",
              "\n",
              "          const docLinkHtml = 'Like what you see? Visit the ' +\n",
              "            '<a target=\"_blank\" href=https://colab.research.google.com/notebooks/data_table.ipynb>data table notebook</a>'\n",
              "            + ' to learn more about interactive tables.';\n",
              "          element.innerHTML = '';\n",
              "          dataTable['output_type'] = 'display_data';\n",
              "          await google.colab.output.renderOutput(dataTable, element);\n",
              "          const docLink = document.createElement('div');\n",
              "          docLink.innerHTML = docLinkHtml;\n",
              "          element.appendChild(docLink);\n",
              "        }\n",
              "      </script>\n",
              "    </div>\n",
              "  </div>\n",
              "  "
            ]
          },
          "metadata": {},
          "execution_count": 37
        }
      ]
    },
    {
      "cell_type": "markdown",
      "source": [
        "Parentes/Crianças"
      ],
      "metadata": {
        "id": "TmlnTFFS6650"
      }
    },
    {
      "cell_type": "code",
      "source": [
        "# Vamos verificar a distrivuição dessa variável:\n",
        "dados['Parentes/Crianças'].value_counts().sort_index()\n",
        "# A grande maioria não estava com parentes e/ou crianças, além disso pouquíssimos passageiros apresentam valores acima de 3 Parentes/Crianças."
      ],
      "metadata": {
        "colab": {
          "base_uri": "https://localhost:8080/",
          "height": 0
        },
        "id": "_e9YAMk75II9",
        "outputId": "955bf2f6-7ea3-45e8-fce8-edf5cf086991"
      },
      "execution_count": 38,
      "outputs": [
        {
          "output_type": "execute_result",
          "data": {
            "text/plain": [
              "0    1002\n",
              "1     170\n",
              "2     113\n",
              "3       8\n",
              "4       6\n",
              "5       6\n",
              "6       2\n",
              "9       2\n",
              "Name: Parentes/Crianças, dtype: int64"
            ]
          },
          "metadata": {},
          "execution_count": 38
        }
      ]
    },
    {
      "cell_type": "code",
      "source": [
        "# Visualizando a distribuição pela sobrevivência\n",
        "sns.countplot(x='Parentes/Crianças',hue='Sobreviveu',data = dados)\n",
        "# Parece se comportar como a distribuição de Filhos/Conjugue"
      ],
      "metadata": {
        "colab": {
          "base_uri": "https://localhost:8080/",
          "height": 0
        },
        "id": "PSfRZoXW7Bxx",
        "outputId": "c35b7187-eb85-44d0-da2f-158958b20dfa"
      },
      "execution_count": 39,
      "outputs": [
        {
          "output_type": "execute_result",
          "data": {
            "text/plain": [
              "<matplotlib.axes._subplots.AxesSubplot at 0x7f43f9109820>"
            ]
          },
          "metadata": {},
          "execution_count": 39
        },
        {
          "output_type": "display_data",
          "data": {
            "text/plain": [
              "<Figure size 432x288 with 1 Axes>"
            ],
            "image/png": "[encoded data removed]"
          },
          "metadata": {
            "needs_background": "light"
          }
        }
      ]
    },
    {
      "cell_type": "code",
      "source": [
        "# Vamos verificar numéricamente essa distribuição:\n",
        "distribuicao_parentes = dados['Parentes/Crianças'].value_counts().sort_index()\n",
        "distribuicao_parentes_sobreviventes = dados.groupby('Parentes/Crianças')['Sobreviveu'].sum()\n",
        "porcentagem_parentes = ((distribuicao_parentes_sobreviventes/distribuicao_parentes)*100).round(2)\n",
        "\n",
        "df_parentes = pd.DataFrame({'Parentes' : distribuicao_parentes.index.values,\n",
        "                            'Nº Total de pessoas':distribuicao_parentes.values,\n",
        "                            'Nº Sobreviventes':distribuicao_parentes_sobreviventes.values,\n",
        "                            'Taxa sobrevivencia(%)' : porcentagem_parentes})\n",
        "df_parentes \n",
        "# Para os valores com maior frequencia (pessoas com 1 ou 2 Parentes/Crianças) a taxa de sobrevivencia é quase identica a da filhos/conjugue.\n",
        "# Já os outros valores (pessoas com 3,4,5,6,9) já se mostram um pouco mais diferentes, mas por serem poucas pessoas, é esperado que a taxa fique muito dispersa.\n",
        "# As pessoas que não possuem parentes, possuem uma taxa 20% a menos do que quem tem 1 ou 2.. é muito estranho. "
      ],
      "metadata": {
        "colab": {
          "base_uri": "https://localhost:8080/",
          "height": 0
        },
        "id": "ydPwVsKA7bKw",
        "outputId": "02c8f626-85ef-422d-fd9d-99a44c913409"
      },
      "execution_count": 40,
      "outputs": [
        {
          "output_type": "execute_result",
          "data": {
            "text/plain": [
              "                   Parentes  Nº Total de pessoas  Nº Sobreviventes  \\\n",
              "Parentes/Crianças                                                    \n",
              "0                         0                 1002               332   \n",
              "1                         1                  170                93   \n",
              "2                         2                  113                60   \n",
              "3                         3                    8                 5   \n",
              "4                         4                    6                 2   \n",
              "5                         5                    6                 1   \n",
              "6                         6                    2                 0   \n",
              "9                         9                    2                 1   \n",
              "\n",
              "                   Taxa sobrevivencia(%)  \n",
              "Parentes/Crianças                         \n",
              "0                                  33.13  \n",
              "1                                  54.71  \n",
              "2                                  53.10  \n",
              "3                                  62.50  \n",
              "4                                  33.33  \n",
              "5                                  16.67  \n",
              "6                                   0.00  \n",
              "9                                  50.00  "
            ],
            "text/html": [
              "\n",
              "  <div id=\"df-21868904-65b3-468a-82db-2e24cb300a83\">\n",
              "    <div class=\"colab-df-container\">\n",
              "      <div>\n",
              "<style scoped>\n",
              "    .dataframe tbody tr th:only-of-type {\n",
              "        vertical-align: middle;\n",
              "    }\n",
              "\n",
              "    .dataframe tbody tr th {\n",
              "        vertical-align: top;\n",
              "    }\n",
              "\n",
              "    .dataframe thead th {\n",
              "        text-align: right;\n",
              "    }\n",
              "</style>\n",
              "<table border=\"1\" class=\"dataframe\">\n",
              "  <thead>\n",
              "    <tr style=\"text-align: right;\">\n",
              "      <th></th>\n",
              "      <th>Parentes</th>\n",
              "      <th>Nº Total de pessoas</th>\n",
              "      <th>Nº Sobreviventes</th>\n",
              "      <th>Taxa sobrevivencia(%)</th>\n",
              "    </tr>\n",
              "    <tr>\n",
              "      <th>Parentes/Crianças</th>\n",
              "      <th></th>\n",
              "      <th></th>\n",
              "      <th></th>\n",
              "      <th></th>\n",
              "    </tr>\n",
              "  </thead>\n",
              "  <tbody>\n",
              "    <tr>\n",
              "      <th>0</th>\n",
              "      <td>0</td>\n",
              "      <td>1002</td>\n",
              "      <td>332</td>\n",
              "      <td>33.13</td>\n",
              "    </tr>\n",
              "    <tr>\n",
              "      <th>1</th>\n",
              "      <td>1</td>\n",
              "      <td>170</td>\n",
              "      <td>93</td>\n",
              "      <td>54.71</td>\n",
              "    </tr>\n",
              "    <tr>\n",
              "      <th>2</th>\n",
              "      <td>2</td>\n",
              "      <td>113</td>\n",
              "      <td>60</td>\n",
              "      <td>53.10</td>\n",
              "    </tr>\n",
              "    <tr>\n",
              "      <th>3</th>\n",
              "      <td>3</td>\n",
              "      <td>8</td>\n",
              "      <td>5</td>\n",
              "      <td>62.50</td>\n",
              "    </tr>\n",
              "    <tr>\n",
              "      <th>4</th>\n",
              "      <td>4</td>\n",
              "      <td>6</td>\n",
              "      <td>2</td>\n",
              "      <td>33.33</td>\n",
              "    </tr>\n",
              "    <tr>\n",
              "      <th>5</th>\n",
              "      <td>5</td>\n",
              "      <td>6</td>\n",
              "      <td>1</td>\n",
              "      <td>16.67</td>\n",
              "    </tr>\n",
              "    <tr>\n",
              "      <th>6</th>\n",
              "      <td>6</td>\n",
              "      <td>2</td>\n",
              "      <td>0</td>\n",
              "      <td>0.00</td>\n",
              "    </tr>\n",
              "    <tr>\n",
              "      <th>9</th>\n",
              "      <td>9</td>\n",
              "      <td>2</td>\n",
              "      <td>1</td>\n",
              "      <td>50.00</td>\n",
              "    </tr>\n",
              "  </tbody>\n",
              "</table>\n",
              "</div>\n",
              "      <button class=\"colab-df-convert\" onclick=\"convertToInteractive('df-21868904-65b3-468a-82db-2e24cb300a83')\"\n",
              "              title=\"Convert this dataframe to an interactive table.\"\n",
              "              style=\"display:none;\">\n",
              "        \n",
              "  <svg xmlns=\"http://www.w3.org/2000/svg\" height=\"24px\"viewBox=\"0 0 24 24\"\n",
              "       width=\"24px\">\n",
              "    <path d=\"M0 0h24v24H0V0z\" fill=\"none\"/>\n",
              "    <path d=\"M18.56 5.44l.94 2.06.94-2.06 2.06-.94-2.06-.94-.94-2.06-.94 2.06-2.06.94zm-11 1L8.5 8.5l.94-2.06 2.06-.94-2.06-.94L8.5 2.5l-.94 2.06-2.06.94zm10 10l.94 2.06.94-2.06 2.06-.94-2.06-.94-.94-2.06-.94 2.06-2.06.94z\"/><path d=\"M17.41 7.96l-1.37-1.37c-.4-.4-.92-.59-1.43-.59-.52 0-1.04.2-1.43.59L10.3 9.45l-7.72 7.72c-.78.78-.78 2.05 0 2.83L4 21.41c.39.39.9.59 1.41.59.51 0 1.02-.2 1.41-.59l7.78-7.78 2.81-2.81c.8-.78.8-2.07 0-2.86zM5.41 20L4 18.59l7.72-7.72 1.47 1.35L5.41 20z\"/>\n",
              "  </svg>\n",
              "      </button>\n",
              "      \n",
              "  <style>\n",
              "    .colab-df-container {\n",
              "      display:flex;\n",
              "      flex-wrap:wrap;\n",
              "      gap: 12px;\n",
              "    }\n",
              "\n",
              "    .colab-df-convert {\n",
              "      background-color: #E8F0FE;\n",
              "      border: none;\n",
              "      border-radius: 50%;\n",
              "      cursor: pointer;\n",
              "      display: none;\n",
              "      fill: #1967D2;\n",
              "      height: 32px;\n",
              "      padding: 0 0 0 0;\n",
              "      width: 32px;\n",
              "    }\n",
              "\n",
              "    .colab-df-convert:hover {\n",
              "      background-color: #E2EBFA;\n",
              "      box-shadow: 0px 1px 2px rgba(60, 64, 67, 0.3), 0px 1px 3px 1px rgba(60, 64, 67, 0.15);\n",
              "      fill: #174EA6;\n",
              "    }\n",
              "\n",
              "    [theme=dark] .colab-df-convert {\n",
              "      background-color: #3B4455;\n",
              "      fill: #D2E3FC;\n",
              "    }\n",
              "\n",
              "    [theme=dark] .colab-df-convert:hover {\n",
              "      background-color: #434B5C;\n",
              "      box-shadow: 0px 1px 3px 1px rgba(0, 0, 0, 0.15);\n",
              "      filter: drop-shadow(0px 1px 2px rgba(0, 0, 0, 0.3));\n",
              "      fill: #FFFFFF;\n",
              "    }\n",
              "  </style>\n",
              "\n",
              "      <script>\n",
              "        const buttonEl =\n",
              "          document.querySelector('#df-21868904-65b3-468a-82db-2e24cb300a83 button.colab-df-convert');\n",
              "        buttonEl.style.display =\n",
              "          google.colab.kernel.accessAllowed ? 'block' : 'none';\n",
              "\n",
              "        async function convertToInteractive(key) {\n",
              "          const element = document.querySelector('#df-21868904-65b3-468a-82db-2e24cb300a83');\n",
              "          const dataTable =\n",
              "            await google.colab.kernel.invokeFunction('convertToInteractive',\n",
              "                                                     [key], {});\n",
              "          if (!dataTable) return;\n",
              "\n",
              "          const docLinkHtml = 'Like what you see? Visit the ' +\n",
              "            '<a target=\"_blank\" href=https://colab.research.google.com/notebooks/data_table.ipynb>data table notebook</a>'\n",
              "            + ' to learn more about interactive tables.';\n",
              "          element.innerHTML = '';\n",
              "          dataTable['output_type'] = 'display_data';\n",
              "          await google.colab.output.renderOutput(dataTable, element);\n",
              "          const docLink = document.createElement('div');\n",
              "          docLink.innerHTML = docLinkHtml;\n",
              "          element.appendChild(docLink);\n",
              "        }\n",
              "      </script>\n",
              "    </div>\n",
              "  </div>\n",
              "  "
            ]
          },
          "metadata": {},
          "execution_count": 40
        }
      ]
    },
    {
      "cell_type": "markdown",
      "source": [
        "Criando a variável Acompanhantes"
      ],
      "metadata": {
        "id": "jnXtHbWO_mBz"
      }
    },
    {
      "cell_type": "code",
      "source": [
        "# Vamos ver se juntando essas duas variáveis, que possuem comportamento parecido, conseguimos alguma informação nova.\n",
        "\n",
        "dados['Acompanhantes'] = dados['Parentes/Crianças'] + dados['Irmãos/Conjugue']"
      ],
      "metadata": {
        "id": "JGt0GwFg9dY8"
      },
      "execution_count": 41,
      "outputs": []
    },
    {
      "cell_type": "code",
      "source": [
        "# Vamos montar uma tabela para visualizar a distribuição da variável criada\n",
        "distribuicao_acompanhantes = dados['Acompanhantes'].value_counts().sort_index()\n",
        "distribuicao_acompanhantes_sobreviventes = dados.groupby('Acompanhantes')['Sobreviveu'].sum()\n",
        "porcentagem_acompanhantes = ((distribuicao_acompanhantes_sobreviventes/distribuicao_acompanhantes)*100).round(2)\n",
        "\n",
        "df_acompanhantes = pd.DataFrame({'Acompanhantes' : distribuicao_acompanhantes.index.values,\n",
        "                        'Nº Total de pessoas':distribuicao_acompanhantes.values,\n",
        "                        'Nº Sobreviventes':distribuicao_acompanhantes_sobreviventes.values,\n",
        "                        'Taxa sobrevivencia(%)' : porcentagem_acompanhantes})\n",
        "df_acompanhantes\n",
        "# Parece haver uma diferença muito significativa entre as pessoas que não possuem acompanhantes"
      ],
      "metadata": {
        "colab": {
          "base_uri": "https://localhost:8080/",
          "height": 0
        },
        "id": "WmZbAI_r__Wu",
        "outputId": "409ff4b8-3253-4c05-ebce-a064c0e2c60a"
      },
      "execution_count": 42,
      "outputs": [
        {
          "output_type": "execute_result",
          "data": {
            "text/plain": [
              "               Acompanhantes  Nº Total de pessoas  Nº Sobreviventes  \\\n",
              "Acompanhantes                                                         \n",
              "0                          0                  790               231   \n",
              "1                          1                  235               125   \n",
              "2                          2                  159                89   \n",
              "3                          3                   43                31   \n",
              "4                          4                   22                 5   \n",
              "5                          5                   25                 5   \n",
              "6                          6                   16                 5   \n",
              "7                          7                    8                 1   \n",
              "10                        10                   11                 2   \n",
              "\n",
              "               Taxa sobrevivencia(%)  \n",
              "Acompanhantes                         \n",
              "0                              29.24  \n",
              "1                              53.19  \n",
              "2                              55.97  \n",
              "3                              72.09  \n",
              "4                              22.73  \n",
              "5                              20.00  \n",
              "6                              31.25  \n",
              "7                              12.50  \n",
              "10                             18.18  "
            ],
            "text/html": [
              "\n",
              "  <div id=\"df-75782518-929e-43bc-816d-eb779d74b733\">\n",
              "    <div class=\"colab-df-container\">\n",
              "      <div>\n",
              "<style scoped>\n",
              "    .dataframe tbody tr th:only-of-type {\n",
              "        vertical-align: middle;\n",
              "    }\n",
              "\n",
              "    .dataframe tbody tr th {\n",
              "        vertical-align: top;\n",
              "    }\n",
              "\n",
              "    .dataframe thead th {\n",
              "        text-align: right;\n",
              "    }\n",
              "</style>\n",
              "<table border=\"1\" class=\"dataframe\">\n",
              "  <thead>\n",
              "    <tr style=\"text-align: right;\">\n",
              "      <th></th>\n",
              "      <th>Acompanhantes</th>\n",
              "      <th>Nº Total de pessoas</th>\n",
              "      <th>Nº Sobreviventes</th>\n",
              "      <th>Taxa sobrevivencia(%)</th>\n",
              "    </tr>\n",
              "    <tr>\n",
              "      <th>Acompanhantes</th>\n",
              "      <th></th>\n",
              "      <th></th>\n",
              "      <th></th>\n",
              "      <th></th>\n",
              "    </tr>\n",
              "  </thead>\n",
              "  <tbody>\n",
              "    <tr>\n",
              "      <th>0</th>\n",
              "      <td>0</td>\n",
              "      <td>790</td>\n",
              "      <td>231</td>\n",
              "      <td>29.24</td>\n",
              "    </tr>\n",
              "    <tr>\n",
              "      <th>1</th>\n",
              "      <td>1</td>\n",
              "      <td>235</td>\n",
              "      <td>125</td>\n",
              "      <td>53.19</td>\n",
              "    </tr>\n",
              "    <tr>\n",
              "      <th>2</th>\n",
              "      <td>2</td>\n",
              "      <td>159</td>\n",
              "      <td>89</td>\n",
              "      <td>55.97</td>\n",
              "    </tr>\n",
              "    <tr>\n",
              "      <th>3</th>\n",
              "      <td>3</td>\n",
              "      <td>43</td>\n",
              "      <td>31</td>\n",
              "      <td>72.09</td>\n",
              "    </tr>\n",
              "    <tr>\n",
              "      <th>4</th>\n",
              "      <td>4</td>\n",
              "      <td>22</td>\n",
              "      <td>5</td>\n",
              "      <td>22.73</td>\n",
              "    </tr>\n",
              "    <tr>\n",
              "      <th>5</th>\n",
              "      <td>5</td>\n",
              "      <td>25</td>\n",
              "      <td>5</td>\n",
              "      <td>20.00</td>\n",
              "    </tr>\n",
              "    <tr>\n",
              "      <th>6</th>\n",
              "      <td>6</td>\n",
              "      <td>16</td>\n",
              "      <td>5</td>\n",
              "      <td>31.25</td>\n",
              "    </tr>\n",
              "    <tr>\n",
              "      <th>7</th>\n",
              "      <td>7</td>\n",
              "      <td>8</td>\n",
              "      <td>1</td>\n",
              "      <td>12.50</td>\n",
              "    </tr>\n",
              "    <tr>\n",
              "      <th>10</th>\n",
              "      <td>10</td>\n",
              "      <td>11</td>\n",
              "      <td>2</td>\n",
              "      <td>18.18</td>\n",
              "    </tr>\n",
              "  </tbody>\n",
              "</table>\n",
              "</div>\n",
              "      <button class=\"colab-df-convert\" onclick=\"convertToInteractive('df-75782518-929e-43bc-816d-eb779d74b733')\"\n",
              "              title=\"Convert this dataframe to an interactive table.\"\n",
              "              style=\"display:none;\">\n",
              "        \n",
              "  <svg xmlns=\"http://www.w3.org/2000/svg\" height=\"24px\"viewBox=\"0 0 24 24\"\n",
              "       width=\"24px\">\n",
              "    <path d=\"M0 0h24v24H0V0z\" fill=\"none\"/>\n",
              "    <path d=\"M18.56 5.44l.94 2.06.94-2.06 2.06-.94-2.06-.94-.94-2.06-.94 2.06-2.06.94zm-11 1L8.5 8.5l.94-2.06 2.06-.94-2.06-.94L8.5 2.5l-.94 2.06-2.06.94zm10 10l.94 2.06.94-2.06 2.06-.94-2.06-.94-.94-2.06-.94 2.06-2.06.94z\"/><path d=\"M17.41 7.96l-1.37-1.37c-.4-.4-.92-.59-1.43-.59-.52 0-1.04.2-1.43.59L10.3 9.45l-7.72 7.72c-.78.78-.78 2.05 0 2.83L4 21.41c.39.39.9.59 1.41.59.51 0 1.02-.2 1.41-.59l7.78-7.78 2.81-2.81c.8-.78.8-2.07 0-2.86zM5.41 20L4 18.59l7.72-7.72 1.47 1.35L5.41 20z\"/>\n",
              "  </svg>\n",
              "      </button>\n",
              "      \n",
              "  <style>\n",
              "    .colab-df-container {\n",
              "      display:flex;\n",
              "      flex-wrap:wrap;\n",
              "      gap: 12px;\n",
              "    }\n",
              "\n",
              "    .colab-df-convert {\n",
              "      background-color: #E8F0FE;\n",
              "      border: none;\n",
              "      border-radius: 50%;\n",
              "      cursor: pointer;\n",
              "      display: none;\n",
              "      fill: #1967D2;\n",
              "      height: 32px;\n",
              "      padding: 0 0 0 0;\n",
              "      width: 32px;\n",
              "    }\n",
              "\n",
              "    .colab-df-convert:hover {\n",
              "      background-color: #E2EBFA;\n",
              "      box-shadow: 0px 1px 2px rgba(60, 64, 67, 0.3), 0px 1px 3px 1px rgba(60, 64, 67, 0.15);\n",
              "      fill: #174EA6;\n",
              "    }\n",
              "\n",
              "    [theme=dark] .colab-df-convert {\n",
              "      background-color: #3B4455;\n",
              "      fill: #D2E3FC;\n",
              "    }\n",
              "\n",
              "    [theme=dark] .colab-df-convert:hover {\n",
              "      background-color: #434B5C;\n",
              "      box-shadow: 0px 1px 3px 1px rgba(0, 0, 0, 0.15);\n",
              "      filter: drop-shadow(0px 1px 2px rgba(0, 0, 0, 0.3));\n",
              "      fill: #FFFFFF;\n",
              "    }\n",
              "  </style>\n",
              "\n",
              "      <script>\n",
              "        const buttonEl =\n",
              "          document.querySelector('#df-75782518-929e-43bc-816d-eb779d74b733 button.colab-df-convert');\n",
              "        buttonEl.style.display =\n",
              "          google.colab.kernel.accessAllowed ? 'block' : 'none';\n",
              "\n",
              "        async function convertToInteractive(key) {\n",
              "          const element = document.querySelector('#df-75782518-929e-43bc-816d-eb779d74b733');\n",
              "          const dataTable =\n",
              "            await google.colab.kernel.invokeFunction('convertToInteractive',\n",
              "                                                     [key], {});\n",
              "          if (!dataTable) return;\n",
              "\n",
              "          const docLinkHtml = 'Like what you see? Visit the ' +\n",
              "            '<a target=\"_blank\" href=https://colab.research.google.com/notebooks/data_table.ipynb>data table notebook</a>'\n",
              "            + ' to learn more about interactive tables.';\n",
              "          element.innerHTML = '';\n",
              "          dataTable['output_type'] = 'display_data';\n",
              "          await google.colab.output.renderOutput(dataTable, element);\n",
              "          const docLink = document.createElement('div');\n",
              "          docLink.innerHTML = docLinkHtml;\n",
              "          element.appendChild(docLink);\n",
              "        }\n",
              "      </script>\n",
              "    </div>\n",
              "  </div>\n",
              "  "
            ]
          },
          "metadata": {},
          "execution_count": 42
        }
      ]
    },
    {
      "cell_type": "code",
      "source": [
        "# Verificando se as pessoas que estavam sozinhas possuem mesmo menos chance de sobreviver\n",
        "acompanhantes_0 = dados[dados['Acompanhantes']==0]['Sobreviveu']\n",
        "acompanhantes_1_ou_mais = dados[dados['Acompanhantes']!=0]['Sobreviveu']\n",
        "\n",
        "z,pv = ranksums(acompanhantes_0,acompanhantes_1_ou_mais)\n",
        "pv < 0.05 # Observa-se que as pessoas que estavam sozinhas possuem uma menor chance de sobrevivência. \n",
        "# Um provável motivo deve ser a existÊncia de uma proporção masculina que esteja sozinha a 'afunda' a chance de sobreviver."
      ],
      "metadata": {
        "id": "IyMTyGd4C4mV",
        "colab": {
          "base_uri": "https://localhost:8080/",
          "height": 0
        },
        "outputId": "86c61d6b-bbdd-4003-95aa-64fcd0837266"
      },
      "execution_count": 43,
      "outputs": [
        {
          "output_type": "execute_result",
          "data": {
            "text/plain": [
              "True"
            ]
          },
          "metadata": {},
          "execution_count": 43
        }
      ]
    },
    {
      "cell_type": "code",
      "source": [
        "lista = []\n",
        "indice = (dados['Acompanhantes'].sort_values().unique())\n",
        "for i in indice:\n",
        "  porcentagem = (dados[(dados['Sexo']==1)&(dados['Acompanhantes']==i)].shape[0]/dados[dados['Acompanhantes']==i].shape[0])*100\n",
        "  lista.append(porcentagem)\n",
        "pd.DataFrame([indice,lista])\n",
        "# Observa-se que os valores da variável acompanhantes com uma maioria de HOMENS são os valores 0,5,7 e 10, cujas chances de sobrevivnência são 29%, 20%, 12.5% e 18.8%.\n",
        "# Logo, podemos confirmar que a alta proporção de homens cujo o numero de acompanhantes é 'responsável' pela baixa taxa de sobrevivência.\n",
        "# Ou seja, haviam muitos homens sozinhos no navio, e a maioria destes não sobreviveu. "
      ],
      "metadata": {
        "colab": {
          "base_uri": "https://localhost:8080/",
          "height": 0
        },
        "id": "g3mW8t6PC4kE",
        "outputId": "c8acb6de-6565-4336-fda1-230c97da09da"
      },
      "execution_count": 44,
      "outputs": [
        {
          "output_type": "execute_result",
          "data": {
            "text/plain": [
              "     0    1    2    3    4    5    6    7     8\n",
              "0  0.0  1.0  2.0  3.0  4.0  5.0  6.0  7.0  10.0\n",
              "1  0.0  0.0  0.0  0.0  0.0  0.0  0.0  0.0   0.0"
            ],
            "text/html": [
              "\n",
              "  <div id=\"df-f87af86f-7e50-4d1a-b3e7-22b29a3f72c4\">\n",
              "    <div class=\"colab-df-container\">\n",
              "      <div>\n",
              "<style scoped>\n",
              "    .dataframe tbody tr th:only-of-type {\n",
              "        vertical-align: middle;\n",
              "    }\n",
              "\n",
              "    .dataframe tbody tr th {\n",
              "        vertical-align: top;\n",
              "    }\n",
              "\n",
              "    .dataframe thead th {\n",
              "        text-align: right;\n",
              "    }\n",
              "</style>\n",
              "<table border=\"1\" class=\"dataframe\">\n",
              "  <thead>\n",
              "    <tr style=\"text-align: right;\">\n",
              "      <th></th>\n",
              "      <th>0</th>\n",
              "      <th>1</th>\n",
              "      <th>2</th>\n",
              "      <th>3</th>\n",
              "      <th>4</th>\n",
              "      <th>5</th>\n",
              "      <th>6</th>\n",
              "      <th>7</th>\n",
              "      <th>8</th>\n",
              "    </tr>\n",
              "  </thead>\n",
              "  <tbody>\n",
              "    <tr>\n",
              "      <th>0</th>\n",
              "      <td>0.0</td>\n",
              "      <td>1.0</td>\n",
              "      <td>2.0</td>\n",
              "      <td>3.0</td>\n",
              "      <td>4.0</td>\n",
              "      <td>5.0</td>\n",
              "      <td>6.0</td>\n",
              "      <td>7.0</td>\n",
              "      <td>10.0</td>\n",
              "    </tr>\n",
              "    <tr>\n",
              "      <th>1</th>\n",
              "      <td>0.0</td>\n",
              "      <td>0.0</td>\n",
              "      <td>0.0</td>\n",
              "      <td>0.0</td>\n",
              "      <td>0.0</td>\n",
              "      <td>0.0</td>\n",
              "      <td>0.0</td>\n",
              "      <td>0.0</td>\n",
              "      <td>0.0</td>\n",
              "    </tr>\n",
              "  </tbody>\n",
              "</table>\n",
              "</div>\n",
              "      <button class=\"colab-df-convert\" onclick=\"convertToInteractive('df-f87af86f-7e50-4d1a-b3e7-22b29a3f72c4')\"\n",
              "              title=\"Convert this dataframe to an interactive table.\"\n",
              "              style=\"display:none;\">\n",
              "        \n",
              "  <svg xmlns=\"http://www.w3.org/2000/svg\" height=\"24px\"viewBox=\"0 0 24 24\"\n",
              "       width=\"24px\">\n",
              "    <path d=\"M0 0h24v24H0V0z\" fill=\"none\"/>\n",
              "    <path d=\"M18.56 5.44l.94 2.06.94-2.06 2.06-.94-2.06-.94-.94-2.06-.94 2.06-2.06.94zm-11 1L8.5 8.5l.94-2.06 2.06-.94-2.06-.94L8.5 2.5l-.94 2.06-2.06.94zm10 10l.94 2.06.94-2.06 2.06-.94-2.06-.94-.94-2.06-.94 2.06-2.06.94z\"/><path d=\"M17.41 7.96l-1.37-1.37c-.4-.4-.92-.59-1.43-.59-.52 0-1.04.2-1.43.59L10.3 9.45l-7.72 7.72c-.78.78-.78 2.05 0 2.83L4 21.41c.39.39.9.59 1.41.59.51 0 1.02-.2 1.41-.59l7.78-7.78 2.81-2.81c.8-.78.8-2.07 0-2.86zM5.41 20L4 18.59l7.72-7.72 1.47 1.35L5.41 20z\"/>\n",
              "  </svg>\n",
              "      </button>\n",
              "      \n",
              "  <style>\n",
              "    .colab-df-container {\n",
              "      display:flex;\n",
              "      flex-wrap:wrap;\n",
              "      gap: 12px;\n",
              "    }\n",
              "\n",
              "    .colab-df-convert {\n",
              "      background-color: #E8F0FE;\n",
              "      border: none;\n",
              "      border-radius: 50%;\n",
              "      cursor: pointer;\n",
              "      display: none;\n",
              "      fill: #1967D2;\n",
              "      height: 32px;\n",
              "      padding: 0 0 0 0;\n",
              "      width: 32px;\n",
              "    }\n",
              "\n",
              "    .colab-df-convert:hover {\n",
              "      background-color: #E2EBFA;\n",
              "      box-shadow: 0px 1px 2px rgba(60, 64, 67, 0.3), 0px 1px 3px 1px rgba(60, 64, 67, 0.15);\n",
              "      fill: #174EA6;\n",
              "    }\n",
              "\n",
              "    [theme=dark] .colab-df-convert {\n",
              "      background-color: #3B4455;\n",
              "      fill: #D2E3FC;\n",
              "    }\n",
              "\n",
              "    [theme=dark] .colab-df-convert:hover {\n",
              "      background-color: #434B5C;\n",
              "      box-shadow: 0px 1px 3px 1px rgba(0, 0, 0, 0.15);\n",
              "      filter: drop-shadow(0px 1px 2px rgba(0, 0, 0, 0.3));\n",
              "      fill: #FFFFFF;\n",
              "    }\n",
              "  </style>\n",
              "\n",
              "      <script>\n",
              "        const buttonEl =\n",
              "          document.querySelector('#df-f87af86f-7e50-4d1a-b3e7-22b29a3f72c4 button.colab-df-convert');\n",
              "        buttonEl.style.display =\n",
              "          google.colab.kernel.accessAllowed ? 'block' : 'none';\n",
              "\n",
              "        async function convertToInteractive(key) {\n",
              "          const element = document.querySelector('#df-f87af86f-7e50-4d1a-b3e7-22b29a3f72c4');\n",
              "          const dataTable =\n",
              "            await google.colab.kernel.invokeFunction('convertToInteractive',\n",
              "                                                     [key], {});\n",
              "          if (!dataTable) return;\n",
              "\n",
              "          const docLinkHtml = 'Like what you see? Visit the ' +\n",
              "            '<a target=\"_blank\" href=https://colab.research.google.com/notebooks/data_table.ipynb>data table notebook</a>'\n",
              "            + ' to learn more about interactive tables.';\n",
              "          element.innerHTML = '';\n",
              "          dataTable['output_type'] = 'display_data';\n",
              "          await google.colab.output.renderOutput(dataTable, element);\n",
              "          const docLink = document.createElement('div');\n",
              "          docLink.innerHTML = docLinkHtml;\n",
              "          element.appendChild(docLink);\n",
              "        }\n",
              "      </script>\n",
              "    </div>\n",
              "  </div>\n",
              "  "
            ]
          },
          "metadata": {},
          "execution_count": 44
        }
      ]
    },
    {
      "cell_type": "markdown",
      "source": [
        "## Bilhete"
      ],
      "metadata": {
        "id": "OcAgC10JpSDo"
      }
    },
    {
      "cell_type": "code",
      "source": [
        "# Vamos observar os valores únicos dessa variável:\n",
        "dados['Bilhete'].unique() # Parece inútil... não tenho ideia de como aproveitar essa variável"
      ],
      "metadata": {
        "id": "h0H06ry_pSYd",
        "colab": {
          "base_uri": "https://localhost:8080/",
          "height": 0
        },
        "outputId": "da82154a-b354-44bd-fc86-3b56a467f838"
      },
      "execution_count": 45,
      "outputs": [
        {
          "output_type": "execute_result",
          "data": {
            "text/plain": [
              "array(['A/5 21171', 'PC 17599', 'STON/O2. 3101282', '113803', '373450',\n",
              "       '330877', '17463', '349909', '347742', '237736', 'PP 9549',\n",
              "       '113783', 'A/5. 2151', '347082', '350406', '248706', '382652',\n",
              "       '244373', '345763', '2649', '239865', '248698', '330923', '113788',\n",
              "       '347077', '2631', '19950', '330959', '349216', 'PC 17601',\n",
              "       'PC 17569', '335677', 'C.A. 24579', 'PC 17604', '113789', '2677',\n",
              "       'A./5. 2152', '345764', '2651', '7546', '11668', '349253',\n",
              "       'SC/Paris 2123', '330958', 'S.C./A.4. 23567', '370371', '14311',\n",
              "       '2662', '349237', '3101295', 'A/4. 39886', 'PC 17572', '2926',\n",
              "       '113509', '19947', 'C.A. 31026', '2697', 'C.A. 34651', 'CA 2144',\n",
              "       '2669', '113572', '36973', '347088', 'PC 17605', '2661',\n",
              "       'C.A. 29395', 'S.P. 3464', '3101281', '315151', 'C.A. 33111',\n",
              "       'S.O.C. 14879', '2680', '1601', '348123', '349208', '374746',\n",
              "       '248738', '364516', '345767', '345779', '330932', '113059',\n",
              "       'SO/C 14885', '3101278', 'W./C. 6608', 'SOTON/OQ 392086', '343275',\n",
              "       '343276', '347466', 'W.E.P. 5734', 'C.A. 2315', '364500', '374910',\n",
              "       'PC 17754', 'PC 17759', '231919', '244367', '349245', '349215',\n",
              "       '35281', '7540', '3101276', '349207', '343120', '312991', '349249',\n",
              "       '371110', '110465', '2665', '324669', '4136', '2627',\n",
              "       'STON/O 2. 3101294', '370369', 'PC 17558', 'A4. 54510', '27267',\n",
              "       '370372', 'C 17369', '2668', '347061', '349241',\n",
              "       'SOTON/O.Q. 3101307', 'A/5. 3337', '228414', 'C.A. 29178',\n",
              "       'SC/PARIS 2133', '11752', '7534', 'PC 17593', '2678', '347081',\n",
              "       'STON/O2. 3101279', '365222', '231945', 'C.A. 33112', '350043',\n",
              "       '230080', '244310', 'S.O.P. 1166', '113776', 'A.5. 11206',\n",
              "       'A/5. 851', 'Fa 265302', 'PC 17597', '35851', 'SOTON/OQ 392090',\n",
              "       '315037', 'CA. 2343', '371362', 'C.A. 33595', '347068', '315093',\n",
              "       '363291', '113505', 'PC 17318', '111240', 'STON/O 2. 3101280',\n",
              "       '17764', '350404', '4133', 'PC 17595', '250653', 'LINE',\n",
              "       'SC/PARIS 2131', '230136', '315153', '113767', '370365', '111428',\n",
              "       '364849', '349247', '234604', '28424', '350046', 'PC 17610',\n",
              "       '368703', '4579', '370370', '248747', '345770', '3101264', '2628',\n",
              "       'A/5 3540', '347054', '2699', '367231', '112277',\n",
              "       'SOTON/O.Q. 3101311', 'F.C.C. 13528', 'A/5 21174', '250646',\n",
              "       '367229', '35273', 'STON/O2. 3101283', '243847', '11813',\n",
              "       'W/C 14208', 'SOTON/OQ 392089', '220367', '21440', '349234',\n",
              "       '19943', 'PP 4348', 'SW/PP 751', 'A/5 21173', '236171', '347067',\n",
              "       '237442', 'C.A. 29566', 'W./C. 6609', '26707', 'C.A. 31921',\n",
              "       '28665', 'SCO/W 1585', '367230', 'W./C. 14263',\n",
              "       'STON/O 2. 3101275', '2694', '19928', '347071', '250649', '11751',\n",
              "       '244252', '362316', '113514', 'A/5. 3336', '370129', '2650',\n",
              "       'PC 17585', '110152', 'PC 17755', '230433', '384461', '110413',\n",
              "       '112059', '382649', 'C.A. 17248', '347083', 'PC 17582', 'PC 17760',\n",
              "       '113798', '250644', 'PC 17596', '370375', '13502', '347073',\n",
              "       '239853', 'C.A. 2673', '336439', '347464', '345778', 'A/5. 10482',\n",
              "       '113056', '349239', '345774', '349206', '237798', '370373',\n",
              "       '19877', '11967', 'SC/Paris 2163', '349236', '349233', 'PC 17612',\n",
              "       '2693', '113781', '19988', '9234', '367226', '226593', 'A/5 2466',\n",
              "       '17421', 'PC 17758', 'P/PP 3381', 'PC 17485', '11767', 'PC 17608',\n",
              "       '250651', '349243', 'F.C.C. 13529', '347470', '29011', '36928',\n",
              "       '16966', 'A/5 21172', '349219', '234818', '345364', '28551',\n",
              "       '111361', '113043', 'PC 17611', '349225', '7598', '113784',\n",
              "       '248740', '244361', '229236', '248733', '31418', '386525',\n",
              "       'C.A. 37671', '315088', '7267', '113510', '2695', '2647', '345783',\n",
              "       '237671', '330931', '330980', 'SC/PARIS 2167', '2691',\n",
              "       'SOTON/O.Q. 3101310', 'C 7076', '110813', '2626', '14313',\n",
              "       'PC 17477', '11765', '3101267', '323951', 'C 7077', '113503',\n",
              "       '2648', '347069', 'PC 17757', '2653', 'STON/O 2. 3101293',\n",
              "       '349227', '27849', '367655', 'SC 1748', '113760', '350034',\n",
              "       '3101277', '350052', '350407', '28403', '244278', '240929',\n",
              "       'STON/O 2. 3101289', '341826', '4137', '315096', '28664', '347064',\n",
              "       '29106', '312992', '349222', '394140', 'STON/O 2. 3101269',\n",
              "       '343095', '28220', '250652', '28228', '345773', '349254',\n",
              "       'A/5. 13032', '315082', '347080', 'A/4. 34244', '2003', '250655',\n",
              "       '364851', 'SOTON/O.Q. 392078', '110564', '376564', 'SC/AH 3085',\n",
              "       'STON/O 2. 3101274', '13507', 'C.A. 18723', '345769', '347076',\n",
              "       '230434', '65306', '33638', '113794', '2666', '113786', '65303',\n",
              "       '113051', '17453', 'A/5 2817', '349240', '13509', '17464',\n",
              "       'F.C.C. 13531', '371060', '19952', '364506', '111320', '234360',\n",
              "       'A/S 2816', 'SOTON/O.Q. 3101306', '113792', '36209', '323592',\n",
              "       '315089', 'SC/AH Basle 541', '7553', '31027', '3460', '350060',\n",
              "       '3101298', '239854', 'A/5 3594', '4134', '11771', 'A.5. 18509',\n",
              "       '65304', 'SOTON/OQ 3101317', '113787', 'PC 17609', 'A/4 45380',\n",
              "       '36947', 'C.A. 6212', '350035', '315086', '364846', '330909',\n",
              "       '4135', '26360', '111427', 'C 4001', '382651', 'SOTON/OQ 3101316',\n",
              "       'PC 17473', 'PC 17603', '349209', '36967', 'C.A. 34260', '226875',\n",
              "       '349242', '12749', '349252', '2624', '2700', '367232',\n",
              "       'W./C. 14258', 'PC 17483', '3101296', '29104', '2641', '2690',\n",
              "       '315084', '113050', 'PC 17761', '364498', '13568', 'WE/P 5735',\n",
              "       '2908', '693', 'SC/PARIS 2146', '244358', '330979', '2620',\n",
              "       '347085', '113807', '11755', '345572', '372622', '349251',\n",
              "       '218629', 'SOTON/OQ 392082', 'SOTON/O.Q. 392087', 'A/4 48871',\n",
              "       '349205', '2686', '350417', 'S.W./PP 752', '11769', 'PC 17474',\n",
              "       '14312', 'A/4. 20589', '358585', '243880', '2689',\n",
              "       'STON/O 2. 3101286', '237789', '13049', '3411', '237565', '13567',\n",
              "       '14973', 'A./5. 3235', 'STON/O 2. 3101273', 'A/5 3902', '364848',\n",
              "       'SC/AH 29037', '248727', '2664', '349214', '113796', '364511',\n",
              "       '111426', '349910', '349246', '113804', 'SOTON/O.Q. 3101305',\n",
              "       '370377', '364512', '220845', '31028', '2659', '11753', '350029',\n",
              "       '54636', '36963', '219533', '349224', '334912', '27042', '347743',\n",
              "       '13214', '112052', '237668', 'STON/O 2. 3101292', '350050',\n",
              "       '349231', '13213', 'S.O./P.P. 751', 'CA. 2314', '349221', '8475',\n",
              "       '330919', '365226', '349223', '29751', '2623', '5727', '349210',\n",
              "       'STON/O 2. 3101285', '234686', '312993', 'A/5 3536', '19996',\n",
              "       '29750', 'F.C. 12750', 'C.A. 24580', '244270', '239856', '349912',\n",
              "       '342826', '4138', '330935', '6563', '349228', '350036', '24160',\n",
              "       '17474', '349256', '2672', '113800', '248731', '363592', '35852',\n",
              "       '348121', 'PC 17475', '36864', '350025', '223596', 'PC 17476',\n",
              "       'PC 17482', '113028', '7545', '250647', '348124', '34218', '36568',\n",
              "       '347062', '350048', '12233', '250643', '113806', '315094', '36866',\n",
              "       '236853', 'STON/O2. 3101271', '239855', '28425', '233639',\n",
              "       '349201', '349218', '16988', '376566', 'STON/O 2. 3101288',\n",
              "       '250648', '113773', '335097', '29103', '392096', '345780',\n",
              "       '349204', '350042', '29108', '363294', 'SOTON/O2 3101272', '2663',\n",
              "       '347074', '112379', '364850', '8471', '345781', '350047',\n",
              "       'S.O./P.P. 3', '2674', '29105', '347078', '383121', '36865',\n",
              "       '2687', '113501', 'W./C. 6607', 'SOTON/O.Q. 3101312', '374887',\n",
              "       '3101265', '12460', 'PC 17600', '349203', '28213', '17465',\n",
              "       '349244', '2685', '2625', '347089', '347063', '112050', '347087',\n",
              "       '248723', '3474', '28206', '364499', '112058', 'STON/O2. 3101290',\n",
              "       'S.C./PARIS 2079', 'C 7075', '315098', '19972', '368323', '367228',\n",
              "       '2671', '347468', '2223', 'PC 17756', '315097', '392092', '11774',\n",
              "       'SOTON/O2 3101287', '2683', '315090', 'C.A. 5547', '349213',\n",
              "       '347060', 'PC 17592', '392091', '113055', '2629', '350026',\n",
              "       '28134', '17466', '233866', '236852', 'SC/PARIS 2149', 'PC 17590',\n",
              "       '345777', '349248', '695', '345765', '2667', '349212', '349217',\n",
              "       '349257', '7552', 'C.A./SOTON 34068', 'SOTON/OQ 392076', '211536',\n",
              "       '112053', '111369', '370376', '330911', '363272', '240276',\n",
              "       '315154', '7538', '330972', '2657', '349220', '694', '21228',\n",
              "       '24065', '233734', '2692', 'STON/O2. 3101270', '2696', 'C 17368',\n",
              "       'PC 17598', '2698', '113054', 'C.A. 31029', '13236', '2682',\n",
              "       '342712', '315087', '345768', '113778', 'SOTON/O.Q. 3101263',\n",
              "       '237249', 'STON/O 2. 3101291', 'PC 17594', '370374', '13695',\n",
              "       'SC/PARIS 2168', 'SC/A.3 2861', '349230', '348122', '349232',\n",
              "       '237216', '347090', '334914', 'F.C.C. 13534', '330963', '2543',\n",
              "       '382653', '349211', '3101297', 'PC 17562', '359306', '11770',\n",
              "       '248744', '368702', '19924', '349238', '240261', '2660', '330844',\n",
              "       'A/4 31416', '364856', '347072', '345498', '376563', '13905',\n",
              "       '350033', 'STON/O 2. 3101268', '347471', 'A./5. 3338', '11778',\n",
              "       '365235', '347070', '330920', '383162', '3410', '248734', '237734',\n",
              "       '330968', 'PC 17531', '329944', '2681', '13050', '367227',\n",
              "       '392095', '368783', '350045', '211535', '342441',\n",
              "       'STON/OQ. 369943', '113780', '2621', '349226', '350409', '2656',\n",
              "       '248659', 'SOTON/OQ 392083', '17475', 'SC/A4 23568', '113791',\n",
              "       '349255', '3701', '350405', 'S.O./P.P. 752', '347469', '110489',\n",
              "       'SOTON/O.Q. 3101315', '335432', '220844', '343271', '237393',\n",
              "       'PC 17591', '17770', '7548', 'S.O./P.P. 251', '2670', '2673',\n",
              "       '233478', '7935', '239059', 'S.O./P.P. 2', 'A/4 48873', '28221',\n",
              "       '111163', '235509', '347465', '347066', 'C.A. 31030', '65305',\n",
              "       'C.A. 34050', 'F.C. 12998', '9232', '28034', 'PC 17613', '349250',\n",
              "       'SOTON/O.Q. 3101308', '347091', '113038', '330924', '32302',\n",
              "       'SC/PARIS 2148', '342684', 'W./C. 14266', '350053', 'PC 17606',\n",
              "       '350054', '370368', '242963', '113795', '3101266', '330971',\n",
              "       '350416', '2679', '250650', '112377', '3470', 'SOTON/O2 3101284',\n",
              "       '13508', '7266', '345775', 'C.A. 42795', 'AQ/4 3130', '363611',\n",
              "       '28404', '345501', '350410', 'C.A. 34644', '349235', '112051',\n",
              "       'C.A. 49867', 'A. 2. 39186', '315095', '368573', '2676',\n",
              "       'SC 14888', 'CA 31352', 'W./C. 14260', '315085', '364859',\n",
              "       'A/5 21175', 'SOTON/O.Q. 3101314', '2655', 'A/5 1478', 'PC 17607',\n",
              "       '382650', '2652', '345771', '349202', '113801', '347467', '347079',\n",
              "       '237735', '315092', '383123', '112901', '315091', '2658',\n",
              "       'LP 1588', '368364', 'AQ/3. 30631', '28004', '350408', '347075',\n",
              "       '2654', '244368', '113790', 'SOTON/O.Q. 3101309', '236854',\n",
              "       'PC 17580', '2684', '349229', '110469', '244360', '2675', '2622',\n",
              "       'C.A. 15185', '350403', '348125', '237670', '2688', '248726',\n",
              "       'F.C.C. 13540', '113044', '1222', '368402', '315083', '112378',\n",
              "       'SC/PARIS 2147', '28133', '248746', '315152', '29107', '680',\n",
              "       '366713', '330910', 'SC/PARIS 2159', '349911', '244346', '364858',\n",
              "       'C.A. 30769', '371109', '347065', '21332', '17765',\n",
              "       'SC/PARIS 2166', '28666', '334915', '365237', '347086',\n",
              "       'A.5. 3236', 'SOTON/O.Q. 3101262', '359309'], dtype=object)"
            ]
          },
          "metadata": {},
          "execution_count": 45
        }
      ]
    },
    {
      "cell_type": "code",
      "source": [
        "# Vamos excluí-la.\n",
        "del dados['Bilhete']"
      ],
      "metadata": {
        "id": "u84noHEHHEIi"
      },
      "execution_count": 46,
      "outputs": []
    },
    {
      "cell_type": "markdown",
      "source": [
        "## Tarifa"
      ],
      "metadata": {
        "id": "0wnfa8quph53"
      }
    },
    {
      "cell_type": "code",
      "source": [
        "# Vamos observar a distribuição dessa variável\n",
        "sns.histplot(x='Tarifa',data = dados, bins = 50)\n",
        "# Tem uns outliers que pagaram mais do que 500, além de pessoas que não pagaram nada.\n",
        "# Parece um gráfico qualquer de distribuição de renda."
      ],
      "metadata": {
        "id": "OWpH1Q3TpiRD",
        "colab": {
          "base_uri": "https://localhost:8080/",
          "height": 296
        },
        "outputId": "56399709-4582-4387-a2f5-1dce8e6300fc"
      },
      "execution_count": 47,
      "outputs": [
        {
          "output_type": "execute_result",
          "data": {
            "text/plain": [
              "<matplotlib.axes._subplots.AxesSubplot at 0x7f43f902f430>"
            ]
          },
          "metadata": {},
          "execution_count": 47
        },
        {
          "output_type": "display_data",
          "data": {
            "text/plain": [
              "<Figure size 432x288 with 1 Axes>"
            ],
            "image/png": "[encoded data removed]"
          },
          "metadata": {
            "needs_background": "light"
          }
        }
      ]
    },
    {
      "cell_type": "code",
      "source": [
        "# Observando os outliers\n",
        "dados[dados['Tarifa']>300]\n",
        "# Os quatro são um casal Cardeza (é Mr. e Mrs. não é de alto status) e outras duas pessoas não relacionadas.\n",
        "# O valor da Tarifa é o mesmo para os quatro passageiros. Seria interessante verificar a validade desses dados com o fornecedor..\n",
        "# Para isso, podemos usar a variável nome."
      ],
      "metadata": {
        "id": "qjhzZ561HTwu",
        "colab": {
          "base_uri": "https://localhost:8080/",
          "height": 175
        },
        "outputId": "ee0f49a4-a6a3-4885-c9fc-12d4ba631e1f"
      },
      "execution_count": 48,
      "outputs": [
        {
          "output_type": "execute_result",
          "data": {
            "text/plain": [
              "        Id  Sobreviveu  Classe    Sexo  Idade  Irmãos/Conjugue  \\\n",
              "258    259           1       1  female   35.0                0   \n",
              "679    680           1       1    male   36.0                0   \n",
              "737    738           1       1    male   35.0                0   \n",
              "1234  1235           1       1  female   58.0                0   \n",
              "\n",
              "      Parentes/Crianças    Tarifa Embarque Titulos  Acompanhantes  \n",
              "258                   0  512.3292        C   Miss.              0  \n",
              "679                   1  512.3292        C     Mr.              1  \n",
              "737                   0  512.3292        C     Mr.              0  \n",
              "1234                  1  512.3292        C    Mrs.              1  "
            ],
            "text/html": [
              "\n",
              "  <div id=\"df-210421f6-7be0-44c3-94f7-e5e7411b41f6\">\n",
              "    <div class=\"colab-df-container\">\n",
              "      <div>\n",
              "<style scoped>\n",
              "    .dataframe tbody tr th:only-of-type {\n",
              "        vertical-align: middle;\n",
              "    }\n",
              "\n",
              "    .dataframe tbody tr th {\n",
              "        vertical-align: top;\n",
              "    }\n",
              "\n",
              "    .dataframe thead th {\n",
              "        text-align: right;\n",
              "    }\n",
              "</style>\n",
              "<table border=\"1\" class=\"dataframe\">\n",
              "  <thead>\n",
              "    <tr style=\"text-align: right;\">\n",
              "      <th></th>\n",
              "      <th>Id</th>\n",
              "      <th>Sobreviveu</th>\n",
              "      <th>Classe</th>\n",
              "      <th>Sexo</th>\n",
              "      <th>Idade</th>\n",
              "      <th>Irmãos/Conjugue</th>\n",
              "      <th>Parentes/Crianças</th>\n",
              "      <th>Tarifa</th>\n",
              "      <th>Embarque</th>\n",
              "      <th>Titulos</th>\n",
              "      <th>Acompanhantes</th>\n",
              "    </tr>\n",
              "  </thead>\n",
              "  <tbody>\n",
              "    <tr>\n",
              "      <th>258</th>\n",
              "      <td>259</td>\n",
              "      <td>1</td>\n",
              "      <td>1</td>\n",
              "      <td>female</td>\n",
              "      <td>35.0</td>\n",
              "      <td>0</td>\n",
              "      <td>0</td>\n",
              "      <td>512.3292</td>\n",
              "      <td>C</td>\n",
              "      <td>Miss.</td>\n",
              "      <td>0</td>\n",
              "    </tr>\n",
              "    <tr>\n",
              "      <th>679</th>\n",
              "      <td>680</td>\n",
              "      <td>1</td>\n",
              "      <td>1</td>\n",
              "      <td>male</td>\n",
              "      <td>36.0</td>\n",
              "      <td>0</td>\n",
              "      <td>1</td>\n",
              "      <td>512.3292</td>\n",
              "      <td>C</td>\n",
              "      <td>Mr.</td>\n",
              "      <td>1</td>\n",
              "    </tr>\n",
              "    <tr>\n",
              "      <th>737</th>\n",
              "      <td>738</td>\n",
              "      <td>1</td>\n",
              "      <td>1</td>\n",
              "      <td>male</td>\n",
              "      <td>35.0</td>\n",
              "      <td>0</td>\n",
              "      <td>0</td>\n",
              "      <td>512.3292</td>\n",
              "      <td>C</td>\n",
              "      <td>Mr.</td>\n",
              "      <td>0</td>\n",
              "    </tr>\n",
              "    <tr>\n",
              "      <th>1234</th>\n",
              "      <td>1235</td>\n",
              "      <td>1</td>\n",
              "      <td>1</td>\n",
              "      <td>female</td>\n",
              "      <td>58.0</td>\n",
              "      <td>0</td>\n",
              "      <td>1</td>\n",
              "      <td>512.3292</td>\n",
              "      <td>C</td>\n",
              "      <td>Mrs.</td>\n",
              "      <td>1</td>\n",
              "    </tr>\n",
              "  </tbody>\n",
              "</table>\n",
              "</div>\n",
              "      <button class=\"colab-df-convert\" onclick=\"convertToInteractive('df-210421f6-7be0-44c3-94f7-e5e7411b41f6')\"\n",
              "              title=\"Convert this dataframe to an interactive table.\"\n",
              "              style=\"display:none;\">\n",
              "        \n",
              "  <svg xmlns=\"http://www.w3.org/2000/svg\" height=\"24px\"viewBox=\"0 0 24 24\"\n",
              "       width=\"24px\">\n",
              "    <path d=\"M0 0h24v24H0V0z\" fill=\"none\"/>\n",
              "    <path d=\"M18.56 5.44l.94 2.06.94-2.06 2.06-.94-2.06-.94-.94-2.06-.94 2.06-2.06.94zm-11 1L8.5 8.5l.94-2.06 2.06-.94-2.06-.94L8.5 2.5l-.94 2.06-2.06.94zm10 10l.94 2.06.94-2.06 2.06-.94-2.06-.94-.94-2.06-.94 2.06-2.06.94z\"/><path d=\"M17.41 7.96l-1.37-1.37c-.4-.4-.92-.59-1.43-.59-.52 0-1.04.2-1.43.59L10.3 9.45l-7.72 7.72c-.78.78-.78 2.05 0 2.83L4 21.41c.39.39.9.59 1.41.59.51 0 1.02-.2 1.41-.59l7.78-7.78 2.81-2.81c.8-.78.8-2.07 0-2.86zM5.41 20L4 18.59l7.72-7.72 1.47 1.35L5.41 20z\"/>\n",
              "  </svg>\n",
              "      </button>\n",
              "      \n",
              "  <style>\n",
              "    .colab-df-container {\n",
              "      display:flex;\n",
              "      flex-wrap:wrap;\n",
              "      gap: 12px;\n",
              "    }\n",
              "\n",
              "    .colab-df-convert {\n",
              "      background-color: #E8F0FE;\n",
              "      border: none;\n",
              "      border-radius: 50%;\n",
              "      cursor: pointer;\n",
              "      display: none;\n",
              "      fill: #1967D2;\n",
              "      height: 32px;\n",
              "      padding: 0 0 0 0;\n",
              "      width: 32px;\n",
              "    }\n",
              "\n",
              "    .colab-df-convert:hover {\n",
              "      background-color: #E2EBFA;\n",
              "      box-shadow: 0px 1px 2px rgba(60, 64, 67, 0.3), 0px 1px 3px 1px rgba(60, 64, 67, 0.15);\n",
              "      fill: #174EA6;\n",
              "    }\n",
              "\n",
              "    [theme=dark] .colab-df-convert {\n",
              "      background-color: #3B4455;\n",
              "      fill: #D2E3FC;\n",
              "    }\n",
              "\n",
              "    [theme=dark] .colab-df-convert:hover {\n",
              "      background-color: #434B5C;\n",
              "      box-shadow: 0px 1px 3px 1px rgba(0, 0, 0, 0.15);\n",
              "      filter: drop-shadow(0px 1px 2px rgba(0, 0, 0, 0.3));\n",
              "      fill: #FFFFFF;\n",
              "    }\n",
              "  </style>\n",
              "\n",
              "      <script>\n",
              "        const buttonEl =\n",
              "          document.querySelector('#df-210421f6-7be0-44c3-94f7-e5e7411b41f6 button.colab-df-convert');\n",
              "        buttonEl.style.display =\n",
              "          google.colab.kernel.accessAllowed ? 'block' : 'none';\n",
              "\n",
              "        async function convertToInteractive(key) {\n",
              "          const element = document.querySelector('#df-210421f6-7be0-44c3-94f7-e5e7411b41f6');\n",
              "          const dataTable =\n",
              "            await google.colab.kernel.invokeFunction('convertToInteractive',\n",
              "                                                     [key], {});\n",
              "          if (!dataTable) return;\n",
              "\n",
              "          const docLinkHtml = 'Like what you see? Visit the ' +\n",
              "            '<a target=\"_blank\" href=https://colab.research.google.com/notebooks/data_table.ipynb>data table notebook</a>'\n",
              "            + ' to learn more about interactive tables.';\n",
              "          element.innerHTML = '';\n",
              "          dataTable['output_type'] = 'display_data';\n",
              "          await google.colab.output.renderOutput(dataTable, element);\n",
              "          const docLink = document.createElement('div');\n",
              "          docLink.innerHTML = docLinkHtml;\n",
              "          element.appendChild(docLink);\n",
              "        }\n",
              "      </script>\n",
              "    </div>\n",
              "  </div>\n",
              "  "
            ]
          },
          "metadata": {},
          "execution_count": 48
        }
      ]
    },
    {
      "cell_type": "code",
      "source": [
        "# Visualizando os passageiros que não pagaram nada de Tarifa:\n",
        "dados[dados['Tarifa']==0]\n",
        "# Esse grupo de pessoas é composto por todos homens, não acompanhados e embarcaram em S...\n",
        "# Podemos utilizar da variável nome (Já foi excluída) para solicitar ou procurar outras informações sobre os mesmos e descobir o porque não pagaram nada.\n",
        "# Provavelmente são pessoas que estavam trabalhando no navio "
      ],
      "metadata": {
        "id": "keE7Oar4HTsB",
        "colab": {
          "base_uri": "https://localhost:8080/",
          "height": 582
        },
        "outputId": "b1883c6d-16b0-4998-8b85-2aadef330e44"
      },
      "execution_count": 49,
      "outputs": [
        {
          "output_type": "execute_result",
          "data": {
            "text/plain": [
              "        Id  Sobreviveu  Classe  Sexo  Idade  Irmãos/Conjugue  \\\n",
              "179    180           0       3  male   36.0                0   \n",
              "263    264           0       1  male   40.0                0   \n",
              "271    272           1       3  male   25.0                0   \n",
              "277    278           0       2  male    NaN                0   \n",
              "302    303           0       3  male   19.0                0   \n",
              "413    414           0       2  male    NaN                0   \n",
              "466    467           0       2  male    NaN                0   \n",
              "481    482           0       2  male    NaN                0   \n",
              "597    598           0       3  male   49.0                0   \n",
              "633    634           0       1  male    NaN                0   \n",
              "674    675           0       2  male    NaN                0   \n",
              "732    733           0       2  male    NaN                0   \n",
              "806    807           0       1  male   39.0                0   \n",
              "815    816           0       1  male    NaN                0   \n",
              "822    823           0       1  male   38.0                0   \n",
              "1157  1158           0       1  male    NaN                0   \n",
              "1263  1264           0       1  male   49.0                0   \n",
              "\n",
              "      Parentes/Crianças  Tarifa Embarque               Titulos  Acompanhantes  \n",
              "179                   0     0.0        S                   Mr.              0  \n",
              "263                   0     0.0        S                   Mr.              0  \n",
              "271                   0     0.0        S                   Mr.              0  \n",
              "277                   0     0.0        S                   Mr.              0  \n",
              "302                   0     0.0        S                   Mr.              0  \n",
              "413                   0     0.0        S                   Mr.              0  \n",
              "466                   0     0.0        S                   Mr.              0  \n",
              "481                   0     0.0        S                   Mr.              0  \n",
              "597                   0     0.0        S                   Mr.              0  \n",
              "633                   0     0.0        S                   Mr.              0  \n",
              "674                   0     0.0        S                   Mr.              0  \n",
              "732                   0     0.0        S                   Mr.              0  \n",
              "806                   0     0.0        S                   Mr.              0  \n",
              "815                   0     0.0        S                   Mr.              0  \n",
              "822                   0     0.0        S  Outros Homens Nobres              0  \n",
              "1157                  0     0.0        S                   Mr.              0  \n",
              "1263                  0     0.0        S                   Mr.              0  "
            ],
            "text/html": [
              "\n",
              "  <div id=\"df-591ff89a-71f3-49ce-87cf-1c90c42459ea\">\n",
              "    <div class=\"colab-df-container\">\n",
              "      <div>\n",
              "<style scoped>\n",
              "    .dataframe tbody tr th:only-of-type {\n",
              "        vertical-align: middle;\n",
              "    }\n",
              "\n",
              "    .dataframe tbody tr th {\n",
              "        vertical-align: top;\n",
              "    }\n",
              "\n",
              "    .dataframe thead th {\n",
              "        text-align: right;\n",
              "    }\n",
              "</style>\n",
              "<table border=\"1\" class=\"dataframe\">\n",
              "  <thead>\n",
              "    <tr style=\"text-align: right;\">\n",
              "      <th></th>\n",
              "      <th>Id</th>\n",
              "      <th>Sobreviveu</th>\n",
              "      <th>Classe</th>\n",
              "      <th>Sexo</th>\n",
              "      <th>Idade</th>\n",
              "      <th>Irmãos/Conjugue</th>\n",
              "      <th>Parentes/Crianças</th>\n",
              "      <th>Tarifa</th>\n",
              "      <th>Embarque</th>\n",
              "      <th>Titulos</th>\n",
              "      <th>Acompanhantes</th>\n",
              "    </tr>\n",
              "  </thead>\n",
              "  <tbody>\n",
              "    <tr>\n",
              "      <th>179</th>\n",
              "      <td>180</td>\n",
              "      <td>0</td>\n",
              "      <td>3</td>\n",
              "      <td>male</td>\n",
              "      <td>36.0</td>\n",
              "      <td>0</td>\n",
              "      <td>0</td>\n",
              "      <td>0.0</td>\n",
              "      <td>S</td>\n",
              "      <td>Mr.</td>\n",
              "      <td>0</td>\n",
              "    </tr>\n",
              "    <tr>\n",
              "      <th>263</th>\n",
              "      <td>264</td>\n",
              "      <td>0</td>\n",
              "      <td>1</td>\n",
              "      <td>male</td>\n",
              "      <td>40.0</td>\n",
              "      <td>0</td>\n",
              "      <td>0</td>\n",
              "      <td>0.0</td>\n",
              "      <td>S</td>\n",
              "      <td>Mr.</td>\n",
              "      <td>0</td>\n",
              "    </tr>\n",
              "    <tr>\n",
              "      <th>271</th>\n",
              "      <td>272</td>\n",
              "      <td>1</td>\n",
              "      <td>3</td>\n",
              "      <td>male</td>\n",
              "      <td>25.0</td>\n",
              "      <td>0</td>\n",
              "      <td>0</td>\n",
              "      <td>0.0</td>\n",
              "      <td>S</td>\n",
              "      <td>Mr.</td>\n",
              "      <td>0</td>\n",
              "    </tr>\n",
              "    <tr>\n",
              "      <th>277</th>\n",
              "      <td>278</td>\n",
              "      <td>0</td>\n",
              "      <td>2</td>\n",
              "      <td>male</td>\n",
              "      <td>NaN</td>\n",
              "      <td>0</td>\n",
              "      <td>0</td>\n",
              "      <td>0.0</td>\n",
              "      <td>S</td>\n",
              "      <td>Mr.</td>\n",
              "      <td>0</td>\n",
              "    </tr>\n",
              "    <tr>\n",
              "      <th>302</th>\n",
              "      <td>303</td>\n",
              "      <td>0</td>\n",
              "      <td>3</td>\n",
              "      <td>male</td>\n",
              "      <td>19.0</td>\n",
              "      <td>0</td>\n",
              "      <td>0</td>\n",
              "      <td>0.0</td>\n",
              "      <td>S</td>\n",
              "      <td>Mr.</td>\n",
              "      <td>0</td>\n",
              "    </tr>\n",
              "    <tr>\n",
              "      <th>413</th>\n",
              "      <td>414</td>\n",
              "      <td>0</td>\n",
              "      <td>2</td>\n",
              "      <td>male</td>\n",
              "      <td>NaN</td>\n",
              "      <td>0</td>\n",
              "      <td>0</td>\n",
              "      <td>0.0</td>\n",
              "      <td>S</td>\n",
              "      <td>Mr.</td>\n",
              "      <td>0</td>\n",
              "    </tr>\n",
              "    <tr>\n",
              "      <th>466</th>\n",
              "      <td>467</td>\n",
              "      <td>0</td>\n",
              "      <td>2</td>\n",
              "      <td>male</td>\n",
              "      <td>NaN</td>\n",
              "      <td>0</td>\n",
              "      <td>0</td>\n",
              "      <td>0.0</td>\n",
              "      <td>S</td>\n",
              "      <td>Mr.</td>\n",
              "      <td>0</td>\n",
              "    </tr>\n",
              "    <tr>\n",
              "      <th>481</th>\n",
              "      <td>482</td>\n",
              "      <td>0</td>\n",
              "      <td>2</td>\n",
              "      <td>male</td>\n",
              "      <td>NaN</td>\n",
              "      <td>0</td>\n",
              "      <td>0</td>\n",
              "      <td>0.0</td>\n",
              "      <td>S</td>\n",
              "      <td>Mr.</td>\n",
              "      <td>0</td>\n",
              "    </tr>\n",
              "    <tr>\n",
              "      <th>597</th>\n",
              "      <td>598</td>\n",
              "      <td>0</td>\n",
              "      <td>3</td>\n",
              "      <td>male</td>\n",
              "      <td>49.0</td>\n",
              "      <td>0</td>\n",
              "      <td>0</td>\n",
              "      <td>0.0</td>\n",
              "      <td>S</td>\n",
              "      <td>Mr.</td>\n",
              "      <td>0</td>\n",
              "    </tr>\n",
              "    <tr>\n",
              "      <th>633</th>\n",
              "      <td>634</td>\n",
              "      <td>0</td>\n",
              "      <td>1</td>\n",
              "      <td>male</td>\n",
              "      <td>NaN</td>\n",
              "      <td>0</td>\n",
              "      <td>0</td>\n",
              "      <td>0.0</td>\n",
              "      <td>S</td>\n",
              "      <td>Mr.</td>\n",
              "      <td>0</td>\n",
              "    </tr>\n",
              "    <tr>\n",
              "      <th>674</th>\n",
              "      <td>675</td>\n",
              "      <td>0</td>\n",
              "      <td>2</td>\n",
              "      <td>male</td>\n",
              "      <td>NaN</td>\n",
              "      <td>0</td>\n",
              "      <td>0</td>\n",
              "      <td>0.0</td>\n",
              "      <td>S</td>\n",
              "      <td>Mr.</td>\n",
              "      <td>0</td>\n",
              "    </tr>\n",
              "    <tr>\n",
              "      <th>732</th>\n",
              "      <td>733</td>\n",
              "      <td>0</td>\n",
              "      <td>2</td>\n",
              "      <td>male</td>\n",
              "      <td>NaN</td>\n",
              "      <td>0</td>\n",
              "      <td>0</td>\n",
              "      <td>0.0</td>\n",
              "      <td>S</td>\n",
              "      <td>Mr.</td>\n",
              "      <td>0</td>\n",
              "    </tr>\n",
              "    <tr>\n",
              "      <th>806</th>\n",
              "      <td>807</td>\n",
              "      <td>0</td>\n",
              "      <td>1</td>\n",
              "      <td>male</td>\n",
              "      <td>39.0</td>\n",
              "      <td>0</td>\n",
              "      <td>0</td>\n",
              "      <td>0.0</td>\n",
              "      <td>S</td>\n",
              "      <td>Mr.</td>\n",
              "      <td>0</td>\n",
              "    </tr>\n",
              "    <tr>\n",
              "      <th>815</th>\n",
              "      <td>816</td>\n",
              "      <td>0</td>\n",
              "      <td>1</td>\n",
              "      <td>male</td>\n",
              "      <td>NaN</td>\n",
              "      <td>0</td>\n",
              "      <td>0</td>\n",
              "      <td>0.0</td>\n",
              "      <td>S</td>\n",
              "      <td>Mr.</td>\n",
              "      <td>0</td>\n",
              "    </tr>\n",
              "    <tr>\n",
              "      <th>822</th>\n",
              "      <td>823</td>\n",
              "      <td>0</td>\n",
              "      <td>1</td>\n",
              "      <td>male</td>\n",
              "      <td>38.0</td>\n",
              "      <td>0</td>\n",
              "      <td>0</td>\n",
              "      <td>0.0</td>\n",
              "      <td>S</td>\n",
              "      <td>Outros Homens Nobres</td>\n",
              "      <td>0</td>\n",
              "    </tr>\n",
              "    <tr>\n",
              "      <th>1157</th>\n",
              "      <td>1158</td>\n",
              "      <td>0</td>\n",
              "      <td>1</td>\n",
              "      <td>male</td>\n",
              "      <td>NaN</td>\n",
              "      <td>0</td>\n",
              "      <td>0</td>\n",
              "      <td>0.0</td>\n",
              "      <td>S</td>\n",
              "      <td>Mr.</td>\n",
              "      <td>0</td>\n",
              "    </tr>\n",
              "    <tr>\n",
              "      <th>1263</th>\n",
              "      <td>1264</td>\n",
              "      <td>0</td>\n",
              "      <td>1</td>\n",
              "      <td>male</td>\n",
              "      <td>49.0</td>\n",
              "      <td>0</td>\n",
              "      <td>0</td>\n",
              "      <td>0.0</td>\n",
              "      <td>S</td>\n",
              "      <td>Mr.</td>\n",
              "      <td>0</td>\n",
              "    </tr>\n",
              "  </tbody>\n",
              "</table>\n",
              "</div>\n",
              "      <button class=\"colab-df-convert\" onclick=\"convertToInteractive('df-591ff89a-71f3-49ce-87cf-1c90c42459ea')\"\n",
              "              title=\"Convert this dataframe to an interactive table.\"\n",
              "              style=\"display:none;\">\n",
              "        \n",
              "  <svg xmlns=\"http://www.w3.org/2000/svg\" height=\"24px\"viewBox=\"0 0 24 24\"\n",
              "       width=\"24px\">\n",
              "    <path d=\"M0 0h24v24H0V0z\" fill=\"none\"/>\n",
              "    <path d=\"M18.56 5.44l.94 2.06.94-2.06 2.06-.94-2.06-.94-.94-2.06-.94 2.06-2.06.94zm-11 1L8.5 8.5l.94-2.06 2.06-.94-2.06-.94L8.5 2.5l-.94 2.06-2.06.94zm10 10l.94 2.06.94-2.06 2.06-.94-2.06-.94-.94-2.06-.94 2.06-2.06.94z\"/><path d=\"M17.41 7.96l-1.37-1.37c-.4-.4-.92-.59-1.43-.59-.52 0-1.04.2-1.43.59L10.3 9.45l-7.72 7.72c-.78.78-.78 2.05 0 2.83L4 21.41c.39.39.9.59 1.41.59.51 0 1.02-.2 1.41-.59l7.78-7.78 2.81-2.81c.8-.78.8-2.07 0-2.86zM5.41 20L4 18.59l7.72-7.72 1.47 1.35L5.41 20z\"/>\n",
              "  </svg>\n",
              "      </button>\n",
              "      \n",
              "  <style>\n",
              "    .colab-df-container {\n",
              "      display:flex;\n",
              "      flex-wrap:wrap;\n",
              "      gap: 12px;\n",
              "    }\n",
              "\n",
              "    .colab-df-convert {\n",
              "      background-color: #E8F0FE;\n",
              "      border: none;\n",
              "      border-radius: 50%;\n",
              "      cursor: pointer;\n",
              "      display: none;\n",
              "      fill: #1967D2;\n",
              "      height: 32px;\n",
              "      padding: 0 0 0 0;\n",
              "      width: 32px;\n",
              "    }\n",
              "\n",
              "    .colab-df-convert:hover {\n",
              "      background-color: #E2EBFA;\n",
              "      box-shadow: 0px 1px 2px rgba(60, 64, 67, 0.3), 0px 1px 3px 1px rgba(60, 64, 67, 0.15);\n",
              "      fill: #174EA6;\n",
              "    }\n",
              "\n",
              "    [theme=dark] .colab-df-convert {\n",
              "      background-color: #3B4455;\n",
              "      fill: #D2E3FC;\n",
              "    }\n",
              "\n",
              "    [theme=dark] .colab-df-convert:hover {\n",
              "      background-color: #434B5C;\n",
              "      box-shadow: 0px 1px 3px 1px rgba(0, 0, 0, 0.15);\n",
              "      filter: drop-shadow(0px 1px 2px rgba(0, 0, 0, 0.3));\n",
              "      fill: #FFFFFF;\n",
              "    }\n",
              "  </style>\n",
              "\n",
              "      <script>\n",
              "        const buttonEl =\n",
              "          document.querySelector('#df-591ff89a-71f3-49ce-87cf-1c90c42459ea button.colab-df-convert');\n",
              "        buttonEl.style.display =\n",
              "          google.colab.kernel.accessAllowed ? 'block' : 'none';\n",
              "\n",
              "        async function convertToInteractive(key) {\n",
              "          const element = document.querySelector('#df-591ff89a-71f3-49ce-87cf-1c90c42459ea');\n",
              "          const dataTable =\n",
              "            await google.colab.kernel.invokeFunction('convertToInteractive',\n",
              "                                                     [key], {});\n",
              "          if (!dataTable) return;\n",
              "\n",
              "          const docLinkHtml = 'Like what you see? Visit the ' +\n",
              "            '<a target=\"_blank\" href=https://colab.research.google.com/notebooks/data_table.ipynb>data table notebook</a>'\n",
              "            + ' to learn more about interactive tables.';\n",
              "          element.innerHTML = '';\n",
              "          dataTable['output_type'] = 'display_data';\n",
              "          await google.colab.output.renderOutput(dataTable, element);\n",
              "          const docLink = document.createElement('div');\n",
              "          docLink.innerHTML = docLinkHtml;\n",
              "          element.appendChild(docLink);\n",
              "        }\n",
              "      </script>\n",
              "    </div>\n",
              "  </div>\n",
              "  "
            ]
          },
          "metadata": {},
          "execution_count": 49
        }
      ]
    },
    {
      "cell_type": "code",
      "source": [
        "# Vamos tentar estratificar para transformar em uma variável discreta e podermos analisar a sobrevivencia\n",
        "\n",
        "# Pegando os quantis:\n",
        "quantis = []\n",
        "for i in [0.1,0.2,0.3,0.4,0.5,0.6,0.7,0.8,0.9]: # em uma análise ele usa o ocmando .cut e corta nessas faixas\n",
        "  quantis.append(dados['Tarifa'].quantile(i))\n",
        "\n",
        "quantis.append(max(dados['Tarifa']))  \n",
        "quantis\n",
        "\n",
        "# Estratificando a Tarifa\n",
        "lista_tarifa = []\n",
        "for i in dados['Tarifa']:\n",
        "  if i < quantis[0]:\n",
        "    lista_tarifa.append(0)\n",
        "  elif  (i < quantis[1])&(i >= quantis[0]):\n",
        "    lista_tarifa.append(1)  \n",
        "  elif  (i < quantis[2])&(i >= quantis[1]):\n",
        "    lista_tarifa.append(2) \n",
        "  elif  (i < quantis[3])&(i >= quantis[2]):\n",
        "    lista_tarifa.append(3)\n",
        "  elif  (i < quantis[4])&(i >= quantis[3]):\n",
        "    lista_tarifa.append(4)\n",
        "  elif  (i < quantis[5])&(i >= quantis[4]):\n",
        "    lista_tarifa.append(5)\n",
        "  elif  (i < quantis[6])&(i >= quantis[5]):\n",
        "    lista_tarifa.append(6)\n",
        "  elif  (i < quantis[7])&(i >= quantis[6]):\n",
        "    lista_tarifa.append(7)\n",
        "  elif  (i < quantis[8])&(i >= quantis[7]):\n",
        "    lista_tarifa.append(8)\n",
        "  else :\n",
        "    lista_tarifa.append(9)    \n",
        "\n",
        "# Criando a variável Tarifa_estratificada\n",
        "dados['Tarifa_estratificada'] = lista_tarifa"
      ],
      "metadata": {
        "id": "Wr5xCn0GHTmA"
      },
      "execution_count": 50,
      "outputs": []
    },
    {
      "cell_type": "code",
      "source": [
        "# Plotando um gráfico para visualizar a proporção de sobrevivência dado a tarifa estratificada\n",
        "sns.countplot(x='Tarifa_estratificada',hue = 'Sobreviveu', data = dados)\n",
        "# Fica evidente que com o aumento da tarifa, a taxa de sobrevivência é maior.\n",
        "# O que está alinhado com os estudos feitos na variável Classe_economica, onde os da 3 º classe possuem a maior chance de não sobreviver."
      ],
      "metadata": {
        "colab": {
          "base_uri": "https://localhost:8080/",
          "height": 297
        },
        "id": "sPxxRbRkMs4O",
        "outputId": "ef8249f6-51b9-4cc5-8a83-91817995eedc"
      },
      "execution_count": 51,
      "outputs": [
        {
          "output_type": "execute_result",
          "data": {
            "text/plain": [
              "<matplotlib.axes._subplots.AxesSubplot at 0x7f43f8fa4c40>"
            ]
          },
          "metadata": {},
          "execution_count": 51
        },
        {
          "output_type": "display_data",
          "data": {
            "text/plain": [
              "<Figure size 432x288 with 1 Axes>"
            ],
            "image/png": "[encoded data removed]"
          },
          "metadata": {
            "needs_background": "light"
          }
        }
      ]
    },
    {
      "cell_type": "markdown",
      "source": [
        "## Embarque"
      ],
      "metadata": {
        "id": "6uyB6lvlpiiA"
      }
    },
    {
      "cell_type": "code",
      "source": [
        "# Visualizando a distribuição dessa variável\n",
        "dados['Embarque'].value_counts() # A maioria das pessoas embarcaram em S."
      ],
      "metadata": {
        "id": "V-EamcGapi5-",
        "colab": {
          "base_uri": "https://localhost:8080/",
          "height": 0
        },
        "outputId": "6ca0e91c-c152-4f56-c7b2-069c8c805328"
      },
      "execution_count": 15,
      "outputs": [
        {
          "output_type": "execute_result",
          "data": {
            "text/plain": [
              "S    916\n",
              "C    270\n",
              "Q    123\n",
              "Name: Embarque, dtype: int64"
            ]
          },
          "metadata": {},
          "execution_count": 15
        }
      ]
    },
    {
      "cell_type": "code",
      "source": [
        "# Visualizando o Embarque pela taxa de sobrevivência e sexo \n",
        "sns.displot(x='Embarque', data = dados, hue = 'Sexo',multiple = 'stack', col = 'Sobreviveu')\n",
        "# Vemos que a proporção de homens para mulheres de embarque 'S' parece ser bem maior do que a dos outros dois.\n",
        "# Vamos montar uma tabela com as porcentagens de sobrevivência para fazer uma análise mais precisa"
      ],
      "metadata": {
        "colab": {
          "base_uri": "https://localhost:8080/",
          "height": 386
        },
        "id": "B4TxpKMQO7yn",
        "outputId": "11ad555d-60d8-405c-f599-879f0cb4fc1f"
      },
      "execution_count": 31,
      "outputs": [
        {
          "output_type": "execute_result",
          "data": {
            "text/plain": [
              "<seaborn.axisgrid.FacetGrid at 0x7f8ef33f56a0>"
            ]
          },
          "metadata": {},
          "execution_count": 31
        },
        {
          "output_type": "display_data",
          "data": {
            "text/plain": [
              "<Figure size 790.5x360 with 2 Axes>"
            ],
            "image/png": "[encoded data removed]"
          },
          "metadata": {
            "needs_background": "light"
          }
        }
      ]
    },
    {
      "cell_type": "code",
      "source": [
        "# Verificando se existe diferença na taxa de sobrevivência quanto o local de Embarque\n",
        "lista = []\n",
        "for i in ['S','C','Q']:\n",
        "  porcentagens_i = dados[dados['Embarque']==i]['Sobreviveu'].value_counts()[1]/(dados[dados['Embarque']==i]['Sobreviveu'].value_counts()[0]+dados[dados['Embarque']==i]['Sobreviveu'].value_counts()[1])\n",
        "  lista.append((porcentagens_i*100).round(2))\n",
        "print(f'A taxa de sobrevivência de S, C e Q são , respectivamente, {lista}')\n",
        "# O esperado para 'S' era uma taxa pequena mesmo, por conta da alta concentração de homens.\n",
        "# Pra 'C' e 'Q', nota-se taxas próximas de 50%, oque é esperado por conta de ter uma quantidade de homens parecida com a de mulheres.\n",
        "# Portanto, podemos dizer que sabendo que uma pessoa embarcou em S, sua chance de sobrevivência é inferior aos passageiros que embarcaram nas demais."
      ],
      "metadata": {
        "colab": {
          "base_uri": "https://localhost:8080/",
          "height": 0
        },
        "id": "MMY8ZtCHHehl",
        "outputId": "6ed1ab29-3f73-4149-c7e7-05f82f52955e"
      },
      "execution_count": 35,
      "outputs": [
        {
          "output_type": "stream",
          "name": "stdout",
          "text": [
            "A taxa de sobrevivência de S, C e Q são , respectivamente, [33.52, 49.26, 43.9]\n"
          ]
        }
      ]
    },
    {
      "cell_type": "markdown",
      "source": [
        "## Idade"
      ],
      "metadata": {
        "id": "h3xVQTUckeaY"
      }
    },
    {
      "cell_type": "code",
      "source": [
        "# Só sobrou idade com valor faltante (263)\n",
        "dados['Idade'].isnull().sum()\n",
        "# Vamos primeiro fazer um tratamento de outras variáveis para encontrar os valores faltantes através de uma regressão linear.\n",
        "# Para isso precisamos que todas as variáveis sejam int ou float"
      ],
      "metadata": {
        "colab": {
          "base_uri": "https://localhost:8080/",
          "height": 0
        },
        "id": "i1YTF6hP_uqd",
        "outputId": "d90563ce-4b66-4000-cd51-3ae06069895f"
      },
      "execution_count": 56,
      "outputs": [
        {
          "output_type": "execute_result",
          "data": {
            "text/plain": [
              "263"
            ]
          },
          "metadata": {},
          "execution_count": 56
        }
      ]
    },
    {
      "cell_type": "code",
      "source": [
        "# Analisando se existe diferença para as outras variáveis numéricas\n",
        "from scipy.stats import ranksums\n",
        "print('Comparando os dados as pessoas que possuem registro de idade com as que não o possui, notamos que existe uma diferença significativa entre as seguintes variáveis numéricas. \\n')\n",
        "for i in ['Sobreviveu','Classe','Irmãos/Conjugue','Parentes/Crianças','Tarifa','Idade','Sexo','Embarque','Titulos','Acompanhantes']:\n",
        "  com_idade = dados[dados['Idade'].notnull()][i]\n",
        "  sem_idade = dados[dados['Idade'].isnull()][i]\n",
        "\n",
        "  z,pv = ranksums(com_idade,sem_idade)\n",
        "  if pv<0.05:\n",
        "    print(f'{i } : P-Value  {pv}')\n",
        "# Ou seja, os dados com idade faltante são diferentes entre, pelo menos, nas variáveis numéricas, ficando difícil encontrar motivo para a ausência desses dados. \n",
        "# Dessa forma, podemos concluir que não é MCAR, pois a falta desse dado não ocorre de forma aleatória. \n",
        "# Logo, não podemos simplesmente apagar os dados(além do fato que representa uma parcela significativa do dataset).\n",
        "# Utilizaremos o metodo de preenchimento de dados faltantes através de uma regressão linear(https://bookdown.org/mwheymans/bookmi/single-missing-data-imputation.html)"
      ],
      "metadata": {
        "colab": {
          "base_uri": "https://localhost:8080/",
          "height": 0
        },
        "id": "N5H9AiFAixjd",
        "outputId": "4e11ff27-b925-4180-c7a5-4064cff1f0bf"
      },
      "execution_count": 57,
      "outputs": [
        {
          "output_type": "stream",
          "name": "stdout",
          "text": [
            "Comparando os dados as pessoas que possuem registro de idade com as que não o possui, notamos que existe uma diferença significativa entre as seguintes variáveis numéricas. \n",
            "\n",
            "Sobreviveu : P-Value  0.007867463275995829\n",
            "Classe : P-Value  2.5806617083620215e-13\n",
            "Irmãos/Conjugue : P-Value  0.0025721301437453834\n",
            "Parentes/Crianças : P-Value  0.00018862726501565986\n",
            "Tarifa : P-Value  4.132080906279807e-15\n",
            "Idade : P-Value  5.009766525092384e-139\n",
            "Embarque : P-Value  4.0246586876992904e-07\n",
            "Acompanhantes : P-Value  1.7424709728708123e-06\n"
          ]
        }
      ]
    },
    {
      "cell_type": "markdown",
      "source": [
        "### Transformando alguma variáveis para modelo de ML"
      ],
      "metadata": {
        "id": "rfyKwxPsFsrw"
      }
    },
    {
      "cell_type": "code",
      "source": [
        "# Transformando a variável Sexo em numérica \n",
        "troca_sexo = {'male': 1,\n",
        "              'female': 0}\n",
        "dados['Sexo'] = dados['Sexo'].map(troca_sexo)            "
      ],
      "metadata": {
        "id": "vRSiiO0yFxDW"
      },
      "execution_count": 58,
      "outputs": []
    },
    {
      "cell_type": "code",
      "source": [
        "# Transformando a variável Titulos em numérica \n",
        "troca_titulos = {'Mr.':0,\n",
        "                 'Mrs.':5,\n",
        "                 'Miss.':4,\n",
        "                 'Master.':3,\n",
        "                 'Outros Homens Nobres':1,\n",
        "                 'Outras Mulheres Nobres':6,\n",
        "                 'Militares':2}\n",
        "dados['Titulos'] = dados['Titulos'].map(troca_titulos)"
      ],
      "metadata": {
        "id": "lFvyxklsGjja"
      },
      "execution_count": 59,
      "outputs": []
    },
    {
      "cell_type": "code",
      "source": [
        "# Transformando a variável Embarque em numérica \n",
        "troca_embarque = {'S':0,\n",
        "                        'C':1,\n",
        "                        'Q':2}\n",
        "dados['Embarque'] = dados['Embarque'].map(troca_embarque)  "
      ],
      "metadata": {
        "id": "yHwSnIw2H8BV"
      },
      "execution_count": 60,
      "outputs": []
    },
    {
      "cell_type": "markdown",
      "source": [
        "### Criando modelo de ML (regressão linear) para preencher valores faltantes"
      ],
      "metadata": {
        "id": "EzIw-FqiAaJd"
      }
    },
    {
      "cell_type": "code",
      "source": [
        "# Separando os items que possuem o valor de idade dos que não possuem.\n",
        "dados_com_idade = dados[dados['Idade'].notnull()]\n",
        "dados_sem_idade = dados[dados['Idade'].isnull()]"
      ],
      "metadata": {
        "id": "hUuLQoRVBtW2"
      },
      "execution_count": 61,
      "outputs": []
    },
    {
      "cell_type": "code",
      "source": [
        "# Criando o modelo de regressão linear para \n",
        "from sklearn.linear_model import LinearRegression\n",
        "from sklearn.metrics import accuracy_score\n",
        "from sklearn.model_selection import train_test_split\n",
        "from sklearn.preprocessing import StandardScaler\n",
        "\n",
        "x_train, x_test, y_train, y_test = train_test_split(dados_com_idade.drop(['Idade'],axis = 1),dados_com_idade[['Idade']])\n",
        "\n",
        "model = LinearRegression()\n",
        "model.fit(x_train,y_train)"
      ],
      "metadata": {
        "colab": {
          "base_uri": "https://localhost:8080/",
          "height": 0
        },
        "id": "K1fvunivAldx",
        "outputId": "968f7abd-22c5-41bd-80b5-17ccd825a765"
      },
      "execution_count": 62,
      "outputs": [
        {
          "output_type": "execute_result",
          "data": {
            "text/plain": [
              "LinearRegression()"
            ]
          },
          "metadata": {},
          "execution_count": 62
        }
      ]
    },
    {
      "cell_type": "code",
      "source": [
        "# Salvando as previsões\n",
        "previsoes_idade = model.predict(dados_sem_idade.drop(['Idade'],axis = 1)).round(1)\n",
        "plt.hist(previsoes_idade)\n",
        "# Algumas vezes, ao rodar a regressão gera-se valores negativos muito pequenos.\n",
        "# É necessário então \"Positivar\" previsoes_idade. Vamos Substituir esses valores negativos (que são muito pequenos) a zero."
      ],
      "metadata": {
        "colab": {
          "base_uri": "https://localhost:8080/",
          "height": 317
        },
        "id": "IEt7X7cRAoaE",
        "outputId": "a5e0f9c9-0d83-4e29-c60e-4d420d64fb84"
      },
      "execution_count": 63,
      "outputs": [
        {
          "output_type": "execute_result",
          "data": {
            "text/plain": [
              "(array([  2.,   6.,   3.,  15.,  35., 133.,  19.,  17.,  16.,  17.]),\n",
              " array([ 0.3,  5. ,  9.7, 14.4, 19.1, 23.8, 28.5, 33.2, 37.9, 42.6, 47.3]),\n",
              " <a list of 10 Patch objects>)"
            ]
          },
          "metadata": {},
          "execution_count": 63
        },
        {
          "output_type": "display_data",
          "data": {
            "text/plain": [
              "<Figure size 432x288 with 1 Axes>"
            ],
            "image/png": "[encoded data removed]"
          },
          "metadata": {
            "needs_background": "light"
          }
        }
      ]
    },
    {
      "cell_type": "code",
      "source": [
        "# Antes de substituir por zero, precisamos pegar previsoes idades (onde cada Yi é um array) e transformar em um array só.\n",
        "\n",
        "# Retirando os [] dos números já que o resultado da regressão é um array de arrays.(Deve ter um jeito mais simples do que eu fiz para fazer isso)\n",
        "lista_previsoes = []\n",
        "for i in previsoes_idade:\n",
        "  if i == 0:\n",
        "    lista_previsoes.append(i)\n",
        "  else:\n",
        "    lista_previsoes.append(i[0])\n",
        "previsoes_idade = lista_previsoes\n",
        "\n",
        "# Substituindo por 0 os valores negativos\n",
        "lista_idade_positiva = []\n",
        "for i in previsoes_idade:\n",
        "  if i < 0:\n",
        "    lista_idade_positiva.append(0)\n",
        "  else:\n",
        "    lista_idade_positiva.append(i)\n",
        "previsoes_idade = lista_idade_positiva \n",
        "\n",
        "# Visualizando previsoes_idade com valores positivos\n",
        "plt.hist(previsoes_idade) # Como se nota, a maioria dos valores que ele utilizou para preencher está entre 20 ~ 30 anos."
      ],
      "metadata": {
        "id": "kOof6YvlfovC",
        "colab": {
          "base_uri": "https://localhost:8080/",
          "height": 317
        },
        "outputId": "1c1d5673-711f-4b74-b528-ae258baea3a9"
      },
      "execution_count": 64,
      "outputs": [
        {
          "output_type": "execute_result",
          "data": {
            "text/plain": [
              "(array([  2.,   6.,   3.,  15.,  35., 133.,  19.,  17.,  16.,  17.]),\n",
              " array([ 0.3,  5. ,  9.7, 14.4, 19.1, 23.8, 28.5, 33.2, 37.9, 42.6, 47.3]),\n",
              " <a list of 10 Patch objects>)"
            ]
          },
          "metadata": {},
          "execution_count": 64
        },
        {
          "output_type": "display_data",
          "data": {
            "text/plain": [
              "<Figure size 432x288 with 1 Axes>"
            ],
            "image/png": "[encoded data removed]"
          },
          "metadata": {
            "needs_background": "light"
          }
        }
      ]
    },
    {
      "cell_type": "code",
      "source": [
        "# Atribuindo os valores que obtivemos através da regressão aos itens que possuiam Idade faltantes\n",
        "dados_sem_idade['Idade'] = previsoes_idade\n",
        "\n",
        "# Juntando de novo e obtendo o dataset com as idades preenchidas\n",
        "dados_idade = pd.concat([dados_com_idade,dados_sem_idade],axis = 0).sort_values(by='Id')\n",
        "# Agora podemos fazer a análise em cima da variável Idade"
      ],
      "metadata": {
        "id": "D1YXSdM1LBM3",
        "colab": {
          "base_uri": "https://localhost:8080/",
          "height": 0
        },
        "outputId": "3f3ecdd2-db39-4335-daec-9e150af70793"
      },
      "execution_count": 65,
      "outputs": [
        {
          "output_type": "stream",
          "name": "stderr",
          "text": [
            "<ipython-input-65-05c8232ae283>:2: SettingWithCopyWarning: \n",
            "A value is trying to be set on a copy of a slice from a DataFrame.\n",
            "Try using .loc[row_indexer,col_indexer] = value instead\n",
            "\n",
            "See the caveats in the documentation: https://pandas.pydata.org/pandas-docs/stable/user_guide/indexing.html#returning-a-view-versus-a-copy\n",
            "  dados_sem_idade['Idade'] = previsoes_idade\n"
          ]
        }
      ]
    },
    {
      "cell_type": "markdown",
      "source": [
        "### Analise da idade"
      ],
      "metadata": {
        "id": "GnDfyD6YMPz4"
      }
    },
    {
      "cell_type": "code",
      "source": [
        "# Visualizando o Antes e o depois do preenchimento.\n",
        "fig, (ax1,ax2) = plt.subplots(1,2,sharey = True)\n",
        "ax1.hist('Idade', data = dados)\n",
        "ax2.hist('Idade', data = dados_idade)"
      ],
      "metadata": {
        "colab": {
          "base_uri": "https://localhost:8080/",
          "height": 334
        },
        "id": "-bFSpPP4dmnm",
        "outputId": "b54afad9-c962-47ec-a440-08d0049f284e"
      },
      "execution_count": 66,
      "outputs": [
        {
          "output_type": "execute_result",
          "data": {
            "text/plain": [
              "(array([ 80.,  65., 329., 396., 189., 131.,  65.,  41.,  10.,   3.]),\n",
              " array([ 0.17 ,  8.153, 16.136, 24.119, 32.102, 40.085, 48.068, 56.051,\n",
              "        64.034, 72.017, 80.   ]),\n",
              " <a list of 10 Patch objects>)"
            ]
          },
          "metadata": {},
          "execution_count": 66
        },
        {
          "output_type": "display_data",
          "data": {
            "text/plain": [
              "<Figure size 432x288 with 2 Axes>"
            ],
            "image/png": "[encoded data removed]"
          },
          "metadata": {
            "needs_background": "light"
          }
        }
      ]
    },
    {
      "cell_type": "markdown",
      "source": [
        "Criando a variável Idade_estratificada"
      ],
      "metadata": {
        "id": "HlRWUnrUkQy_"
      }
    },
    {
      "cell_type": "code",
      "source": [
        "# Vamos criar essa nova variável para realizar algumas visualizações com o seaborn.\n",
        "\n",
        "# Encontrando as classes através dos quantis:\n",
        "quantis = []\n",
        "for i in [0.1,0.2,0.3,0.4,0.5,0.6,0.7,0.8,0.9]:\n",
        "  quantis.append(dados_idade['Idade'].quantile(i).round(0))\n",
        "quantis  "
      ],
      "metadata": {
        "colab": {
          "base_uri": "https://localhost:8080/",
          "height": 0
        },
        "id": "hFgYwWcJlk-O",
        "outputId": "1b6815cb-3141-4122-e20b-9a4a70bbf8ea"
      },
      "execution_count": 67,
      "outputs": [
        {
          "output_type": "execute_result",
          "data": {
            "text/plain": [
              "[16.0, 20.0, 23.0, 25.0, 28.0, 30.0, 34.0, 40.0, 48.0]"
            ]
          },
          "metadata": {},
          "execution_count": 67
        }
      ]
    },
    {
      "cell_type": "code",
      "source": [
        "# Criando as classes:\n",
        "lista_idade_estratificada = []\n",
        "\n",
        "for i in dados_idade['Idade']:\n",
        "  if i <= quantis[0] :\n",
        "    lista_idade_estratificada.append(0)\n",
        "  elif (i <= quantis[1]) & (i > quantis[0]):  \n",
        "    lista_idade_estratificada.append(1)\n",
        "  elif (i <= quantis[2]) & (i > quantis[1]):  \n",
        "    lista_idade_estratificada.append(2)  \n",
        "  elif (i <= quantis[3]) & (i > quantis[2]):  \n",
        "    lista_idade_estratificada.append(3)\n",
        "  elif (i <= quantis[4]) & (i > quantis[3]):  \n",
        "    lista_idade_estratificada.append(4)\n",
        "  elif (i <= quantis[5]) & (i > quantis[4]):  \n",
        "    lista_idade_estratificada.append(5)\n",
        "  elif (i <= quantis[6]) & (i > quantis[5]):  \n",
        "    lista_idade_estratificada.append(6)\n",
        "  elif (i <= quantis[7]) & (i > quantis[6]):  \n",
        "    lista_idade_estratificada.append(7)\n",
        "  elif (i <= quantis[8]) & (i > quantis[7]):  \n",
        "    lista_idade_estratificada.append(8)\n",
        "  else:  \n",
        "    lista_idade_estratificada.append(9)\n",
        "\n",
        "# Atribuindo as classes à variável\n",
        "dados_idade['Idade_estratificada'] = lista_idade_estratificada"
      ],
      "metadata": {
        "id": "kztwIfv6kQB7"
      },
      "execution_count": 68,
      "outputs": []
    },
    {
      "cell_type": "code",
      "source": [
        "# Visualizando a porcentagem de sobrevivência:\n",
        "tabela = pd.DataFrame()\n",
        "viveu = dados_idade[dados_idade['Sobreviveu'] == 1]['Idade_estratificada'].value_counts().sort_index()\n",
        "morreu = dados_idade[dados_idade['Sobreviveu'] == 0]['Idade_estratificada'].value_counts().sort_index()\n",
        "                   \n",
        "tabela['Porcentagem'] = ((viveu/(morreu + viveu))*100).round(2)\n",
        "tabela['Idade_estratificada'] = ['< 16','16-20','20-23','23-25','25-28','28-30','30-34','34-40','40-48','> 48']\n",
        "\n",
        "ax = sns.barplot(x = 'Idade_estratificada',y = 'Porcentagem', data = tabela)\n",
        "ax.set_ylim(0,100)\n",
        "# Os jovens possuem uma alta taxa de sobrevivencia até os 25 anos (com destaque aos menores de 16), o que condiz com o filme (mulheres e CRIANÇAS na frente)\n",
        "#  enquanto os 'jovens adultos' de 25 - 30 possuem uma taxa muito menor, o que é estranho.."
      ],
      "metadata": {
        "colab": {
          "base_uri": "https://localhost:8080/",
          "height": 301
        },
        "id": "TAiU85yaeVBO",
        "outputId": "9b5eb42a-578c-4fd2-d379-84f1db568f52"
      },
      "execution_count": 69,
      "outputs": [
        {
          "output_type": "execute_result",
          "data": {
            "text/plain": [
              "(0.0, 100.0)"
            ]
          },
          "metadata": {},
          "execution_count": 69
        },
        {
          "output_type": "display_data",
          "data": {
            "text/plain": [
              "<Figure size 432x288 with 1 Axes>"
            ],
            "image/png": "[encoded data removed]"
          },
          "metadata": {
            "needs_background": "light"
          }
        }
      ]
    },
    {
      "cell_type": "code",
      "source": [
        "# Visualizando a diferença de porcentagem de sobrevivência entre homens e mulheres.\n",
        "\n",
        "# Vamos criar um dataframe para visualizar como tabela(Dataframe) e como gráfico de barras\n",
        "\n",
        "# Gerando o Dataframe\n",
        "dados_idade_homens = dados_idade[dados_idade['Sexo'] == 1]\n",
        "total_idade_homem = dados_idade_homens['Idade_estratificada'].value_counts().sort_index()\n",
        "viveu_idade_homem = dados_idade_homens[dados_idade_homens['Sobreviveu']==1]['Idade_estratificada'].value_counts().sort_index()\n",
        "porcentagem_idade_homem = ((viveu_idade_homem / total_idade_homem)*100).round(2)\n",
        "dados_idade_mulher = dados_idade[dados_idade['Sexo'] == 0]\n",
        "total_idade_mulher = dados_idade_mulher['Idade_estratificada'].value_counts().sort_index()\n",
        "viveu_idade_mulher = dados_idade_mulher[dados_idade_mulher['Sobreviveu']==1]['Idade_estratificada'].value_counts().sort_index()\n",
        "porcentagem_idade_mulher = ((viveu_idade_mulher / total_idade_mulher)*100).round(2)\n",
        "\n",
        "\n",
        "dic_idade =  {'Index':['< 16','16-20','20-23','23-25','25-28','28-30','30-34','34-40','40-48','> 48'],\n",
        "              '% homem':porcentagem_idade_homem.values,\n",
        "              '% mulher':porcentagem_idade_mulher.values,\n",
        "              'Diferença':porcentagem_idade_mulher.values-porcentagem_idade_homem.values }\n",
        "\n",
        "df_idade = pd.DataFrame(dic_idade)\n",
        "df_idade\n",
        "# As maiores diferenças ocorrem nas faixas : > 48 ,20-23,34-40,28-30,23-25"
      ],
      "metadata": {
        "colab": {
          "base_uri": "https://localhost:8080/",
          "height": 363
        },
        "id": "KyTQEg159ceI",
        "outputId": "31567fc5-74fc-49f1-e90d-3937d5c4bb98"
      },
      "execution_count": 70,
      "outputs": [
        {
          "output_type": "execute_result",
          "data": {
            "text/plain": [
              "   Index  % homem  % mulher  Diferença\n",
              "0   < 16    31.17     72.06      40.89\n",
              "1  16-20    13.33     82.26      68.93\n",
              "2  20-23     4.94     86.00      81.06\n",
              "3  23-25    12.12     84.62      72.50\n",
              "4  25-28     8.66     76.47      67.81\n",
              "5  28-30     4.35     77.14      72.79\n",
              "6  30-34    21.88     86.21      64.33\n",
              "7  34-40    17.98     91.38      73.40\n",
              "8  40-48     9.68     76.32      66.64\n",
              "9   > 48    11.39     95.00      83.61"
            ],
            "text/html": [
              "\n",
              "  <div id=\"df-468b0a6d-aff6-49d3-b820-9eea445656ec\">\n",
              "    <div class=\"colab-df-container\">\n",
              "      <div>\n",
              "<style scoped>\n",
              "    .dataframe tbody tr th:only-of-type {\n",
              "        vertical-align: middle;\n",
              "    }\n",
              "\n",
              "    .dataframe tbody tr th {\n",
              "        vertical-align: top;\n",
              "    }\n",
              "\n",
              "    .dataframe thead th {\n",
              "        text-align: right;\n",
              "    }\n",
              "</style>\n",
              "<table border=\"1\" class=\"dataframe\">\n",
              "  <thead>\n",
              "    <tr style=\"text-align: right;\">\n",
              "      <th></th>\n",
              "      <th>Index</th>\n",
              "      <th>% homem</th>\n",
              "      <th>% mulher</th>\n",
              "      <th>Diferença</th>\n",
              "    </tr>\n",
              "  </thead>\n",
              "  <tbody>\n",
              "    <tr>\n",
              "      <th>0</th>\n",
              "      <td>&lt; 16</td>\n",
              "      <td>31.17</td>\n",
              "      <td>72.06</td>\n",
              "      <td>40.89</td>\n",
              "    </tr>\n",
              "    <tr>\n",
              "      <th>1</th>\n",
              "      <td>16-20</td>\n",
              "      <td>13.33</td>\n",
              "      <td>82.26</td>\n",
              "      <td>68.93</td>\n",
              "    </tr>\n",
              "    <tr>\n",
              "      <th>2</th>\n",
              "      <td>20-23</td>\n",
              "      <td>4.94</td>\n",
              "      <td>86.00</td>\n",
              "      <td>81.06</td>\n",
              "    </tr>\n",
              "    <tr>\n",
              "      <th>3</th>\n",
              "      <td>23-25</td>\n",
              "      <td>12.12</td>\n",
              "      <td>84.62</td>\n",
              "      <td>72.50</td>\n",
              "    </tr>\n",
              "    <tr>\n",
              "      <th>4</th>\n",
              "      <td>25-28</td>\n",
              "      <td>8.66</td>\n",
              "      <td>76.47</td>\n",
              "      <td>67.81</td>\n",
              "    </tr>\n",
              "    <tr>\n",
              "      <th>5</th>\n",
              "      <td>28-30</td>\n",
              "      <td>4.35</td>\n",
              "      <td>77.14</td>\n",
              "      <td>72.79</td>\n",
              "    </tr>\n",
              "    <tr>\n",
              "      <th>6</th>\n",
              "      <td>30-34</td>\n",
              "      <td>21.88</td>\n",
              "      <td>86.21</td>\n",
              "      <td>64.33</td>\n",
              "    </tr>\n",
              "    <tr>\n",
              "      <th>7</th>\n",
              "      <td>34-40</td>\n",
              "      <td>17.98</td>\n",
              "      <td>91.38</td>\n",
              "      <td>73.40</td>\n",
              "    </tr>\n",
              "    <tr>\n",
              "      <th>8</th>\n",
              "      <td>40-48</td>\n",
              "      <td>9.68</td>\n",
              "      <td>76.32</td>\n",
              "      <td>66.64</td>\n",
              "    </tr>\n",
              "    <tr>\n",
              "      <th>9</th>\n",
              "      <td>&gt; 48</td>\n",
              "      <td>11.39</td>\n",
              "      <td>95.00</td>\n",
              "      <td>83.61</td>\n",
              "    </tr>\n",
              "  </tbody>\n",
              "</table>\n",
              "</div>\n",
              "      <button class=\"colab-df-convert\" onclick=\"convertToInteractive('df-468b0a6d-aff6-49d3-b820-9eea445656ec')\"\n",
              "              title=\"Convert this dataframe to an interactive table.\"\n",
              "              style=\"display:none;\">\n",
              "        \n",
              "  <svg xmlns=\"http://www.w3.org/2000/svg\" height=\"24px\"viewBox=\"0 0 24 24\"\n",
              "       width=\"24px\">\n",
              "    <path d=\"M0 0h24v24H0V0z\" fill=\"none\"/>\n",
              "    <path d=\"M18.56 5.44l.94 2.06.94-2.06 2.06-.94-2.06-.94-.94-2.06-.94 2.06-2.06.94zm-11 1L8.5 8.5l.94-2.06 2.06-.94-2.06-.94L8.5 2.5l-.94 2.06-2.06.94zm10 10l.94 2.06.94-2.06 2.06-.94-2.06-.94-.94-2.06-.94 2.06-2.06.94z\"/><path d=\"M17.41 7.96l-1.37-1.37c-.4-.4-.92-.59-1.43-.59-.52 0-1.04.2-1.43.59L10.3 9.45l-7.72 7.72c-.78.78-.78 2.05 0 2.83L4 21.41c.39.39.9.59 1.41.59.51 0 1.02-.2 1.41-.59l7.78-7.78 2.81-2.81c.8-.78.8-2.07 0-2.86zM5.41 20L4 18.59l7.72-7.72 1.47 1.35L5.41 20z\"/>\n",
              "  </svg>\n",
              "      </button>\n",
              "      \n",
              "  <style>\n",
              "    .colab-df-container {\n",
              "      display:flex;\n",
              "      flex-wrap:wrap;\n",
              "      gap: 12px;\n",
              "    }\n",
              "\n",
              "    .colab-df-convert {\n",
              "      background-color: #E8F0FE;\n",
              "      border: none;\n",
              "      border-radius: 50%;\n",
              "      cursor: pointer;\n",
              "      display: none;\n",
              "      fill: #1967D2;\n",
              "      height: 32px;\n",
              "      padding: 0 0 0 0;\n",
              "      width: 32px;\n",
              "    }\n",
              "\n",
              "    .colab-df-convert:hover {\n",
              "      background-color: #E2EBFA;\n",
              "      box-shadow: 0px 1px 2px rgba(60, 64, 67, 0.3), 0px 1px 3px 1px rgba(60, 64, 67, 0.15);\n",
              "      fill: #174EA6;\n",
              "    }\n",
              "\n",
              "    [theme=dark] .colab-df-convert {\n",
              "      background-color: #3B4455;\n",
              "      fill: #D2E3FC;\n",
              "    }\n",
              "\n",
              "    [theme=dark] .colab-df-convert:hover {\n",
              "      background-color: #434B5C;\n",
              "      box-shadow: 0px 1px 3px 1px rgba(0, 0, 0, 0.15);\n",
              "      filter: drop-shadow(0px 1px 2px rgba(0, 0, 0, 0.3));\n",
              "      fill: #FFFFFF;\n",
              "    }\n",
              "  </style>\n",
              "\n",
              "      <script>\n",
              "        const buttonEl =\n",
              "          document.querySelector('#df-468b0a6d-aff6-49d3-b820-9eea445656ec button.colab-df-convert');\n",
              "        buttonEl.style.display =\n",
              "          google.colab.kernel.accessAllowed ? 'block' : 'none';\n",
              "\n",
              "        async function convertToInteractive(key) {\n",
              "          const element = document.querySelector('#df-468b0a6d-aff6-49d3-b820-9eea445656ec');\n",
              "          const dataTable =\n",
              "            await google.colab.kernel.invokeFunction('convertToInteractive',\n",
              "                                                     [key], {});\n",
              "          if (!dataTable) return;\n",
              "\n",
              "          const docLinkHtml = 'Like what you see? Visit the ' +\n",
              "            '<a target=\"_blank\" href=https://colab.research.google.com/notebooks/data_table.ipynb>data table notebook</a>'\n",
              "            + ' to learn more about interactive tables.';\n",
              "          element.innerHTML = '';\n",
              "          dataTable['output_type'] = 'display_data';\n",
              "          await google.colab.output.renderOutput(dataTable, element);\n",
              "          const docLink = document.createElement('div');\n",
              "          docLink.innerHTML = docLinkHtml;\n",
              "          element.appendChild(docLink);\n",
              "        }\n",
              "      </script>\n",
              "    </div>\n",
              "  </div>\n",
              "  "
            ]
          },
          "metadata": {},
          "execution_count": 70
        }
      ]
    },
    {
      "cell_type": "code",
      "source": [
        "# Visualizando graficamente o dataframe\n",
        "sns.barplot(x= 'Index',y='Diferença', data = df_idade)\n",
        "# Nota-se que entre as crianças (< 16 anos ), homens e mulheres apresentam uma chance maior de sobrevivencia, sendo que a da menina é o dobro da do menino.\n",
        "# Já nas outras faixas etárias, a chance de sobrevivencia do homem é coisa de 5-7 vezes menor do que as mulheres.\n",
        "# Para os mais velhos (> 48 ) a chance de sobrevivencia das mulheres é coisa de 8-9 vezes maior do que a dos homens dessa faixa etária.\n"
      ],
      "metadata": {
        "colab": {
          "base_uri": "https://localhost:8080/",
          "height": 296
        },
        "id": "O2Inz4pCkEJi",
        "outputId": "32606e2c-b06a-4c8f-e0f5-edb69dff9837"
      },
      "execution_count": 71,
      "outputs": [
        {
          "output_type": "execute_result",
          "data": {
            "text/plain": [
              "<matplotlib.axes._subplots.AxesSubplot at 0x7f43f3708880>"
            ]
          },
          "metadata": {},
          "execution_count": 71
        },
        {
          "output_type": "display_data",
          "data": {
            "text/plain": [
              "<Figure size 432x288 with 1 Axes>"
            ],
            "image/png": "[encoded data removed]"
          },
          "metadata": {
            "needs_background": "light"
          }
        }
      ]
    }
  ]
}